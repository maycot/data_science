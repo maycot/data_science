{
 "cells": [
  {
   "cell_type": "code",
   "execution_count": 1,
   "metadata": {},
   "outputs": [],
   "source": [
    "%matplotlib inline\n",
    "\n",
    "import sys\n",
    "sys.path.append('..')\n",
    "import numpy as np\n",
    "from utils.dataset_tools import (load_csv_to_df, dump_df_to_csv, make_train_test_set)\n",
    "from model import apply_algo\n",
    "\n",
    "\n",
    "path = '../data/'\n",
    "filename = \"dataset_lac.csv\""
   ]
  },
  {
   "cell_type": "markdown",
   "metadata": {},
   "source": [
    "### Apply model"
   ]
  },
  {
   "cell_type": "code",
   "execution_count": 2,
   "metadata": {},
   "outputs": [],
   "source": [
    "df_train = load_csv_to_df(path, filename)"
   ]
  },
  {
   "cell_type": "code",
   "execution_count": 3,
   "metadata": {},
   "outputs": [
    {
     "data": {
      "text/plain": [
       "(8385444, 60)"
      ]
     },
     "execution_count": 3,
     "metadata": {},
     "output_type": "execute_result"
    }
   ],
   "source": [
    "df_train.shape"
   ]
  },
  {
   "cell_type": "code",
   "execution_count": 4,
   "metadata": {},
   "outputs": [
    {
     "data": {
      "text/plain": [
       "['ident',\n",
       " 'ict1',\n",
       " 'bni',\n",
       " 'datins',\n",
       " 'datins0',\n",
       " 'numpec',\n",
       " 'cat_reg',\n",
       " 'ale',\n",
       " 'motins',\n",
       " 'sexe',\n",
       " 'depcom',\n",
       " 'montant_indem',\n",
       " 'duree_indem',\n",
       " 'rome',\n",
       " 'contrat',\n",
       " 'h_trav',\n",
       " 's_trav',\n",
       " 'nreg',\n",
       " 'bassin',\n",
       " 'score_forma_diag',\n",
       " 'age',\n",
       " 'age_categ',\n",
       " 'month',\n",
       " 'year',\n",
       " 'trim',\n",
       " 'r1',\n",
       " 'r23',\n",
       " 'r34',\n",
       " 'domaine_pro',\n",
       " 'mobil',\n",
       " 'benefrsa',\n",
       " 'form2',\n",
       " 'form1',\n",
       " 'th',\n",
       " 'qual2',\n",
       " 'qual1',\n",
       " 'motif',\n",
       " 'exper_classe',\n",
       " 'temps_plein',\n",
       " 'nenf',\n",
       " 'salaire',\n",
       " 'resqpv',\n",
       " 'dipl',\n",
       " 'matrimon',\n",
       " 'axetrav',\n",
       " 'dep',\n",
       " 'nreg_dep_recod',\n",
       " 'dep_recod',\n",
       " 'ale_recod',\n",
       " 'sms',\n",
       " 'mail',\n",
       " 'isctp',\n",
       " 'isentrep',\n",
       " 'lag4_delta3_ict1_dep_rome_ratio',\n",
       " 'lag4_delta3_ict1_dep_domaine_pro_ratio',\n",
       " 'lag4_delta3_ict1_dep_rome_count',\n",
       " 'lag12_ict1_dep_domaine_pro_ratio',\n",
       " 'lag12_ident_dep_count',\n",
       " 'lag1_domaine_pro_dep_ratio',\n",
       " 'lag1_dep_domaine_pro_ratio']"
      ]
     },
     "execution_count": 4,
     "metadata": {},
     "output_type": "execute_result"
    }
   ],
   "source": [
    "df_train.columns.tolist()"
   ]
  },
  {
   "cell_type": "code",
   "execution_count": 4,
   "metadata": {},
   "outputs": [],
   "source": [
    "year_test = 2017\n",
    "month_test = 8\n",
    "delta_train_set = 6\n",
    "\n",
    "df_train, df_valid = make_train_test_set(df_train, year_test, month_test, delta_train_set)\n",
    "df_train = df_train.replace([np.inf, -np.inf], np.nan).dropna()\n",
    "df_valid = df_valid.replace([np.inf, -np.inf], np.nan).dropna()"
   ]
  },
  {
   "cell_type": "code",
   "execution_count": 5,
   "metadata": {},
   "outputs": [
    {
     "data": {
      "text/plain": [
       "((870114, 60), (133577, 60))"
      ]
     },
     "execution_count": 5,
     "metadata": {},
     "output_type": "execute_result"
    }
   ],
   "source": [
    "df_train.shape, df_valid.shape"
   ]
  },
  {
   "cell_type": "code",
   "execution_count": 6,
   "metadata": {},
   "outputs": [],
   "source": [
    "df_train.numpec = df_train.numpec.astype(int) / 10\n",
    "df_valid.numpec = df_valid.numpec.astype(int) / 10"
   ]
  },
  {
   "cell_type": "code",
   "execution_count": 10,
   "metadata": {},
   "outputs": [],
   "source": [
    "df_train = df_train[df_train.domaine_pro != \"B17\"]\n",
    "df_valid = df_valid[df_valid.domaine_pro != \"B17\"]"
   ]
  },
  {
   "cell_type": "code",
   "execution_count": 13,
   "metadata": {},
   "outputs": [],
   "source": [
    "n_estimators = 500\n",
    "max_depth = None\n",
    "n_jobs = -1\n",
    "graph = True\n",
    "\n",
    "num_list = ['ict1',\n",
    "            'age_categ',\n",
    "            'numpec',\n",
    "            'montant_indem',\n",
    "            'duree_indem',\n",
    "            'sms',\n",
    "            'axetrav',\n",
    "            'mail',\n",
    "            'isctp',\n",
    "            'isentrep',\n",
    "            'h_trav',\n",
    "            's_trav',\n",
    "            'r23',\n",
    "            'r34',\n",
    "            'motif',\n",
    "            'exper_classe',\n",
    "            'nreg',\n",
    "            'cat_reg',\n",
    "            'month',\n",
    "            'dep_recod',\n",
    "            'nreg_dep_recod',\n",
    "            'ale_recod',\n",
    "            'salaire',\n",
    "            'mobil',\n",
    "            'form1',\n",
    "            'qual2',\n",
    "            'score_forma_diag',\n",
    "            'benefrsa',\n",
    "            'temps_plein',\n",
    "            'dipl',\n",
    "            'contrat',\n",
    "            'th',\n",
    "            'resqpv',\n",
    "            'nenf',\n",
    "            'matrimon',\n",
    "            'lag4_delta3_ict1_dep_rome_ratio',\n",
    "            'lag4_delta3_ict1_dep_domaine_pro_ratio',\n",
    "            'lag4_delta3_ict1_dep_rome_count',\n",
    "            'lag12_ict1_dep_domaine_pro_ratio',\n",
    "            'lag12_ident_dep_count',\n",
    "            'lag1_domaine_pro_dep_ratio',\n",
    "            'lag1_dep_domaine_pro_ratio'  \n",
    "           ]\n",
    "\n",
    "cat_list = []"
   ]
  },
  {
   "cell_type": "code",
   "execution_count": 14,
   "metadata": {},
   "outputs": [
    {
     "name": "stdout",
     "output_type": "stream",
     "text": [
      "\n",
      "Done in min : 25.11747061808904\n",
      "\n",
      "auc : 0.711310659057213\n",
      "accuracy : 0.6541320736354312\n",
      "\n",
      "Feature ranking:\n",
      "1. feature 2 montant_indem (0.064474)\n",
      "2. feature 20 ale_recod (0.059545)\n",
      "3. feature 3 duree_indem (0.058267)\n",
      "4. feature 36 lag4_delta3_ict1_dep_rome_count (0.050348)\n",
      "5. feature 38 lag12_ident_dep_count (0.046835)\n",
      "6. feature 34 lag4_delta3_ict1_dep_rome_ratio (0.046519)\n",
      "7. feature 25 score_forma_diag (0.046352)\n",
      "8. feature 37 lag12_ict1_dep_domaine_pro_ratio (0.045165)\n",
      "9. feature 35 lag4_delta3_ict1_dep_domaine_pro_ratio (0.043032)\n",
      "10. feature 21 salaire (0.039818)\n",
      "11. feature 1 numpec (0.038389)\n",
      "12. feature 18 dep_recod (0.037072)\n",
      "13. feature 11 r23 (0.030656)\n",
      "14. feature 12 r34 (0.029845)\n",
      "15. feature 39 lag1_domaine_pro_dep_ratio (0.027505)\n",
      "16. feature 9 h_trav (0.026103)\n",
      "17. feature 19 nreg_dep_recod (0.025847)\n",
      "18. feature 13 motif (0.025718)\n",
      "19. feature 15 nreg (0.024002)\n",
      "20. feature 17 month (0.023033)\n",
      "21. feature 40 lag1_dep_domaine_pro_ratio (0.020113)\n",
      "22. feature 5 axetrav (0.019411)\n",
      "23. feature 14 exper_classe (0.019390)\n",
      "24. feature 23 form1 (0.018559)\n",
      "25. feature 10 s_trav (0.018378)\n",
      "26. feature 22 mobil (0.014872)\n",
      "27. feature 16 cat_reg (0.013352)\n",
      "28. feature 0 age_categ (0.012553)\n",
      "29. feature 33 matrimon (0.011486)\n",
      "30. feature 4 sms (0.008425)\n",
      "31. feature 32 nenf (0.008092)\n",
      "32. feature 26 benefrsa (0.007791)\n",
      "33. feature 6 mail (0.007378)\n",
      "34. feature 28 dipl (0.007121)\n",
      "35. feature 8 isentrep (0.006424)\n",
      "36. feature 27 temps_plein (0.006422)\n",
      "37. feature 31 resqpv (0.004800)\n",
      "38. feature 29 contrat (0.004763)\n",
      "39. feature 7 isctp (0.001689)\n",
      "40. feature 30 th (0.000458)\n",
      "41. feature 24 qual2 (0.000000)\n"
     ]
    },
    {
     "data": {
      "image/png": "[encoded data removed]",
      "text/plain": [
       "<Figure size 1440x360 with 1 Axes>"
      ]
     },
     "metadata": {},
     "output_type": "display_data"
    },
    {
     "ename": "TypeError",
     "evalue": "'NoneType' object is not iterable",
     "output_type": "error",
     "traceback": [
      "\u001b[0;31m---------------------------------------------------------------------------\u001b[0m",
      "\u001b[0;31mTypeError\u001b[0m                                 Traceback (most recent call last)",
      "\u001b[0;32m<ipython-input-14-9865b6c0c6dc>\u001b[0m in \u001b[0;36m<module>\u001b[0;34m()\u001b[0m\n\u001b[0;32m----> 1\u001b[0;31m \u001b[0mauc\u001b[0m\u001b[0;34m,\u001b[0m \u001b[0macc\u001b[0m \u001b[0;34m=\u001b[0m \u001b[0mapply_algo\u001b[0m\u001b[0;34m(\u001b[0m\u001b[0mn_estimators\u001b[0m\u001b[0;34m,\u001b[0m \u001b[0mmax_depth\u001b[0m\u001b[0;34m,\u001b[0m \u001b[0mn_jobs\u001b[0m\u001b[0;34m,\u001b[0m \u001b[0mgraph\u001b[0m\u001b[0;34m,\u001b[0m \u001b[0mnum_list\u001b[0m\u001b[0;34m,\u001b[0m \u001b[0mcat_list\u001b[0m\u001b[0;34m,\u001b[0m \u001b[0mdf_train\u001b[0m\u001b[0;34m,\u001b[0m \u001b[0mdf_valid\u001b[0m\u001b[0;34m)\u001b[0m\u001b[0;34m\u001b[0m\u001b[0m\n\u001b[0m",
      "\u001b[0;31mTypeError\u001b[0m: 'NoneType' object is not iterable"
     ]
    }
   ],
   "source": [
    "auc, acc = apply_algo(n_estimators, max_depth, n_jobs, graph, num_list, cat_list, df_train, df_valid)"
   ]
  },
  {
   "cell_type": "code",
   "execution_count": 19,
   "metadata": {},
   "outputs": [],
   "source": [
    "n_estimators = 500\n",
    "max_depth = None\n",
    "n_jobs = -1\n",
    "graph = True\n",
    "\n",
    "num_list = ['ict1',\n",
    "            'montant_indem',\n",
    "            'duree_indem',\n",
    "            'cat_reg',\n",
    "            'month',\n",
    "            'dep_recod',\n",
    "            'ale_recod',\n",
    "            'salaire'\n",
    "           ]\n",
    "\n",
    "cat_list = []"
   ]
  },
  {
   "cell_type": "code",
   "execution_count": 20,
   "metadata": {},
   "outputs": [
    {
     "name": "stdout",
     "output_type": "stream",
     "text": [
      "\n",
      "Done in min : 8.738105853398642\n",
      "\n",
      "auc : 0.5978252062953351\n",
      "accuracy : 0.5685856756895695\n",
      "\n",
      "Feature ranking:\n",
      "1. feature 0 montant_indem (0.304611)\n",
      "2. feature 5 ale_recod (0.191258)\n",
      "3. feature 1 duree_indem (0.182473)\n",
      "4. feature 4 dep_recod (0.124400)\n",
      "5. feature 6 salaire (0.123016)\n",
      "6. feature 3 month (0.053415)\n",
      "7. feature 2 cat_reg (0.020828)\n"
     ]
    },
    {
     "data": {
      "image/png": "[encoded data removed]",
      "text/plain": [
       "<Figure size 1440x360 with 1 Axes>"
      ]
     },
     "metadata": {},
     "output_type": "display_data"
    },
    {
     "ename": "TypeError",
     "evalue": "'NoneType' object is not iterable",
     "output_type": "error",
     "traceback": [
      "\u001b[0;31m---------------------------------------------------------------------------\u001b[0m",
      "\u001b[0;31mTypeError\u001b[0m                                 Traceback (most recent call last)",
      "\u001b[0;32m<ipython-input-20-ec5489bed47d>\u001b[0m in \u001b[0;36m<module>\u001b[0;34m()\u001b[0m\n\u001b[0;32m----> 1\u001b[0;31m \u001b[0mauc\u001b[0m\u001b[0;34m,\u001b[0m \u001b[0macc\u001b[0m \u001b[0;34m=\u001b[0m \u001b[0mapply_algo\u001b[0m\u001b[0;34m(\u001b[0m\u001b[0;36m200\u001b[0m\u001b[0;34m,\u001b[0m \u001b[0mmax_depth\u001b[0m\u001b[0;34m,\u001b[0m \u001b[0mn_jobs\u001b[0m\u001b[0;34m,\u001b[0m \u001b[0mgraph\u001b[0m\u001b[0;34m,\u001b[0m \u001b[0mnum_list\u001b[0m\u001b[0;34m,\u001b[0m \u001b[0mcat_list\u001b[0m\u001b[0;34m,\u001b[0m \u001b[0mdf_train\u001b[0m\u001b[0;34m,\u001b[0m \u001b[0mdf_valid\u001b[0m\u001b[0;34m)\u001b[0m\u001b[0;34m\u001b[0m\u001b[0m\n\u001b[0m",
      "\u001b[0;31mTypeError\u001b[0m: 'NoneType' object is not iterable"
     ]
    }
   ],
   "source": [
    "auc, acc = apply_algo(200, max_depth, n_jobs, graph, num_list, cat_list, df_train, df_valid)"
   ]
  },
  {
   "cell_type": "code",
   "execution_count": 27,
   "metadata": {
    "scrolled": false
   },
   "outputs": [
    {
     "name": "stdout",
     "output_type": "stream",
     "text": [
      "\n",
      "Done in min : 11.72334703207016\n",
      "\n",
      "auc : 0.7319195796553779\n",
      "accuracy : 0.6895289978436046\n",
      "\n",
      "Feature ranking:\n",
      "1. feature 10 ale_recod (0.067476)\n",
      "2. feature 11 salaire (0.052179)\n",
      "3. feature 16 score_forma_diag (0.047461)\n",
      "4. feature 29 lag4_delta3_ict1_dep_rome_count (0.046472)\n",
      "5. feature 27 lag4_delta3_ict1_dep_rome_ratio (0.045703)\n",
      "6. feature 6 cat_stat (0.045390)\n",
      "7. feature 31 lag1_ident_dep_domaine_pro_count (0.044369)\n",
      "8. feature 33 lag12_ident_dep_count (0.041571)\n",
      "9. feature 30 lag12_ict1_dep_domaine_pro_ratio (0.041325)\n",
      "10. feature 3 motif (0.040099)\n",
      "11. feature 28 lag4_delta3_ict1_dep_domaine_pro_ratio (0.040008)\n",
      "12. feature 8 dep_recod (0.034022)\n",
      "13. feature 2 r34 (0.027128)\n",
      "14. feature 9 nreg_dep_recod (0.024732)\n",
      "15. feature 5 nreg (0.023627)\n",
      "16. feature 4 exper_classe (0.022777)\n",
      "17. feature 1 r23 (0.022254)\n",
      "18. feature 32 lag12_domaine_pro_dep_ratio (0.021346)\n",
      "19. feature 34 lag1_domaine_pro_dep_ratio (0.021237)\n",
      "20. feature 7 month (0.020101)\n",
      "21. feature 15 der_sortie (0.019540)\n",
      "22. feature 35 lag1_dep_domaine_pro_ratio (0.019216)\n",
      "23. feature 12 mobil (0.018680)\n",
      "24. feature 0 age_categ (0.016804)\n",
      "25. feature 13 form (0.016773)\n",
      "26. feature 17 benefrmi (0.014858)\n",
      "27. feature 25 matrimon (0.013994)\n",
      "28. feature 26 indemnisation (0.011441)\n",
      "29. feature 14 qual (0.010819)\n",
      "30. feature 19 dipl (0.010562)\n",
      "31. feature 21 sexe (0.010091)\n",
      "32. feature 18 temps_plein (0.009986)\n",
      "33. feature 24 nb_enf (0.009906)\n",
      "34. feature 20 contrat (0.007509)\n",
      "35. feature 23 resqpv (0.006345)\n",
      "36. feature 22 th (0.006074)\n",
      "37. feature 67 domaine_pro_F16 (0.002337)\n",
      "38. feature 74 domaine_pro_G16 (0.002336)\n",
      "39. feature 131 domaine_pro_M16 (0.002238)\n",
      "40. feature 54 domaine_pro_D12 (0.002208)\n",
      "41. feature 56 domaine_pro_D14 (0.002158)\n",
      "42. feature 134 domaine_pro_N11 (0.002031)\n",
      "43. feature 57 domaine_pro_D15 (0.001999)\n",
      "44. feature 108 domaine_pro_K13 (0.001932)\n",
      "45. feature 53 domaine_pro_D11 (0.001815)\n",
      "46. feature 68 domaine_pro_F17 (0.001647)\n",
      "47. feature 76 domaine_pro_G18 (0.001613)\n",
      "48. feature 141 domaine_pro_N41 (0.001590)\n",
      "49. feature 103 domaine_pro_J13 (0.001583)\n",
      "50. feature 70 domaine_pro_G12 (0.001552)\n",
      "51. feature 127 domaine_pro_M12 (0.001372)\n",
      "52. feature 39 domaine_pro_A14 (0.001332)\n",
      "53. feature 100 domaine_pro_I16 (0.001282)\n",
      "54. feature 115 domaine_pro_K21 (0.001279)\n",
      "55. feature 90 domaine_pro_H29 (0.001209)\n",
      "56. feature 58 domaine_pro_E11 (0.001137)\n",
      "57. feature 105 domaine_pro_J15 (0.001126)\n",
      "58. feature 97 domaine_pro_I13 (0.001117)\n",
      "59. feature 119 domaine_pro_K25 (0.001108)\n",
      "60. feature 132 domaine_pro_M17 (0.001062)\n",
      "61. feature 37 domaine_pro_A12 (0.001047)\n",
      "62. feature 107 domaine_pro_K12 (0.001028)\n",
      "63. feature 133 domaine_pro_M18 (0.001024)\n",
      "64. feature 116 domaine_pro_K22 (0.000995)\n",
      "65. feature 62 domaine_pro_F11 (0.000931)\n",
      "66. feature 93 domaine_pro_H33 (0.000834)\n",
      "67. feature 78 domaine_pro_H12 (0.000780)\n",
      "68. feature 52 domaine_pro_C15 (0.000712)\n",
      "69. feature 72 domaine_pro_G14 (0.000683)\n",
      "70. feature 55 domaine_pro_D13 (0.000683)\n",
      "71. feature 130 domaine_pro_M15 (0.000678)\n",
      "72. feature 83 domaine_pro_H22 (0.000658)\n",
      "73. feature 59 domaine_pro_E12 (0.000640)\n",
      "74. feature 63 domaine_pro_F12 (0.000619)\n",
      "75. feature 96 domaine_pro_I12 (0.000604)\n",
      "76. feature 128 domaine_pro_M13 (0.000579)\n",
      "77. feature 136 domaine_pro_N13 (0.000571)\n",
      "78. feature 81 domaine_pro_H15 (0.000563)\n",
      "79. feature 73 domaine_pro_G15 (0.000558)\n",
      "80. feature 49 domaine_pro_C12 (0.000537)\n",
      "81. feature 114 domaine_pro_K19 (0.000532)\n",
      "82. feature 82 domaine_pro_H21 (0.000522)\n",
      "83. feature 113 domaine_pro_K18 (0.000514)\n",
      "84. feature 98 domaine_pro_I14 (0.000500)\n",
      "85. feature 122 domaine_pro_L12 (0.000491)\n",
      "86. feature 64 domaine_pro_F13 (0.000472)\n",
      "87. feature 129 domaine_pro_M14 (0.000467)\n",
      "88. feature 125 domaine_pro_L15 (0.000465)\n",
      "89. feature 75 domaine_pro_G17 (0.000460)\n",
      "90. feature 66 domaine_pro_F15 (0.000391)\n",
      "91. feature 104 domaine_pro_J14 (0.000384)\n",
      "92. feature 48 domaine_pro_C11 (0.000375)\n",
      "93. feature 117 domaine_pro_K23 (0.000369)\n",
      "94. feature 80 domaine_pro_H14 (0.000362)\n",
      "95. feature 123 domaine_pro_L13 (0.000362)\n",
      "96. feature 106 domaine_pro_K11 (0.000357)\n",
      "97. feature 126 domaine_pro_M11 (0.000347)\n",
      "98. feature 86 domaine_pro_H25 (0.000340)\n",
      "99. feature 109 domaine_pro_K14 (0.000339)\n",
      "100. feature 118 domaine_pro_K24 (0.000338)\n",
      "101. feature 38 domaine_pro_A13 (0.000316)\n",
      "102. feature 60 domaine_pro_E13 (0.000309)\n",
      "103. feature 47 domaine_pro_B18 (0.000304)\n",
      "104. feature 40 domaine_pro_A15 (0.000290)\n",
      "105. feature 87 domaine_pro_H26 (0.000269)\n",
      "106. feature 112 domaine_pro_K17 (0.000258)\n",
      "107. feature 69 domaine_pro_G11 (0.000237)\n",
      "108. feature 111 domaine_pro_K16 (0.000232)\n",
      "109. feature 71 domaine_pro_G13 (0.000230)\n",
      "110. feature 77 domaine_pro_H11 (0.000212)\n",
      "111. feature 95 domaine_pro_I11 (0.000203)\n",
      "112. feature 79 domaine_pro_H13 (0.000187)\n",
      "113. feature 102 domaine_pro_J12 (0.000171)\n",
      "114. feature 46 domaine_pro_B16 (0.000164)\n",
      "115. feature 124 domaine_pro_L14 (0.000159)\n",
      "116. feature 138 domaine_pro_N22 (0.000158)\n",
      "117. feature 99 domaine_pro_I15 (0.000147)\n",
      "118. feature 85 domaine_pro_H24 (0.000142)\n",
      "119. feature 135 domaine_pro_N12 (0.000136)\n",
      "120. feature 94 domaine_pro_H34 (0.000131)\n",
      "121. feature 137 domaine_pro_N21 (0.000126)\n",
      "122. feature 142 domaine_pro_N42 (0.000124)\n",
      "123. feature 92 domaine_pro_H32 (0.000124)\n",
      "124. feature 36 domaine_pro_A11 (0.000122)\n",
      "125. feature 101 domaine_pro_J11 (0.000118)\n",
      "126. feature 84 domaine_pro_H23 (0.000111)\n",
      "127. feature 51 domaine_pro_C14 (0.000107)\n",
      "128. feature 139 domaine_pro_N31 (0.000103)\n",
      "129. feature 61 domaine_pro_E14 (0.000097)\n",
      "130. feature 41 domaine_pro_B11 (0.000095)\n",
      "131. feature 43 domaine_pro_B13 (0.000093)\n",
      "132. feature 120 domaine_pro_K26 (0.000092)\n",
      "133. feature 50 domaine_pro_C13 (0.000082)\n",
      "134. feature 121 domaine_pro_L11 (0.000060)\n",
      "135. feature 65 domaine_pro_F14 (0.000032)\n",
      "136. feature 144 domaine_pro_N44 (0.000032)\n",
      "137. feature 143 domaine_pro_N43 (0.000029)\n",
      "138. feature 89 domaine_pro_H28 (0.000028)\n",
      "139. feature 91 domaine_pro_H31 (0.000023)\n",
      "140. feature 140 domaine_pro_N32 (0.000020)\n",
      "141. feature 88 domaine_pro_H27 (0.000019)\n",
      "142. feature 45 domaine_pro_B15 (0.000017)\n",
      "143. feature 42 domaine_pro_B12 (0.000017)\n",
      "144. feature 110 domaine_pro_K15 (0.000016)\n",
      "145. feature 44 domaine_pro_B14 (0.000009)\n"
     ]
    },
    {
     "data": {
      "image/png": "[encoded data removed]",
      "text/plain": [
       "<Figure size 1440x360 with 1 Axes>"
      ]
     },
     "metadata": {},
     "output_type": "display_data"
    },
    {
     "ename": "TypeError",
     "evalue": "'NoneType' object is not iterable",
     "output_type": "error",
     "traceback": [
      "\u001b[0;31m---------------------------------------------------------------------------\u001b[0m",
      "\u001b[0;31mTypeError\u001b[0m                                 Traceback (most recent call last)",
      "\u001b[0;32m<ipython-input-27-5cd9f846290c>\u001b[0m in \u001b[0;36m<module>\u001b[0;34m()\u001b[0m\n\u001b[0;32m----> 1\u001b[0;31m \u001b[0mauc\u001b[0m\u001b[0;34m,\u001b[0m \u001b[0macc\u001b[0m \u001b[0;34m=\u001b[0m \u001b[0mapply_algo\u001b[0m\u001b[0;34m(\u001b[0m\u001b[0mn_estimators\u001b[0m\u001b[0;34m,\u001b[0m \u001b[0mmax_depth\u001b[0m\u001b[0;34m,\u001b[0m \u001b[0mn_jobs\u001b[0m\u001b[0;34m,\u001b[0m \u001b[0mgraph\u001b[0m\u001b[0;34m,\u001b[0m \u001b[0mnum_list\u001b[0m\u001b[0;34m,\u001b[0m \u001b[0mcat_list\u001b[0m\u001b[0;34m,\u001b[0m \u001b[0mdf_train\u001b[0m\u001b[0;34m,\u001b[0m \u001b[0mdf_test\u001b[0m\u001b[0;34m)\u001b[0m\u001b[0;34m\u001b[0m\u001b[0m\n\u001b[0m",
      "\u001b[0;31mTypeError\u001b[0m: 'NoneType' object is not iterable"
     ]
    }
   ],
   "source": [
    "auc, acc = apply_algo(n_estimators, max_depth, n_jobs, graph, num_list, cat_list, df_train, df_valid)"
   ]
  },
  {
   "cell_type": "code",
   "execution_count": 32,
   "metadata": {
    "scrolled": false
   },
   "outputs": [
    {
     "name": "stdout",
     "output_type": "stream",
     "text": [
      "\n",
      "Done in min : 18.723638566335044\n",
      "\n",
      "auc : 0.7341189149853091\n",
      "accuracy : 0.6794742458046368\n",
      "\n",
      "Feature ranking:\n",
      "1. feature 10 ale_recod (0.066409)\n",
      "2. feature 11 salaire (0.051551)\n",
      "3. feature 6 cat_stat (0.047624)\n",
      "4. feature 16 score_forma_diag (0.046680)\n",
      "5. feature 29 lag4_delta3_ict1_dep_rome_count (0.046549)\n",
      "6. feature 27 lag4_delta3_ict1_dep_rome_ratio (0.045748)\n",
      "7. feature 31 lag1_ident_dep_domaine_pro_count (0.044965)\n",
      "8. feature 33 lag12_ident_dep_count (0.043300)\n",
      "9. feature 30 lag12_ict1_dep_domaine_pro_ratio (0.041808)\n",
      "10. feature 28 lag4_delta3_ict1_dep_domaine_pro_ratio (0.040565)\n",
      "11. feature 3 motif (0.038236)\n",
      "12. feature 8 dep_recod (0.033763)\n",
      "13. feature 2 r34 (0.026724)\n",
      "14. feature 7 month (0.025804)\n",
      "15. feature 9 nreg_dep_recod (0.024352)\n",
      "16. feature 5 nreg (0.023065)\n",
      "17. feature 4 exper_classe (0.022059)\n",
      "18. feature 1 r23 (0.021961)\n",
      "19. feature 32 lag12_domaine_pro_dep_ratio (0.021578)\n",
      "20. feature 34 lag1_domaine_pro_dep_ratio (0.021325)\n",
      "21. feature 35 lag1_dep_domaine_pro_ratio (0.019266)\n",
      "22. feature 15 der_sortie (0.018914)\n",
      "23. feature 12 mobil (0.017698)\n",
      "24. feature 13 form (0.016598)\n",
      "25. feature 0 age_categ (0.016582)\n",
      "26. feature 17 benefrmi (0.015565)\n",
      "27. feature 25 matrimon (0.013433)\n",
      "28. feature 26 indemnisation (0.011038)\n",
      "29. feature 14 qual (0.010540)\n",
      "30. feature 19 dipl (0.010043)\n",
      "31. feature 18 temps_plein (0.009718)\n",
      "32. feature 21 sexe (0.009655)\n",
      "33. feature 24 nb_enf (0.009450)\n",
      "34. feature 20 contrat (0.007417)\n",
      "35. feature 22 th (0.006270)\n",
      "36. feature 23 resqpv (0.006095)\n",
      "37. feature 74 domaine_pro_G16 (0.002315)\n",
      "38. feature 67 domaine_pro_F16 (0.002306)\n",
      "39. feature 131 domaine_pro_M16 (0.002201)\n",
      "40. feature 54 domaine_pro_D12 (0.002195)\n",
      "41. feature 56 domaine_pro_D14 (0.002141)\n",
      "42. feature 134 domaine_pro_N11 (0.002009)\n",
      "43. feature 57 domaine_pro_D15 (0.001998)\n",
      "44. feature 108 domaine_pro_K13 (0.001953)\n",
      "45. feature 53 domaine_pro_D11 (0.001817)\n",
      "46. feature 68 domaine_pro_F17 (0.001606)\n",
      "47. feature 70 domaine_pro_G12 (0.001593)\n",
      "48. feature 103 domaine_pro_J13 (0.001576)\n",
      "49. feature 141 domaine_pro_N41 (0.001556)\n",
      "50. feature 76 domaine_pro_G18 (0.001551)\n",
      "51. feature 127 domaine_pro_M12 (0.001393)\n",
      "52. feature 39 domaine_pro_A14 (0.001343)\n",
      "53. feature 115 domaine_pro_K21 (0.001298)\n",
      "54. feature 100 domaine_pro_I16 (0.001267)\n",
      "55. feature 90 domaine_pro_H29 (0.001205)\n",
      "56. feature 58 domaine_pro_E11 (0.001126)\n",
      "57. feature 97 domaine_pro_I13 (0.001092)\n",
      "58. feature 119 domaine_pro_K25 (0.001086)\n",
      "59. feature 105 domaine_pro_J15 (0.001079)\n",
      "60. feature 107 domaine_pro_K12 (0.001055)\n",
      "61. feature 132 domaine_pro_M17 (0.001040)\n",
      "62. feature 37 domaine_pro_A12 (0.001015)\n",
      "63. feature 116 domaine_pro_K22 (0.001001)\n",
      "64. feature 133 domaine_pro_M18 (0.000998)\n",
      "65. feature 62 domaine_pro_F11 (0.000919)\n",
      "66. feature 93 domaine_pro_H33 (0.000839)\n",
      "67. feature 78 domaine_pro_H12 (0.000763)\n",
      "68. feature 52 domaine_pro_C15 (0.000735)\n",
      "69. feature 72 domaine_pro_G14 (0.000690)\n",
      "70. feature 130 domaine_pro_M15 (0.000682)\n",
      "71. feature 55 domaine_pro_D13 (0.000675)\n",
      "72. feature 83 domaine_pro_H22 (0.000651)\n",
      "73. feature 59 domaine_pro_E12 (0.000650)\n",
      "74. feature 63 domaine_pro_F12 (0.000609)\n",
      "75. feature 96 domaine_pro_I12 (0.000594)\n",
      "76. feature 128 domaine_pro_M13 (0.000580)\n",
      "77. feature 136 domaine_pro_N13 (0.000577)\n",
      "78. feature 81 domaine_pro_H15 (0.000553)\n",
      "79. feature 49 domaine_pro_C12 (0.000542)\n",
      "80. feature 114 domaine_pro_K19 (0.000534)\n",
      "81. feature 73 domaine_pro_G15 (0.000533)\n",
      "82. feature 113 domaine_pro_K18 (0.000510)\n",
      "83. feature 82 domaine_pro_H21 (0.000509)\n",
      "84. feature 98 domaine_pro_I14 (0.000495)\n",
      "85. feature 122 domaine_pro_L12 (0.000495)\n",
      "86. feature 125 domaine_pro_L15 (0.000465)\n",
      "87. feature 64 domaine_pro_F13 (0.000455)\n",
      "88. feature 75 domaine_pro_G17 (0.000448)\n",
      "89. feature 129 domaine_pro_M14 (0.000445)\n",
      "90. feature 104 domaine_pro_J14 (0.000394)\n",
      "91. feature 48 domaine_pro_C11 (0.000381)\n",
      "92. feature 66 domaine_pro_F15 (0.000376)\n",
      "93. feature 117 domaine_pro_K23 (0.000359)\n",
      "94. feature 123 domaine_pro_L13 (0.000357)\n",
      "95. feature 106 domaine_pro_K11 (0.000350)\n",
      "96. feature 80 domaine_pro_H14 (0.000350)\n",
      "97. feature 86 domaine_pro_H25 (0.000339)\n",
      "98. feature 126 domaine_pro_M11 (0.000339)\n",
      "99. feature 109 domaine_pro_K14 (0.000337)\n",
      "100. feature 118 domaine_pro_K24 (0.000319)\n",
      "101. feature 60 domaine_pro_E13 (0.000314)\n",
      "102. feature 47 domaine_pro_B18 (0.000308)\n",
      "103. feature 40 domaine_pro_A15 (0.000298)\n",
      "104. feature 38 domaine_pro_A13 (0.000296)\n",
      "105. feature 87 domaine_pro_H26 (0.000269)\n",
      "106. feature 112 domaine_pro_K17 (0.000265)\n",
      "107. feature 69 domaine_pro_G11 (0.000247)\n",
      "108. feature 111 domaine_pro_K16 (0.000233)\n",
      "109. feature 71 domaine_pro_G13 (0.000232)\n",
      "110. feature 77 domaine_pro_H11 (0.000199)\n",
      "111. feature 95 domaine_pro_I11 (0.000193)\n",
      "112. feature 124 domaine_pro_L14 (0.000191)\n",
      "113. feature 79 domaine_pro_H13 (0.000187)\n",
      "114. feature 46 domaine_pro_B16 (0.000171)\n",
      "115. feature 138 domaine_pro_N22 (0.000163)\n",
      "116. feature 102 domaine_pro_J12 (0.000160)\n",
      "117. feature 85 domaine_pro_H24 (0.000142)\n",
      "118. feature 99 domaine_pro_I15 (0.000142)\n",
      "119. feature 92 domaine_pro_H32 (0.000131)\n",
      "120. feature 94 domaine_pro_H34 (0.000131)\n",
      "121. feature 135 domaine_pro_N12 (0.000131)\n",
      "122. feature 142 domaine_pro_N42 (0.000128)\n",
      "123. feature 101 domaine_pro_J11 (0.000123)\n",
      "124. feature 137 domaine_pro_N21 (0.000121)\n",
      "125. feature 36 domaine_pro_A11 (0.000112)\n",
      "126. feature 84 domaine_pro_H23 (0.000112)\n",
      "127. feature 51 domaine_pro_C14 (0.000106)\n",
      "128. feature 139 domaine_pro_N31 (0.000103)\n",
      "129. feature 61 domaine_pro_E14 (0.000100)\n",
      "130. feature 41 domaine_pro_B11 (0.000099)\n",
      "131. feature 43 domaine_pro_B13 (0.000095)\n",
      "132. feature 120 domaine_pro_K26 (0.000091)\n",
      "133. feature 50 domaine_pro_C13 (0.000075)\n",
      "134. feature 121 domaine_pro_L11 (0.000063)\n",
      "135. feature 65 domaine_pro_F14 (0.000036)\n",
      "136. feature 144 domaine_pro_N44 (0.000034)\n",
      "137. feature 143 domaine_pro_N43 (0.000033)\n",
      "138. feature 89 domaine_pro_H28 (0.000026)\n",
      "139. feature 88 domaine_pro_H27 (0.000022)\n",
      "140. feature 140 domaine_pro_N32 (0.000022)\n",
      "141. feature 91 domaine_pro_H31 (0.000020)\n",
      "142. feature 42 domaine_pro_B12 (0.000020)\n",
      "143. feature 45 domaine_pro_B15 (0.000017)\n",
      "144. feature 110 domaine_pro_K15 (0.000016)\n",
      "145. feature 44 domaine_pro_B14 (0.000010)\n"
     ]
    },
    {
     "data": {
      "image/png": "[encoded data removed]",
      "text/plain": [
       "<Figure size 1440x360 with 1 Axes>"
      ]
     },
     "metadata": {},
     "output_type": "display_data"
    },
    {
     "ename": "TypeError",
     "evalue": "'NoneType' object is not iterable",
     "output_type": "error",
     "traceback": [
      "\u001b[0;31m---------------------------------------------------------------------------\u001b[0m",
      "\u001b[0;31mTypeError\u001b[0m                                 Traceback (most recent call last)",
      "\u001b[0;32m<ipython-input-32-5cd9f846290c>\u001b[0m in \u001b[0;36m<module>\u001b[0;34m()\u001b[0m\n\u001b[0;32m----> 1\u001b[0;31m \u001b[0mauc\u001b[0m\u001b[0;34m,\u001b[0m \u001b[0macc\u001b[0m \u001b[0;34m=\u001b[0m \u001b[0mapply_algo\u001b[0m\u001b[0;34m(\u001b[0m\u001b[0mn_estimators\u001b[0m\u001b[0;34m,\u001b[0m \u001b[0mmax_depth\u001b[0m\u001b[0;34m,\u001b[0m \u001b[0mn_jobs\u001b[0m\u001b[0;34m,\u001b[0m \u001b[0mgraph\u001b[0m\u001b[0;34m,\u001b[0m \u001b[0mnum_list\u001b[0m\u001b[0;34m,\u001b[0m \u001b[0mcat_list\u001b[0m\u001b[0;34m,\u001b[0m \u001b[0mdf_train\u001b[0m\u001b[0;34m,\u001b[0m \u001b[0mdf_test\u001b[0m\u001b[0;34m)\u001b[0m\u001b[0;34m\u001b[0m\u001b[0m\n\u001b[0m",
      "\u001b[0;31mTypeError\u001b[0m: 'NoneType' object is not iterable"
     ]
    }
   ],
   "source": [
    "auc, acc = apply_algo(n_estimators, max_depth, n_jobs, graph, num_list, cat_list, df_train, df_test)"
   ]
  },
  {
   "cell_type": "code",
   "execution_count": null,
   "metadata": {},
   "outputs": [],
   "source": []
  }
 ],
 "metadata": {
  "kernelspec": {
   "display_name": "Python 3",
   "language": "python",
   "name": "python3"
  },
  "language_info": {
   "codemirror_mode": {
    "name": "ipython",
    "version": 3
   },
   "file_extension": ".py",
   "mimetype": "text/x-python",
   "name": "python",
   "nbconvert_exporter": "python",
   "pygments_lexer": "ipython3",
   "version": "3.6.4"
  }
 },
 "nbformat": 4,
 "nbformat_minor": 2
}
