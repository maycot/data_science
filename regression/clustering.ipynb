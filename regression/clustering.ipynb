{
 "cells": [
  {
   "cell_type": "code",
   "execution_count": 1,
   "metadata": {
    "collapsed": true
   },
   "outputs": [],
   "source": [
    "%matplotlib inline\n",
    "\n",
    "from os import walk\n",
    "import pandas as pd\n",
    "import numpy as np\n",
    "from sklearn import linear_model\n",
    "import matplotlib.pyplot as plt\n",
    "from sklearn.cluster import KMeans"
   ]
  },
  {
   "cell_type": "markdown",
   "metadata": {},
   "source": [
    "# Clustering "
   ]
  },
  {
   "cell_type": "markdown",
   "metadata": {},
   "source": [
    "    Le but : essayer de déterminer pour chaque vol des clusters différents, à comparer avec la notion de phase 0 ou 1 déterminée pour chaque vol. \n",
    "    \n",
    "    La technique de clustering est appliquée pour chaque vol, sans tenir compte de la phase."
   ]
  },
  {
   "cell_type": "code",
   "execution_count": 2,
   "metadata": {
    "collapsed": true
   },
   "outputs": [],
   "source": [
    "path = '/Users/mayliscotadze/Documents/Safran/'"
   ]
  },
  {
   "cell_type": "code",
   "execution_count": 3,
   "metadata": {
    "collapsed": true
   },
   "outputs": [],
   "source": [
    "df = pd.read_csv(path + 'all_datas_cleaned.csv', sep=\",\", header=0, encoding=\"latin 1\")\n",
    "df = df.drop(['Unnamed: 0', 'Unnamed: 0.1'], axis = 1)"
   ]
  },
  {
   "cell_type": "markdown",
   "metadata": {},
   "source": [
    "### K = 2, 3  ou 4 clusters"
   ]
  },
  {
   "cell_type": "code",
   "execution_count": 4,
   "metadata": {
    "collapsed": true
   },
   "outputs": [],
   "source": [
    "input = [\"static pressure\", \"air speed\",\n",
    "          \"rotation speed\", \"outside temp\", \"n2\", \"n1\", \"torque\",\n",
    "          \"turbine temp\", \"oil pressure\", \"oil temp\", \"ground speed\", \"altitude\"]"
   ]
  },
  {
   "cell_type": "code",
   "execution_count": 5,
   "metadata": {
    "collapsed": false
   },
   "outputs": [],
   "source": [
    "df1 = df.set_index('n_vol')"
   ]
  },
  {
   "cell_type": "code",
   "execution_count": 6,
   "metadata": {
    "collapsed": false
   },
   "outputs": [
    {
     "data": {
      "text/html": [
       "<div>\n",
       "<table border=\"1\" class=\"dataframe\">\n",
       "  <thead>\n",
       "    <tr style=\"text-align: right;\">\n",
       "      <th></th>\n",
       "      <th>time</th>\n",
       "      <th>phase</th>\n",
       "      <th>static pressure</th>\n",
       "      <th>air speed</th>\n",
       "      <th>rotation speed</th>\n",
       "      <th>outside temp</th>\n",
       "      <th>n2</th>\n",
       "      <th>n1</th>\n",
       "      <th>torque</th>\n",
       "      <th>turbine temp</th>\n",
       "      <th>oil pressure</th>\n",
       "      <th>oil temp</th>\n",
       "      <th>fuel vol</th>\n",
       "      <th>fuel flow</th>\n",
       "      <th>power</th>\n",
       "      <th>ground speed</th>\n",
       "      <th>altitude</th>\n",
       "    </tr>\n",
       "    <tr>\n",
       "      <th>n_vol</th>\n",
       "      <th></th>\n",
       "      <th></th>\n",
       "      <th></th>\n",
       "      <th></th>\n",
       "      <th></th>\n",
       "      <th></th>\n",
       "      <th></th>\n",
       "      <th></th>\n",
       "      <th></th>\n",
       "      <th></th>\n",
       "      <th></th>\n",
       "      <th></th>\n",
       "      <th></th>\n",
       "      <th></th>\n",
       "      <th></th>\n",
       "      <th></th>\n",
       "      <th></th>\n",
       "    </tr>\n",
       "  </thead>\n",
       "  <tbody>\n",
       "    <tr>\n",
       "      <th>0001-3.csv</th>\n",
       "      <td>18:29:44.000000</td>\n",
       "      <td>0</td>\n",
       "      <td>1012.1</td>\n",
       "      <td>0</td>\n",
       "      <td>0</td>\n",
       "      <td>29</td>\n",
       "      <td>0</td>\n",
       "      <td>0.0</td>\n",
       "      <td>2.3</td>\n",
       "      <td>155</td>\n",
       "      <td>0.0</td>\n",
       "      <td>48</td>\n",
       "      <td>273.0</td>\n",
       "      <td>58.2</td>\n",
       "      <td>21.7</td>\n",
       "      <td>0.0</td>\n",
       "      <td>56.0</td>\n",
       "    </tr>\n",
       "    <tr>\n",
       "      <th>0001-3.csv</th>\n",
       "      <td>18:29:46.000000</td>\n",
       "      <td>0</td>\n",
       "      <td>1012.0</td>\n",
       "      <td>0</td>\n",
       "      <td>0</td>\n",
       "      <td>29</td>\n",
       "      <td>0</td>\n",
       "      <td>0.3</td>\n",
       "      <td>2.3</td>\n",
       "      <td>156</td>\n",
       "      <td>0.0</td>\n",
       "      <td>48</td>\n",
       "      <td>273.0</td>\n",
       "      <td>46.6</td>\n",
       "      <td>NaN</td>\n",
       "      <td>0.0</td>\n",
       "      <td>55.0</td>\n",
       "    </tr>\n",
       "    <tr>\n",
       "      <th>0001-3.csv</th>\n",
       "      <td>18:29:48.000000</td>\n",
       "      <td>0</td>\n",
       "      <td>1012.1</td>\n",
       "      <td>0</td>\n",
       "      <td>0</td>\n",
       "      <td>29</td>\n",
       "      <td>0</td>\n",
       "      <td>5.3</td>\n",
       "      <td>2.3</td>\n",
       "      <td>157</td>\n",
       "      <td>0.0</td>\n",
       "      <td>48</td>\n",
       "      <td>273.0</td>\n",
       "      <td>33.1</td>\n",
       "      <td>NaN</td>\n",
       "      <td>0.0</td>\n",
       "      <td>54.0</td>\n",
       "    </tr>\n",
       "    <tr>\n",
       "      <th>0001-3.csv</th>\n",
       "      <td>18:29:50.000000</td>\n",
       "      <td>0</td>\n",
       "      <td>1012.1</td>\n",
       "      <td>0</td>\n",
       "      <td>0</td>\n",
       "      <td>29</td>\n",
       "      <td>0</td>\n",
       "      <td>10.3</td>\n",
       "      <td>2.3</td>\n",
       "      <td>215</td>\n",
       "      <td>0.0</td>\n",
       "      <td>49</td>\n",
       "      <td>273.0</td>\n",
       "      <td>23.6</td>\n",
       "      <td>NaN</td>\n",
       "      <td>0.0</td>\n",
       "      <td>53.0</td>\n",
       "    </tr>\n",
       "    <tr>\n",
       "      <th>0001-3.csv</th>\n",
       "      <td>18:29:52.000000</td>\n",
       "      <td>0</td>\n",
       "      <td>1012.1</td>\n",
       "      <td>0</td>\n",
       "      <td>0</td>\n",
       "      <td>29</td>\n",
       "      <td>0</td>\n",
       "      <td>14.5</td>\n",
       "      <td>2.3</td>\n",
       "      <td>395</td>\n",
       "      <td>0.0</td>\n",
       "      <td>49</td>\n",
       "      <td>273.0</td>\n",
       "      <td>20.9</td>\n",
       "      <td>NaN</td>\n",
       "      <td>0.0</td>\n",
       "      <td>53.0</td>\n",
       "    </tr>\n",
       "  </tbody>\n",
       "</table>\n",
       "</div>"
      ],
      "text/plain": [
       "                       time  phase  static pressure  air speed  \\\n",
       "n_vol                                                            \n",
       "0001-3.csv  18:29:44.000000      0           1012.1          0   \n",
       "0001-3.csv  18:29:46.000000      0           1012.0          0   \n",
       "0001-3.csv  18:29:48.000000      0           1012.1          0   \n",
       "0001-3.csv  18:29:50.000000      0           1012.1          0   \n",
       "0001-3.csv  18:29:52.000000      0           1012.1          0   \n",
       "\n",
       "            rotation speed  outside temp  n2    n1  torque  turbine temp  \\\n",
       "n_vol                                                                      \n",
       "0001-3.csv               0            29   0   0.0     2.3           155   \n",
       "0001-3.csv               0            29   0   0.3     2.3           156   \n",
       "0001-3.csv               0            29   0   5.3     2.3           157   \n",
       "0001-3.csv               0            29   0  10.3     2.3           215   \n",
       "0001-3.csv               0            29   0  14.5     2.3           395   \n",
       "\n",
       "            oil pressure  oil temp  fuel vol  fuel flow  power  ground speed  \\\n",
       "n_vol                                                                          \n",
       "0001-3.csv           0.0        48     273.0       58.2   21.7           0.0   \n",
       "0001-3.csv           0.0        48     273.0       46.6    NaN           0.0   \n",
       "0001-3.csv           0.0        48     273.0       33.1    NaN           0.0   \n",
       "0001-3.csv           0.0        49     273.0       23.6    NaN           0.0   \n",
       "0001-3.csv           0.0        49     273.0       20.9    NaN           0.0   \n",
       "\n",
       "            altitude  \n",
       "n_vol                 \n",
       "0001-3.csv      56.0  \n",
       "0001-3.csv      55.0  \n",
       "0001-3.csv      54.0  \n",
       "0001-3.csv      53.0  \n",
       "0001-3.csv      53.0  "
      ]
     },
     "execution_count": 6,
     "metadata": {},
     "output_type": "execute_result"
    }
   ],
   "source": [
    "df1.head()"
   ]
  },
  {
   "cell_type": "code",
   "execution_count": 7,
   "metadata": {
    "collapsed": false
   },
   "outputs": [
    {
     "data": {
      "text/plain": [
       "time                     0\n",
       "phase                    0\n",
       "static pressure          0\n",
       "air speed                0\n",
       "rotation speed           0\n",
       "outside temp             0\n",
       "n2                       0\n",
       "n1                       0\n",
       "torque                   0\n",
       "turbine temp             0\n",
       "oil pressure             0\n",
       "oil temp                 0\n",
       "fuel vol                 0\n",
       "fuel flow                0\n",
       "power              3670242\n",
       "ground speed            43\n",
       "altitude                43\n",
       "dtype: int64"
      ]
     },
     "execution_count": 7,
     "metadata": {},
     "output_type": "execute_result"
    }
   ],
   "source": [
    "# Kmeans ne supporte pas les NAN or infinite values\n",
    "df1.isnull().sum()"
   ]
  },
  {
   "cell_type": "code",
   "execution_count": 8,
   "metadata": {
    "collapsed": false
   },
   "outputs": [],
   "source": [
    "df1 = df1.drop('power', axis = 1)"
   ]
  },
  {
   "cell_type": "code",
   "execution_count": 9,
   "metadata": {
    "collapsed": true
   },
   "outputs": [],
   "source": [
    "df1 = df1.dropna()"
   ]
  },
  {
   "cell_type": "code",
   "execution_count": 10,
   "metadata": {
    "collapsed": false
   },
   "outputs": [
    {
     "data": {
      "text/plain": [
       "time               0\n",
       "phase              0\n",
       "static pressure    0\n",
       "air speed          0\n",
       "rotation speed     0\n",
       "outside temp       0\n",
       "n2                 0\n",
       "n1                 0\n",
       "torque             0\n",
       "turbine temp       0\n",
       "oil pressure       0\n",
       "oil temp           0\n",
       "fuel vol           0\n",
       "fuel flow          0\n",
       "ground speed       0\n",
       "altitude           0\n",
       "dtype: int64"
      ]
     },
     "execution_count": 10,
     "metadata": {},
     "output_type": "execute_result"
    }
   ],
   "source": [
    "df1.isnull().sum()"
   ]
  },
  {
   "cell_type": "code",
   "execution_count": 162,
   "metadata": {
    "collapsed": false
   },
   "outputs": [],
   "source": [
    "# Kmeans needs float type\n",
    "df_input = df1[input].apply(lambda x : x.astype(float))"
   ]
  },
  {
   "cell_type": "code",
   "execution_count": 163,
   "metadata": {
    "collapsed": false
   },
   "outputs": [],
   "source": [
    "df_clusters = pd.DataFrame(index = df1.index, columns = [\"clust_2\", \"clust_3\", \"clust_4\"])\n",
    "\n",
    "for flight in set(df1.index):\n",
    "\n",
    "        cluster_labels2 = KMeans(n_clusters = 2).fit_predict(df_input.ix[flight]).tolist()\n",
    "        df_clusters.ix[flight, \"clust_2\"] = cluster_labels2\n",
    "        \n",
    "        cluster_labels3 = KMeans(n_clusters = 3).fit_predict(df_input.ix[flight]).tolist()\n",
    "        df_clusters.ix[flight, \"clust_3\"] = cluster_labels3\n",
    "        \n",
    "        cluster_labels4 = KMeans(n_clusters = 4).fit_predict(df_input.ix[flight]).tolist()\n",
    "        df_clusters.ix[flight, \"clust_4\"] = cluster_labels4"
   ]
  },
  {
   "cell_type": "code",
   "execution_count": 167,
   "metadata": {
    "collapsed": false
   },
   "outputs": [],
   "source": [
    "# On rajoute la colonne phase de notre fichier\n",
    "df_clusters[\"phase\"] = df1.phase"
   ]
  },
  {
   "cell_type": "code",
   "execution_count": 171,
   "metadata": {
    "collapsed": false
   },
   "outputs": [
    {
     "data": {
      "text/html": [
       "<div>\n",
       "<table border=\"1\" class=\"dataframe\">\n",
       "  <thead>\n",
       "    <tr style=\"text-align: right;\">\n",
       "      <th></th>\n",
       "      <th>clust_2</th>\n",
       "      <th>clust_3</th>\n",
       "      <th>clust_4</th>\n",
       "      <th>phase</th>\n",
       "    </tr>\n",
       "    <tr>\n",
       "      <th>n_vol</th>\n",
       "      <th></th>\n",
       "      <th></th>\n",
       "      <th></th>\n",
       "      <th></th>\n",
       "    </tr>\n",
       "  </thead>\n",
       "  <tbody>\n",
       "    <tr>\n",
       "      <th>0001-3.csv</th>\n",
       "      <td>1</td>\n",
       "      <td>1</td>\n",
       "      <td>3</td>\n",
       "      <td>0</td>\n",
       "    </tr>\n",
       "    <tr>\n",
       "      <th>0001-3.csv</th>\n",
       "      <td>1</td>\n",
       "      <td>1</td>\n",
       "      <td>3</td>\n",
       "      <td>0</td>\n",
       "    </tr>\n",
       "    <tr>\n",
       "      <th>0001-3.csv</th>\n",
       "      <td>1</td>\n",
       "      <td>1</td>\n",
       "      <td>3</td>\n",
       "      <td>0</td>\n",
       "    </tr>\n",
       "    <tr>\n",
       "      <th>0001-3.csv</th>\n",
       "      <td>1</td>\n",
       "      <td>1</td>\n",
       "      <td>3</td>\n",
       "      <td>0</td>\n",
       "    </tr>\n",
       "    <tr>\n",
       "      <th>0001-3.csv</th>\n",
       "      <td>1</td>\n",
       "      <td>1</td>\n",
       "      <td>3</td>\n",
       "      <td>0</td>\n",
       "    </tr>\n",
       "  </tbody>\n",
       "</table>\n",
       "</div>"
      ],
      "text/plain": [
       "            clust_2  clust_3  clust_4  phase\n",
       "n_vol                                       \n",
       "0001-3.csv        1        1        3      0\n",
       "0001-3.csv        1        1        3      0\n",
       "0001-3.csv        1        1        3      0\n",
       "0001-3.csv        1        1        3      0\n",
       "0001-3.csv        1        1        3      0"
      ]
     },
     "execution_count": 171,
     "metadata": {},
     "output_type": "execute_result"
    }
   ],
   "source": [
    "df_clusters.head()"
   ]
  },
  {
   "cell_type": "code",
   "execution_count": 175,
   "metadata": {
    "collapsed": false
   },
   "outputs": [],
   "source": [
    "df_clusters.reset_index().to_csv('df_clusters.csv', sep=',')"
   ]
  },
  {
   "cell_type": "markdown",
   "metadata": {},
   "source": [
    "### Comparaison marqueur \"Phase\" et \"clust2\""
   ]
  },
  {
   "cell_type": "code",
   "execution_count": 11,
   "metadata": {
    "collapsed": true
   },
   "outputs": [],
   "source": [
    "df_clusters = pd.read_csv(path + 'df_clusters.csv', sep=\",\", header=0, encoding=\"latin 1\")"
   ]
  },
  {
   "cell_type": "code",
   "execution_count": 12,
   "metadata": {
    "collapsed": false
   },
   "outputs": [],
   "source": [
    "df_clusters = df_clusters.drop('Unnamed: 0', axis = 1).set_index('n_vol')"
   ]
  },
  {
   "cell_type": "code",
   "execution_count": 13,
   "metadata": {
    "collapsed": false
   },
   "outputs": [],
   "source": [
    "df_clusters[\"time\"] = df1.time"
   ]
  },
  {
   "cell_type": "code",
   "execution_count": 14,
   "metadata": {
    "collapsed": false
   },
   "outputs": [
    {
     "data": {
      "text/html": [
       "<div>\n",
       "<table border=\"1\" class=\"dataframe\">\n",
       "  <thead>\n",
       "    <tr style=\"text-align: right;\">\n",
       "      <th></th>\n",
       "      <th>clust_2</th>\n",
       "      <th>clust_3</th>\n",
       "      <th>clust_4</th>\n",
       "      <th>phase</th>\n",
       "      <th>time</th>\n",
       "    </tr>\n",
       "    <tr>\n",
       "      <th>n_vol</th>\n",
       "      <th></th>\n",
       "      <th></th>\n",
       "      <th></th>\n",
       "      <th></th>\n",
       "      <th></th>\n",
       "    </tr>\n",
       "  </thead>\n",
       "  <tbody>\n",
       "    <tr>\n",
       "      <th>0001-3.csv</th>\n",
       "      <td>1</td>\n",
       "      <td>1</td>\n",
       "      <td>3</td>\n",
       "      <td>0</td>\n",
       "      <td>18:29:44.000000</td>\n",
       "    </tr>\n",
       "    <tr>\n",
       "      <th>0001-3.csv</th>\n",
       "      <td>1</td>\n",
       "      <td>1</td>\n",
       "      <td>3</td>\n",
       "      <td>0</td>\n",
       "      <td>18:29:46.000000</td>\n",
       "    </tr>\n",
       "    <tr>\n",
       "      <th>0001-3.csv</th>\n",
       "      <td>1</td>\n",
       "      <td>1</td>\n",
       "      <td>3</td>\n",
       "      <td>0</td>\n",
       "      <td>18:29:48.000000</td>\n",
       "    </tr>\n",
       "    <tr>\n",
       "      <th>0001-3.csv</th>\n",
       "      <td>1</td>\n",
       "      <td>1</td>\n",
       "      <td>3</td>\n",
       "      <td>0</td>\n",
       "      <td>18:29:50.000000</td>\n",
       "    </tr>\n",
       "    <tr>\n",
       "      <th>0001-3.csv</th>\n",
       "      <td>1</td>\n",
       "      <td>1</td>\n",
       "      <td>3</td>\n",
       "      <td>0</td>\n",
       "      <td>18:29:52.000000</td>\n",
       "    </tr>\n",
       "  </tbody>\n",
       "</table>\n",
       "</div>"
      ],
      "text/plain": [
       "            clust_2  clust_3  clust_4  phase             time\n",
       "n_vol                                                        \n",
       "0001-3.csv        1        1        3      0  18:29:44.000000\n",
       "0001-3.csv        1        1        3      0  18:29:46.000000\n",
       "0001-3.csv        1        1        3      0  18:29:48.000000\n",
       "0001-3.csv        1        1        3      0  18:29:50.000000\n",
       "0001-3.csv        1        1        3      0  18:29:52.000000"
      ]
     },
     "execution_count": 14,
     "metadata": {},
     "output_type": "execute_result"
    }
   ],
   "source": [
    "df_clusters.head()"
   ]
  },
  {
   "cell_type": "code",
   "execution_count": 15,
   "metadata": {
    "collapsed": true
   },
   "outputs": [],
   "source": [
    "# Intervertissons les valeurs 1 et 0 de clust_2 pour être cohérent avec la notation de phase"
   ]
  },
  {
   "cell_type": "code",
   "execution_count": 16,
   "metadata": {
    "collapsed": false
   },
   "outputs": [],
   "source": [
    "df_clusters.clust_2 = np.where(df_clusters.clust_2 == 1, 0, 1)"
   ]
  },
  {
   "cell_type": "code",
   "execution_count": 33,
   "metadata": {
    "collapsed": false
   },
   "outputs": [
    {
     "data": {
      "text/plain": [
       "<matplotlib.axes._subplots.AxesSubplot at 0x11ba69c18>"
      ]
     },
     "execution_count": 33,
     "metadata": {},
     "output_type": "execute_result"
    },
    {
     "data": {
      "image/png": "[encoded data removed]",
      "text/plain": [
       "<matplotlib.figure.Figure at 0x11c210940>"
      ]
     },
     "metadata": {},
     "output_type": "display_data"
    }
   ],
   "source": [
    "fig, axes = plt.subplots(2, 3, figsize=(15, 5))\n",
    "axes[0][1].set_title(\"Comparaison phase / cluster k = 2 par la méthode Kmeans\")\n",
    "df_clusters.ix['0001-3.csv'].plot(x = 'time', y = ['clust_2', 'phase'], ylim=[-0.5, 1.5], xticks = [], ax = axes[0,0], alpha = 0.7, fontsize = 6)\n",
    "df_clusters.ix['0119-4.csv'].plot(x = 'time', y = ['clust_2', 'phase'], ylim=[-0.5, 1.5], xticks = [], ax = axes[0,1], alpha = 0.7, fontsize = 6, legend = False)\n",
    "df_clusters.ix['0133-6.csv'].plot(x = 'time', y = ['clust_2', 'phase'], ylim=[-0.5, 1.5], xticks = [], ax = axes[0,2], alpha = 0.7, fontsize = 6, legend = False)\n",
    "df_clusters.ix['0250-1.csv'].plot(x = 'time', y = ['clust_2', 'phase'], ylim=[-0.5, 1.5], xticks = [], ax = axes[1,0], alpha = 0.7, fontsize = 6, legend = False)\n",
    "df_clusters.ix['0386-3.csv'].plot(x = 'time', y = ['clust_2', 'phase'], ylim=[-0.5, 1.5], xticks = [], ax = axes[1,1], alpha = 0.7, fontsize = 6, legend = False)\n",
    "df_clusters.ix['0406-5.csv'].plot(x = 'time', y = ['clust_2', 'phase'], ylim=[-0.5, 1.5], xticks = [], ax = axes[1,2], alpha = 0.7, fontsize = 6, legend = False)"
   ]
  },
  {
   "cell_type": "markdown",
   "metadata": {
    "collapsed": true
   },
   "source": [
    "### Visualisation cluster k = 3"
   ]
  },
  {
   "cell_type": "code",
   "execution_count": 44,
   "metadata": {
    "collapsed": false
   },
   "outputs": [],
   "source": [
    "#df_clusters.clust_3[df_clusters.clust_3 == 1]= 0.5"
   ]
  },
  {
   "cell_type": "code",
   "execution_count": 40,
   "metadata": {
    "collapsed": true
   },
   "outputs": [],
   "source": [
    "df_clusters.clust_3[df_clusters.clust_3 == 0]= 1"
   ]
  },
  {
   "cell_type": "code",
   "execution_count": 42,
   "metadata": {
    "collapsed": true
   },
   "outputs": [],
   "source": [
    "df_clusters.clust_3[df_clusters.clust_3 == 0.5]= 0"
   ]
  },
  {
   "cell_type": "code",
   "execution_count": 54,
   "metadata": {
    "collapsed": false
   },
   "outputs": [
    {
     "data": {
      "text/plain": [
       "<matplotlib.axes._subplots.AxesSubplot at 0x11f3a2978>"
      ]
     },
     "execution_count": 54,
     "metadata": {},
     "output_type": "execute_result"
    },
    {
     "data": {
      "image/png": "[encoded data removed]",
      "text/plain": [
       "<matplotlib.figure.Figure at 0x120cdd4e0>"
      ]
     },
     "metadata": {},
     "output_type": "display_data"
    }
   ],
   "source": [
    "fig, axes = plt.subplots(2, 3, figsize=(15, 5))\n",
    "axes[0][1].set_title(\"Comparaison phase / cluster k = 3 par la méthode Kmeans\")\n",
    "df_clusters.ix['0001-3.csv'].plot(x = 'time', y = ['clust_3', 'phase'], ylim=[-0.5, 2.5], xticks = [], ax = axes[0,0], alpha = 0.7, fontsize = 6)\n",
    "df_clusters.ix['0119-4.csv'].plot(x = 'time', y = ['clust_3', 'phase'], ylim=[-0.5, 2.5], xticks = [], ax = axes[0,1], alpha = 0.7, fontsize = 6, legend = False)\n",
    "df_clusters.ix['0133-6.csv'].plot(x = 'time', y = ['clust_3', 'phase'], ylim=[-0.5, 2.5], xticks = [], ax = axes[0,2], alpha = 0.7, fontsize = 6, legend = False)\n",
    "df_clusters.ix['0250-1.csv'].plot(x = 'time', y = ['clust_3', 'phase'], ylim=[-0.5, 2.5], xticks = [], ax = axes[1,0], alpha = 0.7, fontsize = 6, legend = False)\n",
    "df_clusters.ix['0386-3.csv'].plot(x = 'time', y = ['clust_3', 'phase'], ylim=[-0.5, 2.5], xticks = [], ax = axes[1,1], alpha = 0.7, fontsize = 6, legend = False)\n",
    "df_clusters.ix['0406-5.csv'].plot(x = 'time', y = ['clust_3', 'phase'], ylim=[-0.5, 2.5], xticks = [], ax = axes[1,2], alpha = 0.7, fontsize = 6, legend = False)"
   ]
  },
  {
   "cell_type": "markdown",
   "metadata": {},
   "source": [
    "### Zoom sur un vol : 4 clusters / 2 phases"
   ]
  },
  {
   "cell_type": "code",
   "execution_count": 75,
   "metadata": {
    "collapsed": false
   },
   "outputs": [
    {
     "data": {
      "text/plain": [
       "<matplotlib.legend.Legend at 0x121a9f358>"
      ]
     },
     "execution_count": 75,
     "metadata": {},
     "output_type": "execute_result"
    },
    {
     "data": {
      "image/png": "[encoded data removed]",
      "text/plain": [
       "<matplotlib.figure.Figure at 0x123bc5630>"
      ]
     },
     "metadata": {},
     "output_type": "display_data"
    }
   ],
   "source": [
    "fig, axes = plt.subplots(2,1, figsize=(10,8))\n",
    "df_clusters.ix['0133-6.csv'].plot(x = 'time', y = ['clust_4'], ylim=[-0.5, 3.5],xticks = [], color = 'hotpink', ax = axes[0], figsize=(15, 4), fontsize = 6, legend = False)\n",
    "df_clusters.ix['0133-6.csv'].plot(x = 'time', y = ['phase'], ylim=[-0.5, 3.5],xticks = [], ax = axes[1], alpha = 0.5, figsize=(15, 4), fontsize = 6, legend = False)\n",
    "axes[0].set_title('Clustering 4 clusters')\n",
    "plt.legend(loc = 'best', fontsize = 'small')"
   ]
  },
  {
   "cell_type": "code",
   "execution_count": 77,
   "metadata": {
    "collapsed": false
   },
   "outputs": [
    {
     "data": {
      "text/plain": [
       "<matplotlib.legend.Legend at 0x11d4e09b0>"
      ]
     },
     "execution_count": 77,
     "metadata": {},
     "output_type": "execute_result"
    },
    {
     "data": {
      "image/png": "[encoded data removed]",
      "text/plain": [
       "<matplotlib.figure.Figure at 0x1214df710>"
      ]
     },
     "metadata": {},
     "output_type": "display_data"
    }
   ],
   "source": [
    "fig, axes = plt.subplots(2,1, figsize=(10,8))\n",
    "df_clusters.ix['0001-3.csv'].plot(x = 'time', y = ['clust_4'], ylim=[-0.5, 3.5], color = 'hotpink', xticks = [], ax = axes[0], figsize=(15, 4), fontsize = 6, legend = False)\n",
    "df_clusters.ix['0001-3.csv'].plot(x = 'time', y = ['phase'], ylim=[-0.5, 3.5],xticks = [], ax = axes[1], alpha = 0.5, figsize=(15, 4), fontsize = 6, legend = False)\n",
    "axes[0].set_title('Clustering 4 clusters')\n",
    "plt.legend(loc = 'best', fontsize = 'small')"
   ]
  },
  {
   "cell_type": "code",
   "execution_count": null,
   "metadata": {
    "collapsed": true
   },
   "outputs": [],
   "source": []
  }
 ],
 "metadata": {
  "anaconda-cloud": {},
  "kernelspec": {
   "display_name": "Python [conda root]",
   "language": "python",
   "name": "conda-root-py"
  },
  "language_info": {
   "codemirror_mode": {
    "name": "ipython",
    "version": 3
   },
   "file_extension": ".py",
   "mimetype": "text/x-python",
   "name": "python",
   "nbconvert_exporter": "python",
   "pygments_lexer": "ipython3",
   "version": "3.5.2"
  }
 },
 "nbformat": 4,
 "nbformat_minor": 1
}
