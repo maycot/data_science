{
 "cells": [
  {
   "cell_type": "code",
   "execution_count": 1,
   "metadata": {
    "collapsed": true
   },
   "outputs": [],
   "source": [
    "%matplotlib inline\n",
    "\n",
    "import pandas as pd\n",
    "import numpy as np\n",
    "from os.path import join\n",
    "import matplotlib.pyplot as plt\n",
    "from os import walk\n",
    "plt.rc('figure', figsize = (5, 4))"
   ]
  },
  {
   "cell_type": "markdown",
   "metadata": {},
   "source": [
    "# Cleaning OUTLIERS "
   ]
  },
  {
   "cell_type": "markdown",
   "metadata": {},
   "source": [
    "    On enlève chaque ligne avec des valeurs d'input supérieures à un certain taux (déterminé ici arbitrairement à\n",
    "    mean_vol(input) -/+ (2.5 * std_vol(input))) / Ceci sur la phase 1 uniquement"
   ]
  },
  {
   "cell_type": "code",
   "execution_count": 2,
   "metadata": {
    "collapsed": true
   },
   "outputs": [],
   "source": [
    "path = '/Users/mayliscotadze/Documents/Safran/'"
   ]
  },
  {
   "cell_type": "code",
   "execution_count": 3,
   "metadata": {
    "collapsed": false
   },
   "outputs": [],
   "source": [
    "df = pd.read_csv(path + 'all_datas_cleaned.csv', sep=\",\", header=0, encoding=\"latin 1\")\n",
    "df = df.drop(['Unnamed: 0', 'Unnamed: 0.1'], axis = 1)"
   ]
  },
  {
   "cell_type": "code",
   "execution_count": 5,
   "metadata": {
    "collapsed": true
   },
   "outputs": [],
   "source": [
    "input = [\"static pressure\", \"air speed\",\n",
    "          \"rotation speed\", \"outside temp\", \"n2\", \"n1\", \"torque\",\n",
    "          \"turbine temp\", \"oil pressure\", \"oil temp\", \"ground speed\", \"altitude\"]\n"
   ]
  },
  {
   "cell_type": "markdown",
   "metadata": {},
   "source": [
    "## Pour la phase 1"
   ]
  },
  {
   "cell_type": "code",
   "execution_count": 6,
   "metadata": {
    "collapsed": false
   },
   "outputs": [],
   "source": [
    "df1 = df[df[\"phase\"]==1].set_index('n_vol')"
   ]
  },
  {
   "cell_type": "code",
   "execution_count": 22,
   "metadata": {
    "collapsed": false
   },
   "outputs": [
    {
     "data": {
      "text/plain": [
       "((4017610, 17), 1349)"
      ]
     },
     "execution_count": 22,
     "metadata": {},
     "output_type": "execute_result"
    }
   ],
   "source": [
    "df1.shape , len(set(df1.index))"
   ]
  },
  {
   "cell_type": "code",
   "execution_count": 8,
   "metadata": {
    "collapsed": true
   },
   "outputs": [],
   "source": [
    "df1_cleaned_outliers = pd.DataFrame(columns = df1.columns)"
   ]
  },
  {
   "cell_type": "code",
   "execution_count": 10,
   "metadata": {
    "collapsed": false
   },
   "outputs": [],
   "source": [
    "for flight in set(df1.index):\n",
    "    df_flight = df1.ix[flight]\n",
    "    for var in input:\n",
    "        df_flight = df_flight[(df_flight[var] > df_flight[var].mean() - 2.5 * df_flight[var].std()) & (df_flight[var] < df_flight[var].mean() + 2.5 * df_flight[var].std())]\n",
    "    df1_cleaned_outliers = pd.concat([df1_cleaned_outliers, df_flight])   "
   ]
  },
  {
   "cell_type": "code",
   "execution_count": 12,
   "metadata": {
    "collapsed": false
   },
   "outputs": [
    {
     "name": "stdout",
     "output_type": "stream",
     "text": [
      "Nombre total de lignes supprimées : 942067\n",
      "Soit une moyenne par vol de : 698.3446997776131\n"
     ]
    }
   ],
   "source": [
    "print (\"Nombre total de lignes supprimées : {}\".format(df1.shape[0] - df1_cleaned_outliers.shape[0]))\n",
    "print (\"Soit une moyenne par vol de : {}\".format((df1.shape[0] - df1_cleaned_outliers.shape[0]) / len(set(df1.index))))\n"
   ]
  },
  {
   "cell_type": "code",
   "execution_count": 13,
   "metadata": {
    "collapsed": true
   },
   "outputs": [],
   "source": [
    "df2 = df[df[\"phase\"]==0].set_index('n_vol')"
   ]
  },
  {
   "cell_type": "code",
   "execution_count": 16,
   "metadata": {
    "collapsed": false
   },
   "outputs": [],
   "source": [
    "df_cleaned_outliers = pd.concat([df2, df1_cleaned_outliers])"
   ]
  },
  {
   "cell_type": "code",
   "execution_count": 20,
   "metadata": {
    "collapsed": false
   },
   "outputs": [
    {
     "data": {
      "text/plain": [
       "(3646406, 17)"
      ]
     },
     "execution_count": 20,
     "metadata": {},
     "output_type": "execute_result"
    }
   ],
   "source": [
    "df_cleaned_outliers.shape"
   ]
  },
  {
   "cell_type": "code",
   "execution_count": 24,
   "metadata": {
    "collapsed": false
   },
   "outputs": [],
   "source": [
    "df_cleaned_outliers.to_csv('all_datas_cleaned_outliers.csv', sep=',')"
   ]
  },
  {
   "cell_type": "markdown",
   "metadata": {},
   "source": [
    "### Example de l'impact du nettoyage des outliers (avec un valeur 2.5 std ) sur le fichier '0001-3.csv'"
   ]
  },
  {
   "cell_type": "markdown",
   "metadata": {},
   "source": [
    "    Le nombre de lignes passe de 334 à 291\n",
    "    \n",
    "    A partir de 'n1', plus de suppression de lignes"
   ]
  },
  {
   "cell_type": "code",
   "execution_count": null,
   "metadata": {
    "collapsed": true
   },
   "outputs": [],
   "source": [
    "df1 = df_input.ix['0001-3.csv']"
   ]
  },
  {
   "cell_type": "code",
   "execution_count": 85,
   "metadata": {
    "collapsed": false
   },
   "outputs": [
    {
     "data": {
      "text/html": [
       "<div>\n",
       "<table border=\"1\" class=\"dataframe\">\n",
       "  <thead>\n",
       "    <tr style=\"text-align: right;\">\n",
       "      <th></th>\n",
       "      <th>static pressure</th>\n",
       "      <th>air speed</th>\n",
       "      <th>rotation speed</th>\n",
       "      <th>outside temp</th>\n",
       "      <th>n2</th>\n",
       "      <th>n1</th>\n",
       "      <th>torque</th>\n",
       "      <th>turbine temp</th>\n",
       "      <th>oil pressure</th>\n",
       "      <th>oil temp</th>\n",
       "      <th>ground speed</th>\n",
       "      <th>altitude</th>\n",
       "    </tr>\n",
       "  </thead>\n",
       "  <tbody>\n",
       "    <tr>\n",
       "      <th>count</th>\n",
       "      <td>334.000000</td>\n",
       "      <td>334.000000</td>\n",
       "      <td>334.000000</td>\n",
       "      <td>334.000000</td>\n",
       "      <td>334.000000</td>\n",
       "      <td>334.000000</td>\n",
       "      <td>334.000000</td>\n",
       "      <td>334.000000</td>\n",
       "      <td>334.000000</td>\n",
       "      <td>334.000000</td>\n",
       "      <td>334.000000</td>\n",
       "      <td>334.000000</td>\n",
       "    </tr>\n",
       "    <tr>\n",
       "      <th>mean</th>\n",
       "      <td>1001.501198</td>\n",
       "      <td>76.685629</td>\n",
       "      <td>324.694611</td>\n",
       "      <td>28.119760</td>\n",
       "      <td>319.203593</td>\n",
       "      <td>76.082635</td>\n",
       "      <td>39.072455</td>\n",
       "      <td>617.874251</td>\n",
       "      <td>3.262874</td>\n",
       "      <td>65.257485</td>\n",
       "      <td>79.898204</td>\n",
       "      <td>120.491018</td>\n",
       "    </tr>\n",
       "    <tr>\n",
       "      <th>std</th>\n",
       "      <td>14.749889</td>\n",
       "      <td>87.197611</td>\n",
       "      <td>107.518514</td>\n",
       "      <td>1.064313</td>\n",
       "      <td>119.012808</td>\n",
       "      <td>26.066508</td>\n",
       "      <td>26.282529</td>\n",
       "      <td>137.740287</td>\n",
       "      <td>1.375133</td>\n",
       "      <td>7.347214</td>\n",
       "      <td>91.184342</td>\n",
       "      <td>120.900171</td>\n",
       "    </tr>\n",
       "    <tr>\n",
       "      <th>min</th>\n",
       "      <td>966.700000</td>\n",
       "      <td>0.000000</td>\n",
       "      <td>0.000000</td>\n",
       "      <td>26.000000</td>\n",
       "      <td>0.000000</td>\n",
       "      <td>0.000000</td>\n",
       "      <td>1.900000</td>\n",
       "      <td>155.000000</td>\n",
       "      <td>0.000000</td>\n",
       "      <td>48.000000</td>\n",
       "      <td>0.000000</td>\n",
       "      <td>11.000000</td>\n",
       "    </tr>\n",
       "    <tr>\n",
       "      <th>25%</th>\n",
       "      <td>989.900000</td>\n",
       "      <td>0.000000</td>\n",
       "      <td>266.250000</td>\n",
       "      <td>27.000000</td>\n",
       "      <td>267.000000</td>\n",
       "      <td>67.900000</td>\n",
       "      <td>13.800000</td>\n",
       "      <td>567.500000</td>\n",
       "      <td>2.500000</td>\n",
       "      <td>59.000000</td>\n",
       "      <td>0.000000</td>\n",
       "      <td>35.000000</td>\n",
       "    </tr>\n",
       "    <tr>\n",
       "      <th>50%</th>\n",
       "      <td>1012.000000</td>\n",
       "      <td>6.000000</td>\n",
       "      <td>385.000000</td>\n",
       "      <td>29.000000</td>\n",
       "      <td>386.000000</td>\n",
       "      <td>87.050000</td>\n",
       "      <td>37.750000</td>\n",
       "      <td>639.500000</td>\n",
       "      <td>3.900000</td>\n",
       "      <td>64.500000</td>\n",
       "      <td>15.000000</td>\n",
       "      <td>46.000000</td>\n",
       "    </tr>\n",
       "    <tr>\n",
       "      <th>75%</th>\n",
       "      <td>1012.300000</td>\n",
       "      <td>176.500000</td>\n",
       "      <td>386.000000</td>\n",
       "      <td>29.000000</td>\n",
       "      <td>387.000000</td>\n",
       "      <td>92.900000</td>\n",
       "      <td>62.600000</td>\n",
       "      <td>720.000000</td>\n",
       "      <td>4.300000</td>\n",
       "      <td>71.000000</td>\n",
       "      <td>187.000000</td>\n",
       "      <td>199.000000</td>\n",
       "    </tr>\n",
       "    <tr>\n",
       "      <th>max</th>\n",
       "      <td>1014.100000</td>\n",
       "      <td>211.000000</td>\n",
       "      <td>397.000000</td>\n",
       "      <td>29.000000</td>\n",
       "      <td>398.000000</td>\n",
       "      <td>95.500000</td>\n",
       "      <td>80.400000</td>\n",
       "      <td>767.000000</td>\n",
       "      <td>4.600000</td>\n",
       "      <td>82.000000</td>\n",
       "      <td>235.000000</td>\n",
       "      <td>430.000000</td>\n",
       "    </tr>\n",
       "  </tbody>\n",
       "</table>\n",
       "</div>"
      ],
      "text/plain": [
       "       static pressure   air speed  rotation speed  outside temp          n2  \\\n",
       "count       334.000000  334.000000      334.000000    334.000000  334.000000   \n",
       "mean       1001.501198   76.685629      324.694611     28.119760  319.203593   \n",
       "std          14.749889   87.197611      107.518514      1.064313  119.012808   \n",
       "min         966.700000    0.000000        0.000000     26.000000    0.000000   \n",
       "25%         989.900000    0.000000      266.250000     27.000000  267.000000   \n",
       "50%        1012.000000    6.000000      385.000000     29.000000  386.000000   \n",
       "75%        1012.300000  176.500000      386.000000     29.000000  387.000000   \n",
       "max        1014.100000  211.000000      397.000000     29.000000  398.000000   \n",
       "\n",
       "               n1      torque  turbine temp  oil pressure    oil temp  \\\n",
       "count  334.000000  334.000000    334.000000    334.000000  334.000000   \n",
       "mean    76.082635   39.072455    617.874251      3.262874   65.257485   \n",
       "std     26.066508   26.282529    137.740287      1.375133    7.347214   \n",
       "min      0.000000    1.900000    155.000000      0.000000   48.000000   \n",
       "25%     67.900000   13.800000    567.500000      2.500000   59.000000   \n",
       "50%     87.050000   37.750000    639.500000      3.900000   64.500000   \n",
       "75%     92.900000   62.600000    720.000000      4.300000   71.000000   \n",
       "max     95.500000   80.400000    767.000000      4.600000   82.000000   \n",
       "\n",
       "       ground speed    altitude  \n",
       "count    334.000000  334.000000  \n",
       "mean      79.898204  120.491018  \n",
       "std       91.184342  120.900171  \n",
       "min        0.000000   11.000000  \n",
       "25%        0.000000   35.000000  \n",
       "50%       15.000000   46.000000  \n",
       "75%      187.000000  199.000000  \n",
       "max      235.000000  430.000000  "
      ]
     },
     "execution_count": 85,
     "metadata": {},
     "output_type": "execute_result"
    }
   ],
   "source": [
    "df1.describe()"
   ]
  },
  {
   "cell_type": "code",
   "execution_count": 72,
   "metadata": {
    "collapsed": false
   },
   "outputs": [],
   "source": [
    "df3 = df1[(df1['static pressure'] > df1['static pressure'].mean() - 2.5 * df1['static pressure'].std()) & (df1['static pressure'] < df1['static pressure'].mean() + 2.5 * df1['static pressure'].std())]"
   ]
  },
  {
   "cell_type": "code",
   "execution_count": 73,
   "metadata": {
    "collapsed": false
   },
   "outputs": [],
   "source": [
    "df4 = df3[(df3['air speed'] > df3['air speed'].mean() -2.5 * df3['air speed'].std()) & (df3['air speed'] < df3['air speed'].mean() + 2.5 * df3['air speed'].std())]"
   ]
  },
  {
   "cell_type": "code",
   "execution_count": 74,
   "metadata": {
    "collapsed": true
   },
   "outputs": [],
   "source": [
    "df5 = df4[(df4['rotation speed'] > df4['rotation speed'].mean() - 2.5 * df4['rotation speed'].std()) & (df4['rotation speed'] < df4['rotation speed'].mean() + 2.5 * df4['rotation speed'].std())]"
   ]
  },
  {
   "cell_type": "code",
   "execution_count": 75,
   "metadata": {
    "collapsed": true
   },
   "outputs": [],
   "source": [
    "df6 = df5[(df5['outside temp'] > df5['outside temp'].mean() - 2.5 * df5['outside temp'].std()) & (df5['outside temp'] < df5['outside temp'].mean() + 2.5 * df5['outside temp'].std())]"
   ]
  },
  {
   "cell_type": "code",
   "execution_count": 76,
   "metadata": {
    "collapsed": true
   },
   "outputs": [],
   "source": [
    "df7 = df6[(df6['n2'] > df6['n2'].mean() - 2.5 * df6['n2'].std()) & (df6['n2'] < df6['n2'].mean() + 2.5 * df6['n2'].std())]"
   ]
  },
  {
   "cell_type": "code",
   "execution_count": 77,
   "metadata": {
    "collapsed": true
   },
   "outputs": [],
   "source": [
    "df8 = df7[(df7['n1'] > df7['n1'].mean() - 2.5 * df7['n1'].std()) & (df7['n1'] < df7['n1'].mean() + 2.5 * df7['n1'].std())]"
   ]
  },
  {
   "cell_type": "code",
   "execution_count": 78,
   "metadata": {
    "collapsed": true
   },
   "outputs": [],
   "source": [
    "df9 = df8[(df8['torque'] > df8['torque'].mean() - 2.5 * df8['torque'].std()) & (df8['torque'] < df8['torque'].mean() + 2.5 * df8['torque'].std())]"
   ]
  },
  {
   "cell_type": "code",
   "execution_count": 79,
   "metadata": {
    "collapsed": true
   },
   "outputs": [],
   "source": [
    "df10 = df9[(df9['turbine temp'] > df9['turbine temp'].mean() - 2.5 * df9['turbine temp'].std()) & (df9['turbine temp'] < df9['turbine temp'].mean() + 2.5 * df9['turbine temp'].std())]"
   ]
  },
  {
   "cell_type": "code",
   "execution_count": 80,
   "metadata": {
    "collapsed": true
   },
   "outputs": [],
   "source": [
    "df11 = df10[(df10['oil pressure'] > df10['oil pressure'].mean() - 2.5 * df10['oil pressure'].std()) & (df10['oil pressure'] < df10['oil pressure'].mean() + 2.5 * df10['oil pressure'].std())]"
   ]
  },
  {
   "cell_type": "code",
   "execution_count": 81,
   "metadata": {
    "collapsed": true
   },
   "outputs": [],
   "source": [
    "df12 = df11[(df11['ground speed'] > df11['ground speed'].mean() - 2.5 * df11['ground speed'].std()) & (df11['ground speed'] < df11['ground speed'].mean() + 2.5 * df11['ground speed'].std())]"
   ]
  },
  {
   "cell_type": "code",
   "execution_count": 82,
   "metadata": {
    "collapsed": true
   },
   "outputs": [],
   "source": [
    "df13 = df12[(df12['altitude'] > df12['altitude'].mean() - 2.5 * df12['altitude'].std()) & (df12['altitude'] < df12['altitude'].mean() + 2.5 * df12['altitude'].std())]"
   ]
  },
  {
   "cell_type": "code",
   "execution_count": 83,
   "metadata": {
    "collapsed": false
   },
   "outputs": [
    {
     "data": {
      "text/plain": [
       "((334, 12),\n",
       " (334, 12),\n",
       " (334, 12),\n",
       " (317, 12),\n",
       " (317, 12),\n",
       " (296, 12),\n",
       " (291, 12),\n",
       " (291, 12),\n",
       " (291, 12),\n",
       " (291, 12),\n",
       " (291, 12),\n",
       " (291, 12))"
      ]
     },
     "execution_count": 83,
     "metadata": {},
     "output_type": "execute_result"
    }
   ],
   "source": [
    "df1.shape , df3.shape, df4.shape, df5.shape, df6.shape, df7.shape, df8.shape, df9.shape, df10.shape, df11.shape, df12.shape, df13.shape"
   ]
  },
  {
   "cell_type": "code",
   "execution_count": null,
   "metadata": {
    "collapsed": true
   },
   "outputs": [],
   "source": []
  }
 ],
 "metadata": {
  "anaconda-cloud": {},
  "kernelspec": {
   "display_name": "Python [conda root]",
   "language": "python",
   "name": "conda-root-py"
  },
  "language_info": {
   "codemirror_mode": {
    "name": "ipython",
    "version": 3
   },
   "file_extension": ".py",
   "mimetype": "text/x-python",
   "name": "python",
   "nbconvert_exporter": "python",
   "pygments_lexer": "ipython3",
   "version": "3.5.2"
  }
 },
 "nbformat": 4,
 "nbformat_minor": 1
}
