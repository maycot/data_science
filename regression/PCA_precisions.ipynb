{
 "cells": [
  {
   "cell_type": "code",
   "execution_count": 83,
   "metadata": {
    "collapsed": true
   },
   "outputs": [],
   "source": [
    "%matplotlib inline\n",
    "\n",
    "import pandas as pd\n",
    "import numpy as np\n",
    "from os.path import join\n",
    "import matplotlib.pyplot as plt\n",
    "from os import walk\n",
    "from scipy import linalg\n",
    "from sklearn.preprocessing import scale\n",
    "from sklearn.decomposition import PCA"
   ]
  },
  {
   "cell_type": "markdown",
   "metadata": {},
   "source": [
    "# Etude PCA sur les variables heli "
   ]
  },
  {
   "cell_type": "markdown",
   "metadata": {},
   "source": [
    "    Le but : Reprendre la PCA mais différenciant les types d'input : \n",
    "        \n",
    "            - PCA héli : on exclue les variables environnementales : \"altitude, air speed, static pressure, \n",
    "            outside temp\".\n",
    "            \n",
    "            - PCA héli sans oil temp"
   ]
  },
  {
   "cell_type": "code",
   "execution_count": 8,
   "metadata": {
    "collapsed": true
   },
   "outputs": [],
   "source": [
    "path = '/Users/mayliscotadze/Documents/Safran/'"
   ]
  },
  {
   "cell_type": "code",
   "execution_count": 4,
   "metadata": {
    "collapsed": true
   },
   "outputs": [],
   "source": [
    "# Load file all_datas avec toutes les lignes de tous les fichiers"
   ]
  },
  {
   "cell_type": "code",
   "execution_count": 5,
   "metadata": {
    "collapsed": false
   },
   "outputs": [],
   "source": [
    "df = pd.read_csv(path + 'all_datas_cleaned.csv', sep=\",\", header=0, encoding=\"latin 1\")\n",
    "df = df.drop(['Unnamed: 0', 'Unnamed: 0.1'], axis = 1)"
   ]
  },
  {
   "cell_type": "code",
   "execution_count": 6,
   "metadata": {
    "collapsed": true
   },
   "outputs": [],
   "source": [
    "input = [\"static pressure\",\"air speed\",\"rotation speed\",\"outside temp\",\"n2\",\"n1\",\"torque\",\"turbine temp\",\"oil pressure\",\"oil temp\",\"ground speed\",\"altitude\"]"
   ]
  },
  {
   "cell_type": "code",
   "execution_count": 9,
   "metadata": {
    "collapsed": false
   },
   "outputs": [
    {
     "data": {
      "text/html": [
       "<div>\n",
       "<table border=\"1\" class=\"dataframe\">\n",
       "  <thead>\n",
       "    <tr style=\"text-align: right;\">\n",
       "      <th></th>\n",
       "      <th>time</th>\n",
       "      <th>phase</th>\n",
       "      <th>static pressure</th>\n",
       "      <th>air speed</th>\n",
       "      <th>rotation speed</th>\n",
       "      <th>outside temp</th>\n",
       "      <th>n2</th>\n",
       "      <th>n1</th>\n",
       "      <th>torque</th>\n",
       "      <th>turbine temp</th>\n",
       "      <th>oil pressure</th>\n",
       "      <th>oil temp</th>\n",
       "      <th>fuel vol</th>\n",
       "      <th>fuel flow</th>\n",
       "      <th>power</th>\n",
       "      <th>ground speed</th>\n",
       "      <th>altitude</th>\n",
       "      <th>n_vol</th>\n",
       "    </tr>\n",
       "  </thead>\n",
       "  <tbody>\n",
       "    <tr>\n",
       "      <th>0</th>\n",
       "      <td>18:29:44.000000</td>\n",
       "      <td>0</td>\n",
       "      <td>1012.1</td>\n",
       "      <td>0</td>\n",
       "      <td>0</td>\n",
       "      <td>29</td>\n",
       "      <td>0</td>\n",
       "      <td>0.0</td>\n",
       "      <td>2.3</td>\n",
       "      <td>155</td>\n",
       "      <td>0.0</td>\n",
       "      <td>48</td>\n",
       "      <td>273.0</td>\n",
       "      <td>58.2</td>\n",
       "      <td>21.7</td>\n",
       "      <td>0.0</td>\n",
       "      <td>56.0</td>\n",
       "      <td>0001-3.csv</td>\n",
       "    </tr>\n",
       "    <tr>\n",
       "      <th>1</th>\n",
       "      <td>18:29:46.000000</td>\n",
       "      <td>0</td>\n",
       "      <td>1012.0</td>\n",
       "      <td>0</td>\n",
       "      <td>0</td>\n",
       "      <td>29</td>\n",
       "      <td>0</td>\n",
       "      <td>0.3</td>\n",
       "      <td>2.3</td>\n",
       "      <td>156</td>\n",
       "      <td>0.0</td>\n",
       "      <td>48</td>\n",
       "      <td>273.0</td>\n",
       "      <td>46.6</td>\n",
       "      <td>NaN</td>\n",
       "      <td>0.0</td>\n",
       "      <td>55.0</td>\n",
       "      <td>0001-3.csv</td>\n",
       "    </tr>\n",
       "    <tr>\n",
       "      <th>2</th>\n",
       "      <td>18:29:48.000000</td>\n",
       "      <td>0</td>\n",
       "      <td>1012.1</td>\n",
       "      <td>0</td>\n",
       "      <td>0</td>\n",
       "      <td>29</td>\n",
       "      <td>0</td>\n",
       "      <td>5.3</td>\n",
       "      <td>2.3</td>\n",
       "      <td>157</td>\n",
       "      <td>0.0</td>\n",
       "      <td>48</td>\n",
       "      <td>273.0</td>\n",
       "      <td>33.1</td>\n",
       "      <td>NaN</td>\n",
       "      <td>0.0</td>\n",
       "      <td>54.0</td>\n",
       "      <td>0001-3.csv</td>\n",
       "    </tr>\n",
       "  </tbody>\n",
       "</table>\n",
       "</div>"
      ],
      "text/plain": [
       "              time  phase  static pressure  air speed  rotation speed  \\\n",
       "0  18:29:44.000000      0           1012.1          0               0   \n",
       "1  18:29:46.000000      0           1012.0          0               0   \n",
       "2  18:29:48.000000      0           1012.1          0               0   \n",
       "\n",
       "   outside temp  n2   n1  torque  turbine temp  oil pressure  oil temp  \\\n",
       "0            29   0  0.0     2.3           155           0.0        48   \n",
       "1            29   0  0.3     2.3           156           0.0        48   \n",
       "2            29   0  5.3     2.3           157           0.0        48   \n",
       "\n",
       "   fuel vol  fuel flow  power  ground speed  altitude       n_vol  \n",
       "0     273.0       58.2   21.7           0.0      56.0  0001-3.csv  \n",
       "1     273.0       46.6    NaN           0.0      55.0  0001-3.csv  \n",
       "2     273.0       33.1    NaN           0.0      54.0  0001-3.csv  "
      ]
     },
     "execution_count": 9,
     "metadata": {},
     "output_type": "execute_result"
    }
   ],
   "source": [
    "df.head(3)"
   ]
  },
  {
   "cell_type": "markdown",
   "metadata": {},
   "source": [
    "## PCA sur les variables heli (sans distinction de phase)"
   ]
  },
  {
   "cell_type": "code",
   "execution_count": 10,
   "metadata": {
    "collapsed": true
   },
   "outputs": [],
   "source": [
    "input_heli = [\"rotation speed\",\"n2\",\"n1\",\"torque\",\"turbine temp\",\"oil pressure\",\"oil temp\",\"ground speed\"]"
   ]
  },
  {
   "cell_type": "code",
   "execution_count": 11,
   "metadata": {
    "collapsed": false
   },
   "outputs": [],
   "source": [
    "df1 = df[input_heli]"
   ]
  },
  {
   "cell_type": "code",
   "execution_count": 12,
   "metadata": {
    "collapsed": false
   },
   "outputs": [
    {
     "data": {
      "text/html": [
       "<div>\n",
       "<table border=\"1\" class=\"dataframe\">\n",
       "  <thead>\n",
       "    <tr style=\"text-align: right;\">\n",
       "      <th></th>\n",
       "      <th>rotation speed</th>\n",
       "      <th>n2</th>\n",
       "      <th>n1</th>\n",
       "      <th>torque</th>\n",
       "      <th>turbine temp</th>\n",
       "      <th>oil pressure</th>\n",
       "      <th>oil temp</th>\n",
       "      <th>ground speed</th>\n",
       "    </tr>\n",
       "  </thead>\n",
       "  <tbody>\n",
       "    <tr>\n",
       "      <th>0</th>\n",
       "      <td>0</td>\n",
       "      <td>0</td>\n",
       "      <td>0.0</td>\n",
       "      <td>2.3</td>\n",
       "      <td>155</td>\n",
       "      <td>0.0</td>\n",
       "      <td>48</td>\n",
       "      <td>0.0</td>\n",
       "    </tr>\n",
       "    <tr>\n",
       "      <th>1</th>\n",
       "      <td>0</td>\n",
       "      <td>0</td>\n",
       "      <td>0.3</td>\n",
       "      <td>2.3</td>\n",
       "      <td>156</td>\n",
       "      <td>0.0</td>\n",
       "      <td>48</td>\n",
       "      <td>0.0</td>\n",
       "    </tr>\n",
       "    <tr>\n",
       "      <th>2</th>\n",
       "      <td>0</td>\n",
       "      <td>0</td>\n",
       "      <td>5.3</td>\n",
       "      <td>2.3</td>\n",
       "      <td>157</td>\n",
       "      <td>0.0</td>\n",
       "      <td>48</td>\n",
       "      <td>0.0</td>\n",
       "    </tr>\n",
       "  </tbody>\n",
       "</table>\n",
       "</div>"
      ],
      "text/plain": [
       "   rotation speed  n2   n1  torque  turbine temp  oil pressure  oil temp  \\\n",
       "0               0   0  0.0     2.3           155           0.0        48   \n",
       "1               0   0  0.3     2.3           156           0.0        48   \n",
       "2               0   0  5.3     2.3           157           0.0        48   \n",
       "\n",
       "   ground speed  \n",
       "0           0.0  \n",
       "1           0.0  \n",
       "2           0.0  "
      ]
     },
     "execution_count": 12,
     "metadata": {},
     "output_type": "execute_result"
    }
   ],
   "source": [
    "df1.head(3)"
   ]
  },
  {
   "cell_type": "code",
   "execution_count": 15,
   "metadata": {
    "collapsed": false
   },
   "outputs": [],
   "source": [
    "df1 = df1.apply(lambda x : x.astype(float))"
   ]
  },
  {
   "cell_type": "code",
   "execution_count": 17,
   "metadata": {
    "collapsed": false
   },
   "outputs": [
    {
     "data": {
      "text/plain": [
       "rotation speed    float64\n",
       "n2                float64\n",
       "n1                float64\n",
       "torque            float64\n",
       "turbine temp      float64\n",
       "oil pressure      float64\n",
       "oil temp          float64\n",
       "ground speed      float64\n",
       "dtype: object"
      ]
     },
     "execution_count": 17,
     "metadata": {},
     "output_type": "execute_result"
    }
   ],
   "source": [
    "df1.dtypes"
   ]
  },
  {
   "cell_type": "code",
   "execution_count": 30,
   "metadata": {
    "collapsed": true
   },
   "outputs": [],
   "source": [
    "df1 = df1.dropna()"
   ]
  },
  {
   "cell_type": "code",
   "execution_count": 31,
   "metadata": {
    "collapsed": true
   },
   "outputs": [],
   "source": [
    "# Convert in numpy.array\n",
    "array_1 = df1.as_matrix()"
   ]
  },
  {
   "cell_type": "code",
   "execution_count": 32,
   "metadata": {
    "collapsed": false
   },
   "outputs": [
    {
     "data": {
      "text/plain": [
       "(4588430, 8)"
      ]
     },
     "execution_count": 32,
     "metadata": {},
     "output_type": "execute_result"
    }
   ],
   "source": [
    "array_1.shape"
   ]
  },
  {
   "cell_type": "code",
   "execution_count": 33,
   "metadata": {
    "collapsed": false
   },
   "outputs": [
    {
     "data": {
      "text/plain": [
       "(False, False)"
      ]
     },
     "execution_count": 33,
     "metadata": {},
     "output_type": "execute_result"
    }
   ],
   "source": [
    "np.any(np.isnan(array_1)) , np.any(np.isinf(array_1))"
   ]
  },
  {
   "cell_type": "code",
   "execution_count": 34,
   "metadata": {
    "collapsed": false
   },
   "outputs": [],
   "source": [
    "# Recentring and rescaling data\n",
    "array_1_scale = scale(array_1, axis=0)"
   ]
  },
  {
   "cell_type": "code",
   "execution_count": 41,
   "metadata": {
    "collapsed": true
   },
   "outputs": [],
   "source": [
    "pca = PCA(n_components=3).fit(array_1_scale)\n",
    "X_pca = pca.transform(array_1_scale)"
   ]
  },
  {
   "cell_type": "code",
   "execution_count": 42,
   "metadata": {
    "collapsed": false
   },
   "outputs": [
    {
     "name": "stdout",
     "output_type": "stream",
     "text": [
      "Eigenvalues Phase 1\n",
      "[ 6.17729345  0.98634934  0.40063495]\n"
     ]
    }
   ],
   "source": [
    "print(\"Eigenvalues Phase 1\")\n",
    "print(pca.explained_variance_)  "
   ]
  },
  {
   "cell_type": "code",
   "execution_count": 43,
   "metadata": {
    "collapsed": false
   },
   "outputs": [
    {
     "name": "stdout",
     "output_type": "stream",
     "text": [
      "Explained variance ratio\n",
      "[ 0.77216168  0.12329367  0.05007937]\n"
     ]
    }
   ],
   "source": [
    "print(\"Explained variance ratio\")\n",
    "print (pca.explained_variance_ratio_)"
   ]
  },
  {
   "cell_type": "code",
   "execution_count": 44,
   "metadata": {
    "collapsed": false
   },
   "outputs": [
    {
     "name": "stdout",
     "output_type": "stream",
     "text": [
      "Eigenvalues cumsum \n",
      "[ 0.77216168  0.89545535  0.94553472]\n"
     ]
    }
   ],
   "source": [
    "print(\"Eigenvalues cumsum \")\n",
    "print(pca.explained_variance_ratio_.cumsum())"
   ]
  },
  {
   "cell_type": "code",
   "execution_count": 46,
   "metadata": {
    "collapsed": false
   },
   "outputs": [
    {
     "data": {
      "text/plain": [
       "<matplotlib.text.Text at 0x117bd5c18>"
      ]
     },
     "execution_count": 46,
     "metadata": {},
     "output_type": "execute_result"
    },
    {
     "data": {
      "image/png": "[encoded data removed]",
      "text/plain": [
       "<matplotlib.figure.Figure at 0x117b2b358>"
      ]
     },
     "metadata": {},
     "output_type": "display_data"
    }
   ],
   "source": [
    "fig = plt.subplots(figsize=(4,4))\n",
    "plt.plot(pca.explained_variance_ratio_)\n",
    "plt.title('3 first Eigenvalues', fontsize = 12)"
   ]
  },
  {
   "cell_type": "markdown",
   "metadata": {},
   "source": [
    "#### First PCA Components interpretation"
   ]
  },
  {
   "cell_type": "markdown",
   "metadata": {},
   "source": [
    "Interpretation of the principal components is based on finding which variables are most strongly correlated with each component, i.e., which of these numbers are large in magnitude, the farthest from zero in either positive or negative direction. "
   ]
  },
  {
   "cell_type": "code",
   "execution_count": 47,
   "metadata": {
    "collapsed": true
   },
   "outputs": [],
   "source": [
    "pca_comp = pd.DataFrame(pca.components_)\n",
    "pca_comp.columns = input_heli"
   ]
  },
  {
   "cell_type": "code",
   "execution_count": 48,
   "metadata": {
    "collapsed": false
   },
   "outputs": [],
   "source": [
    "pca_comp2 = pca_comp.T"
   ]
  },
  {
   "cell_type": "code",
   "execution_count": 49,
   "metadata": {
    "collapsed": true
   },
   "outputs": [],
   "source": [
    "pca_comp2.columns = ['PC-1','PC-2','PC-3']"
   ]
  },
  {
   "cell_type": "code",
   "execution_count": 50,
   "metadata": {
    "collapsed": false
   },
   "outputs": [
    {
     "data": {
      "text/html": [
       "<div>\n",
       "<table border=\"1\" class=\"dataframe\">\n",
       "  <thead>\n",
       "    <tr style=\"text-align: right;\">\n",
       "      <th></th>\n",
       "      <th>PC-1</th>\n",
       "      <th>PC-2</th>\n",
       "      <th>PC-3</th>\n",
       "    </tr>\n",
       "  </thead>\n",
       "  <tbody>\n",
       "    <tr>\n",
       "      <th>rotation speed</th>\n",
       "      <td>-0.370912</td>\n",
       "      <td>-0.253722</td>\n",
       "      <td>-0.413496</td>\n",
       "    </tr>\n",
       "    <tr>\n",
       "      <th>n2</th>\n",
       "      <td>-0.372648</td>\n",
       "      <td>-0.261500</td>\n",
       "      <td>-0.423885</td>\n",
       "    </tr>\n",
       "    <tr>\n",
       "      <th>n1</th>\n",
       "      <td>-0.386422</td>\n",
       "      <td>-0.212841</td>\n",
       "      <td>-0.075552</td>\n",
       "    </tr>\n",
       "    <tr>\n",
       "      <th>torque</th>\n",
       "      <td>-0.360215</td>\n",
       "      <td>0.017393</td>\n",
       "      <td>0.642239</td>\n",
       "    </tr>\n",
       "    <tr>\n",
       "      <th>turbine temp</th>\n",
       "      <td>-0.377369</td>\n",
       "      <td>-0.094198</td>\n",
       "      <td>0.400675</td>\n",
       "    </tr>\n",
       "    <tr>\n",
       "      <th>oil pressure</th>\n",
       "      <td>-0.391740</td>\n",
       "      <td>0.033238</td>\n",
       "      <td>0.006447</td>\n",
       "    </tr>\n",
       "    <tr>\n",
       "      <th>oil temp</th>\n",
       "      <td>0.205216</td>\n",
       "      <td>-0.819993</td>\n",
       "      <td>0.264027</td>\n",
       "    </tr>\n",
       "    <tr>\n",
       "      <th>ground speed</th>\n",
       "      <td>-0.326342</td>\n",
       "      <td>0.373193</td>\n",
       "      <td>0.029527</td>\n",
       "    </tr>\n",
       "  </tbody>\n",
       "</table>\n",
       "</div>"
      ],
      "text/plain": [
       "                    PC-1      PC-2      PC-3\n",
       "rotation speed -0.370912 -0.253722 -0.413496\n",
       "n2             -0.372648 -0.261500 -0.423885\n",
       "n1             -0.386422 -0.212841 -0.075552\n",
       "torque         -0.360215  0.017393  0.642239\n",
       "turbine temp   -0.377369 -0.094198  0.400675\n",
       "oil pressure   -0.391740  0.033238  0.006447\n",
       "oil temp        0.205216 -0.819993  0.264027\n",
       "ground speed   -0.326342  0.373193  0.029527"
      ]
     },
     "execution_count": 50,
     "metadata": {},
     "output_type": "execute_result"
    }
   ],
   "source": [
    "pca_comp2"
   ]
  },
  {
   "cell_type": "markdown",
   "metadata": {},
   "source": [
    "##### First Principal Component Analysis - PCA1"
   ]
  },
  {
   "cell_type": "code",
   "execution_count": 51,
   "metadata": {
    "collapsed": true
   },
   "outputs": [],
   "source": [
    "pca1 = pca_comp2[['PC-1']]"
   ]
  },
  {
   "cell_type": "code",
   "execution_count": 52,
   "metadata": {
    "collapsed": false
   },
   "outputs": [],
   "source": [
    "pca1_sorted = pca1.abs().stack().sort_values(kind=\"quicksort\", ascending = False)"
   ]
  },
  {
   "cell_type": "code",
   "execution_count": 53,
   "metadata": {
    "collapsed": false
   },
   "outputs": [
    {
     "name": "stdout",
     "output_type": "stream",
     "text": [
      "Correlation entre la composante principale 1 et les inputs :\n",
      "\n",
      "oil pressure    PC-1    0.391740\n",
      "n1              PC-1    0.386422\n",
      "turbine temp    PC-1    0.377369\n",
      "n2              PC-1    0.372648\n",
      "rotation speed  PC-1    0.370912\n",
      "torque          PC-1    0.360215\n",
      "ground speed    PC-1    0.326342\n",
      "oil temp        PC-1    0.205216\n",
      "dtype: float64\n"
     ]
    }
   ],
   "source": [
    "print('Correlation entre la composante principale 1 et les inputs :\\n')\n",
    "print(pca1_sorted)"
   ]
  },
  {
   "cell_type": "markdown",
   "metadata": {},
   "source": [
    "##### Second Principal Component Analysis - PCA2"
   ]
  },
  {
   "cell_type": "code",
   "execution_count": 54,
   "metadata": {
    "collapsed": false
   },
   "outputs": [
    {
     "name": "stdout",
     "output_type": "stream",
     "text": [
      "Correlation entre la composante principale 2 et les inputs :\n",
      "\n",
      "oil temp        PC-2    0.819993\n",
      "ground speed    PC-2    0.373193\n",
      "n2              PC-2    0.261500\n",
      "rotation speed  PC-2    0.253722\n",
      "n1              PC-2    0.212841\n",
      "turbine temp    PC-2    0.094198\n",
      "oil pressure    PC-2    0.033238\n",
      "torque          PC-2    0.017393\n",
      "dtype: float64\n"
     ]
    }
   ],
   "source": [
    "pca2 = pca_comp2[['PC-2']]\n",
    "pca2_sorted = pca2.abs().stack().sort_values(kind=\"quicksort\", ascending = False)\n",
    "print('Correlation entre la composante principale 2 et les inputs :\\n')\n",
    "print(pca2_sorted)"
   ]
  },
  {
   "cell_type": "markdown",
   "metadata": {},
   "source": [
    "#### Third Principal Component Analysis - PCA3"
   ]
  },
  {
   "cell_type": "code",
   "execution_count": 55,
   "metadata": {
    "collapsed": false
   },
   "outputs": [
    {
     "name": "stdout",
     "output_type": "stream",
     "text": [
      "Correlation entre la composante principale 3 et les inputs :\n",
      "\n",
      "torque          PC-3    0.642239\n",
      "n2              PC-3    0.423885\n",
      "rotation speed  PC-3    0.413496\n",
      "turbine temp    PC-3    0.400675\n",
      "oil temp        PC-3    0.264027\n",
      "n1              PC-3    0.075552\n",
      "ground speed    PC-3    0.029527\n",
      "oil pressure    PC-3    0.006447\n",
      "dtype: float64\n"
     ]
    }
   ],
   "source": [
    "pca3 = pca_comp2[['PC-3']]\n",
    "pca3_sorted = pca3.abs().stack().sort_values(kind=\"quicksort\", ascending = False)\n",
    "print('Correlation entre la composante principale 3 et les inputs :\\n')\n",
    "print(pca3_sorted)"
   ]
  },
  {
   "cell_type": "code",
   "execution_count": 56,
   "metadata": {
    "collapsed": true
   },
   "outputs": [],
   "source": [
    "def circleOfCorrelations(pc_infos):\n",
    "    plt.figure(figsize=(5,5))\n",
    "    plt.Circle((0,0),radius=10, color='g', fill=False)\n",
    "    circle1=plt.Circle((0,0),radius=1, color='g', fill=False)\n",
    "    fig = plt.gcf()\n",
    "    fig.gca().add_artist(circle1)\n",
    "    for idx in range(len(pc_infos[\"PC-1\"])):\n",
    "        x = pc_infos[\"PC-1\"][idx]\n",
    "        y = pc_infos[\"PC-2\"][idx]\n",
    "        plt.plot([0.0,x],[0.0,y],'-', lw=1)\n",
    "        plt.plot(x, y, 'kx')\n",
    "        plt.annotate(pc_infos.index[idx], xy=(x,y), fontsize = 10, horizontalalignment='right',verticalalignment='top')\n",
    "    plt.xlim((-1,1))\n",
    "    plt.xlabel('PCA-1', fontsize = 12)\n",
    "    plt.ylim((-1,1))\n",
    "    plt.ylabel('PCA-2', fontsize = 12)\n",
    "    plt.title(\"Circle of Correlations on PCA-1 and PCA-2\", fontsize = 12)\n",
    "    "
   ]
  },
  {
   "cell_type": "code",
   "execution_count": 57,
   "metadata": {
    "collapsed": false
   },
   "outputs": [
    {
     "data": {
      "image/png": "[encoded data removed]",
      "text/plain": [
       "<matplotlib.figure.Figure at 0x117bca080>"
      ]
     },
     "metadata": {},
     "output_type": "display_data"
    }
   ],
   "source": [
    "circleOfCorrelations(pca_comp2)"
   ]
  },
  {
   "cell_type": "markdown",
   "metadata": {},
   "source": [
    "    On remarque que oil temp se démarque des autres variables "
   ]
  },
  {
   "cell_type": "markdown",
   "metadata": {},
   "source": [
    "# Zoom = PCA sans oil temp"
   ]
  },
  {
   "cell_type": "code",
   "execution_count": 94,
   "metadata": {
    "collapsed": false
   },
   "outputs": [],
   "source": [
    "df2 = df1.drop('oil temp', axis=1)"
   ]
  },
  {
   "cell_type": "code",
   "execution_count": 95,
   "metadata": {
    "collapsed": false
   },
   "outputs": [
    {
     "data": {
      "text/html": [
       "<div>\n",
       "<table border=\"1\" class=\"dataframe\">\n",
       "  <thead>\n",
       "    <tr style=\"text-align: right;\">\n",
       "      <th></th>\n",
       "      <th>rotation speed</th>\n",
       "      <th>n2</th>\n",
       "      <th>n1</th>\n",
       "      <th>torque</th>\n",
       "      <th>turbine temp</th>\n",
       "      <th>oil pressure</th>\n",
       "      <th>ground speed</th>\n",
       "    </tr>\n",
       "  </thead>\n",
       "  <tbody>\n",
       "    <tr>\n",
       "      <th>0</th>\n",
       "      <td>0.0</td>\n",
       "      <td>0.0</td>\n",
       "      <td>0.0</td>\n",
       "      <td>2.3</td>\n",
       "      <td>155.0</td>\n",
       "      <td>0.0</td>\n",
       "      <td>0.0</td>\n",
       "    </tr>\n",
       "    <tr>\n",
       "      <th>1</th>\n",
       "      <td>0.0</td>\n",
       "      <td>0.0</td>\n",
       "      <td>0.3</td>\n",
       "      <td>2.3</td>\n",
       "      <td>156.0</td>\n",
       "      <td>0.0</td>\n",
       "      <td>0.0</td>\n",
       "    </tr>\n",
       "    <tr>\n",
       "      <th>2</th>\n",
       "      <td>0.0</td>\n",
       "      <td>0.0</td>\n",
       "      <td>5.3</td>\n",
       "      <td>2.3</td>\n",
       "      <td>157.0</td>\n",
       "      <td>0.0</td>\n",
       "      <td>0.0</td>\n",
       "    </tr>\n",
       "  </tbody>\n",
       "</table>\n",
       "</div>"
      ],
      "text/plain": [
       "   rotation speed   n2   n1  torque  turbine temp  oil pressure  ground speed\n",
       "0             0.0  0.0  0.0     2.3         155.0           0.0           0.0\n",
       "1             0.0  0.0  0.3     2.3         156.0           0.0           0.0\n",
       "2             0.0  0.0  5.3     2.3         157.0           0.0           0.0"
      ]
     },
     "execution_count": 95,
     "metadata": {},
     "output_type": "execute_result"
    }
   ],
   "source": [
    "df2.head(3)"
   ]
  },
  {
   "cell_type": "code",
   "execution_count": 99,
   "metadata": {
    "collapsed": false
   },
   "outputs": [],
   "source": [
    "array_2 = df2.as_matrix()\n",
    "array_1_scale = scale(array_2, axis=0)\n",
    "pca = PCA(n_components=2).fit(array_1_scale)\n",
    "X_pca = pca.transform(array_1_scale)"
   ]
  },
  {
   "cell_type": "code",
   "execution_count": 100,
   "metadata": {
    "collapsed": false
   },
   "outputs": [
    {
     "name": "stdout",
     "output_type": "stream",
     "text": [
      "Eigenvalues Phase 1\n",
      "[ 5.95052715  0.51375496]\n",
      "Explained variance ratio\n",
      "[ 0.85007531  0.07339357]\n",
      "Eigenvalues cumsum \n",
      "[ 0.85007531  0.92346887]\n"
     ]
    }
   ],
   "source": [
    "print(\"Eigenvalues Phase 1\")\n",
    "print(pca.explained_variance_)  \n",
    "print(\"Explained variance ratio\")\n",
    "print (pca.explained_variance_ratio_)\n",
    "print(\"Eigenvalues cumsum \")\n",
    "print(pca.explained_variance_ratio_.cumsum())"
   ]
  },
  {
   "cell_type": "code",
   "execution_count": 102,
   "metadata": {
    "collapsed": false
   },
   "outputs": [
    {
     "name": "stdout",
     "output_type": "stream",
     "text": [
      "Correlation entre la composante principale 1 et les inputs :\n",
      "\n",
      "n1              PC-1    0.398018\n",
      "oil pressure    PC-1    0.396521\n",
      "turbine temp    PC-1    0.386919\n",
      "n2              PC-1    0.384822\n",
      "rotation speed  PC-1    0.383162\n",
      "torque          PC-1    0.367355\n",
      "ground speed    PC-1    0.323721\n",
      "dtype: float64\n"
     ]
    }
   ],
   "source": [
    "pca_comp = pd.DataFrame(pca.components_)\n",
    "pca_comp.columns = [\"rotation speed\",\"n2\",\"n1\",\"torque\",\"turbine temp\",\"oil pressure\",\"ground speed\"]\n",
    "pca_comp2 = pca_comp.T\n",
    "pca_comp2.columns = ['PC-1','PC-2']\n",
    "pca1 = pca_comp2[['PC-1']]\n",
    "pca1_sorted = pca1.abs().stack().sort_values(kind=\"quicksort\", ascending = False)\n",
    "print('Correlation entre la composante principale 1 et les inputs :\\n')\n",
    "print(pca1_sorted)"
   ]
  },
  {
   "cell_type": "code",
   "execution_count": 103,
   "metadata": {
    "collapsed": false
   },
   "outputs": [
    {
     "name": "stdout",
     "output_type": "stream",
     "text": [
      "Correlation entre la composante principale 2 et les inputs :\n",
      "\n",
      "ground speed    PC-2    0.656208\n",
      "n2              PC-2    0.433970\n",
      "rotation speed  PC-2    0.397887\n",
      "torque          PC-2    0.381894\n",
      "n1              PC-2    0.243998\n",
      "turbine temp    PC-2    0.126238\n",
      "oil pressure    PC-2    0.037853\n",
      "dtype: float64\n"
     ]
    }
   ],
   "source": [
    "pca2 = pca_comp2[['PC-2']]\n",
    "pca2_sorted = pca2.abs().stack().sort_values(kind=\"quicksort\", ascending = False)\n",
    "print('Correlation entre la composante principale 2 et les inputs :\\n')\n",
    "print(pca2_sorted)"
   ]
  },
  {
   "cell_type": "code",
   "execution_count": 104,
   "metadata": {
    "collapsed": false
   },
   "outputs": [
    {
     "data": {
      "image/png": "[encoded data removed]",
      "text/plain": [
       "<matplotlib.figure.Figure at 0x124a087b8>"
      ]
     },
     "metadata": {},
     "output_type": "display_data"
    }
   ],
   "source": [
    "circleOfCorrelations(pca_comp2)"
   ]
  },
  {
   "cell_type": "code",
   "execution_count": null,
   "metadata": {
    "collapsed": true
   },
   "outputs": [],
   "source": []
  }
 ],
 "metadata": {
  "anaconda-cloud": {},
  "kernelspec": {
   "display_name": "Python [conda root]",
   "language": "python",
   "name": "conda-root-py"
  },
  "language_info": {
   "codemirror_mode": {
    "name": "ipython",
    "version": 3
   },
   "file_extension": ".py",
   "mimetype": "text/x-python",
   "name": "python",
   "nbconvert_exporter": "python",
   "pygments_lexer": "ipython3",
   "version": "3.5.2"
  }
 },
 "nbformat": 4,
 "nbformat_minor": 1
}
