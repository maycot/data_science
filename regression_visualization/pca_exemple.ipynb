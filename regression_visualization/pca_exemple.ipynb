{
 "cells": [
  {
   "cell_type": "code",
   "execution_count": 282,
   "metadata": {
    "collapsed": true
   },
   "outputs": [],
   "source": [
    "%matplotlib inline\n",
    "\n",
    "import pandas as pd\n",
    "import numpy as np\n",
    "from os.path import join\n",
    "import matplotlib.pyplot as plt\n",
    "from os import walk"
   ]
  },
  {
   "cell_type": "markdown",
   "metadata": {},
   "source": [
    "# Etude PCA "
   ]
  },
  {
   "cell_type": "code",
   "execution_count": 2,
   "metadata": {
    "collapsed": true
   },
   "outputs": [],
   "source": [
    "path = '/Users/mayliscotadze/Documents/Safran/'"
   ]
  },
  {
   "cell_type": "code",
   "execution_count": 283,
   "metadata": {
    "collapsed": true
   },
   "outputs": [],
   "source": [
    "# Load file all_datas avec toutes les lignes de tous les fichiers"
   ]
  },
  {
   "cell_type": "code",
   "execution_count": 3,
   "metadata": {
    "collapsed": true
   },
   "outputs": [],
   "source": [
    "df = pd.read_csv(path + 'all_datas.csv', sep=\",\", header=0, encoding=\"latin 1\")"
   ]
  },
  {
   "cell_type": "code",
   "execution_count": 4,
   "metadata": {
    "collapsed": true
   },
   "outputs": [],
   "source": [
    "input = [\"static pressure\",\"air speed\",\"rotation speed\",\"outside temp\",\"n2\",\"n1\",\"torque\",\"turbine temp\",\"oil pressure\",\"oil temp\",\"ground speed\",\"altitude\"]"
   ]
  },
  {
   "cell_type": "code",
   "execution_count": 5,
   "metadata": {
    "collapsed": false
   },
   "outputs": [
    {
     "data": {
      "text/html": [
       "<div>\n",
       "<table border=\"1\" class=\"dataframe\">\n",
       "  <thead>\n",
       "    <tr style=\"text-align: right;\">\n",
       "      <th></th>\n",
       "      <th>Unnamed: 0</th>\n",
       "      <th>time</th>\n",
       "      <th>phase</th>\n",
       "      <th>static pressure</th>\n",
       "      <th>air speed</th>\n",
       "      <th>rotation speed</th>\n",
       "      <th>outside temp</th>\n",
       "      <th>n2</th>\n",
       "      <th>n1</th>\n",
       "      <th>torque</th>\n",
       "      <th>turbine temp</th>\n",
       "      <th>oil pressure</th>\n",
       "      <th>oil temp</th>\n",
       "      <th>fuel vol</th>\n",
       "      <th>fuel flow</th>\n",
       "      <th>power</th>\n",
       "      <th>ground speed</th>\n",
       "      <th>altitude</th>\n",
       "      <th>n_vol</th>\n",
       "    </tr>\n",
       "  </thead>\n",
       "  <tbody>\n",
       "    <tr>\n",
       "      <th>0</th>\n",
       "      <td>0</td>\n",
       "      <td>06:26:30.000000</td>\n",
       "      <td>0</td>\n",
       "      <td>1012.4</td>\n",
       "      <td>0</td>\n",
       "      <td>0</td>\n",
       "      <td>28</td>\n",
       "      <td>0</td>\n",
       "      <td>0.0</td>\n",
       "      <td>2.3</td>\n",
       "      <td>33</td>\n",
       "      <td>0.0</td>\n",
       "      <td>27</td>\n",
       "      <td>99</td>\n",
       "      <td>58.2</td>\n",
       "      <td>22.1</td>\n",
       "      <td>0.0</td>\n",
       "      <td>26.0</td>\n",
       "      <td>0001-1.csv</td>\n",
       "    </tr>\n",
       "    <tr>\n",
       "      <th>1</th>\n",
       "      <td>1</td>\n",
       "      <td>06:26:32.000000</td>\n",
       "      <td>0</td>\n",
       "      <td>1012.4</td>\n",
       "      <td>0</td>\n",
       "      <td>0</td>\n",
       "      <td>28</td>\n",
       "      <td>0</td>\n",
       "      <td>0.7</td>\n",
       "      <td>2.3</td>\n",
       "      <td>33</td>\n",
       "      <td>0.0</td>\n",
       "      <td>27</td>\n",
       "      <td>99</td>\n",
       "      <td>44.5</td>\n",
       "      <td>NaN</td>\n",
       "      <td>0.0</td>\n",
       "      <td>25.0</td>\n",
       "      <td>0001-1.csv</td>\n",
       "    </tr>\n",
       "    <tr>\n",
       "      <th>2</th>\n",
       "      <td>2</td>\n",
       "      <td>06:26:34.000000</td>\n",
       "      <td>0</td>\n",
       "      <td>1012.4</td>\n",
       "      <td>0</td>\n",
       "      <td>0</td>\n",
       "      <td>28</td>\n",
       "      <td>0</td>\n",
       "      <td>7.3</td>\n",
       "      <td>2.3</td>\n",
       "      <td>38</td>\n",
       "      <td>0.0</td>\n",
       "      <td>27</td>\n",
       "      <td>99</td>\n",
       "      <td>32.1</td>\n",
       "      <td>NaN</td>\n",
       "      <td>0.0</td>\n",
       "      <td>24.0</td>\n",
       "      <td>0001-1.csv</td>\n",
       "    </tr>\n",
       "    <tr>\n",
       "      <th>3</th>\n",
       "      <td>3</td>\n",
       "      <td>06:26:36.000000</td>\n",
       "      <td>0</td>\n",
       "      <td>1012.5</td>\n",
       "      <td>0</td>\n",
       "      <td>0</td>\n",
       "      <td>28</td>\n",
       "      <td>0</td>\n",
       "      <td>12.8</td>\n",
       "      <td>2.3</td>\n",
       "      <td>130</td>\n",
       "      <td>0.0</td>\n",
       "      <td>27</td>\n",
       "      <td>99</td>\n",
       "      <td>20.8</td>\n",
       "      <td>NaN</td>\n",
       "      <td>0.0</td>\n",
       "      <td>24.0</td>\n",
       "      <td>0001-1.csv</td>\n",
       "    </tr>\n",
       "    <tr>\n",
       "      <th>4</th>\n",
       "      <td>4</td>\n",
       "      <td>06:26:39.000000</td>\n",
       "      <td>0</td>\n",
       "      <td>1012.4</td>\n",
       "      <td>0</td>\n",
       "      <td>0</td>\n",
       "      <td>28</td>\n",
       "      <td>0</td>\n",
       "      <td>17.3</td>\n",
       "      <td>2.3</td>\n",
       "      <td>291</td>\n",
       "      <td>0.0</td>\n",
       "      <td>27</td>\n",
       "      <td>99</td>\n",
       "      <td>21.3</td>\n",
       "      <td>NaN</td>\n",
       "      <td>0.0</td>\n",
       "      <td>25.0</td>\n",
       "      <td>0001-1.csv</td>\n",
       "    </tr>\n",
       "  </tbody>\n",
       "</table>\n",
       "</div>"
      ],
      "text/plain": [
       "   Unnamed: 0             time  phase  static pressure  air speed  \\\n",
       "0           0  06:26:30.000000      0           1012.4          0   \n",
       "1           1  06:26:32.000000      0           1012.4          0   \n",
       "2           2  06:26:34.000000      0           1012.4          0   \n",
       "3           3  06:26:36.000000      0           1012.5          0   \n",
       "4           4  06:26:39.000000      0           1012.4          0   \n",
       "\n",
       "   rotation speed  outside temp  n2    n1  torque  turbine temp  oil pressure  \\\n",
       "0               0            28   0   0.0     2.3            33           0.0   \n",
       "1               0            28   0   0.7     2.3            33           0.0   \n",
       "2               0            28   0   7.3     2.3            38           0.0   \n",
       "3               0            28   0  12.8     2.3           130           0.0   \n",
       "4               0            28   0  17.3     2.3           291           0.0   \n",
       "\n",
       "   oil temp  fuel vol  fuel flow  power  ground speed  altitude       n_vol  \n",
       "0        27        99       58.2   22.1           0.0      26.0  0001-1.csv  \n",
       "1        27        99       44.5    NaN           0.0      25.0  0001-1.csv  \n",
       "2        27        99       32.1    NaN           0.0      24.0  0001-1.csv  \n",
       "3        27        99       20.8    NaN           0.0      24.0  0001-1.csv  \n",
       "4        27        99       21.3    NaN           0.0      25.0  0001-1.csv  "
      ]
     },
     "execution_count": 5,
     "metadata": {},
     "output_type": "execute_result"
    }
   ],
   "source": [
    "df.head()"
   ]
  },
  {
   "cell_type": "markdown",
   "metadata": {},
   "source": [
    "## PCA sur les variables INPUT et sur la phase 1"
   ]
  },
  {
   "cell_type": "code",
   "execution_count": 6,
   "metadata": {
    "collapsed": true
   },
   "outputs": [],
   "source": [
    "def df_phase_input(df, input, phase):\n",
    "    return df[df[\"phase\"]==phase][input]"
   ]
  },
  {
   "cell_type": "code",
   "execution_count": 7,
   "metadata": {
    "collapsed": false
   },
   "outputs": [],
   "source": [
    "df_phase0_input = df_phase_input(df,input,0)"
   ]
  },
  {
   "cell_type": "code",
   "execution_count": 27,
   "metadata": {
    "collapsed": true
   },
   "outputs": [],
   "source": [
    "df_phase1_input = df_phase_input(df,input,1)"
   ]
  },
  {
   "cell_type": "code",
   "execution_count": 28,
   "metadata": {
    "collapsed": false
   },
   "outputs": [
    {
     "data": {
      "text/plain": [
       "static pressure    float64\n",
       "air speed            int64\n",
       "rotation speed       int64\n",
       "outside temp         int64\n",
       "n2                   int64\n",
       "n1                 float64\n",
       "torque             float64\n",
       "turbine temp         int64\n",
       "oil pressure       float64\n",
       "oil temp             int64\n",
       "ground speed       float64\n",
       "altitude           float64\n",
       "dtype: object"
      ]
     },
     "execution_count": 28,
     "metadata": {},
     "output_type": "execute_result"
    }
   ],
   "source": [
    "df_phase1_input.dtypes"
   ]
  },
  {
   "cell_type": "code",
   "execution_count": 73,
   "metadata": {
    "collapsed": false
   },
   "outputs": [],
   "source": [
    "df_phase1_input = df_phase1_input.apply(lambda x : x.astype(float))"
   ]
  },
  {
   "cell_type": "code",
   "execution_count": 74,
   "metadata": {
    "collapsed": false
   },
   "outputs": [
    {
     "data": {
      "text/plain": [
       "static pressure    float64\n",
       "air speed          float64\n",
       "rotation speed     float64\n",
       "outside temp       float64\n",
       "n2                 float64\n",
       "n1                 float64\n",
       "torque             float64\n",
       "turbine temp       float64\n",
       "oil pressure       float64\n",
       "oil temp           float64\n",
       "ground speed       float64\n",
       "altitude           float64\n",
       "dtype: object"
      ]
     },
     "execution_count": 74,
     "metadata": {},
     "output_type": "execute_result"
    }
   ],
   "source": [
    "df_phase1_input.dtypes"
   ]
  },
  {
   "cell_type": "code",
   "execution_count": 75,
   "metadata": {
    "collapsed": false
   },
   "outputs": [
    {
     "data": {
      "text/plain": [
       "((4619345, 19), (596933, 12), (4022412, 12))"
      ]
     },
     "execution_count": 75,
     "metadata": {},
     "output_type": "execute_result"
    }
   ],
   "source": [
    "df.shape, df_phase0_input.shape, df_phase1_input.shape"
   ]
  },
  {
   "cell_type": "markdown",
   "metadata": {},
   "source": [
    "# PCA PHASE 1"
   ]
  },
  {
   "cell_type": "code",
   "execution_count": 100,
   "metadata": {
    "collapsed": true
   },
   "outputs": [],
   "source": [
    "# Convert in numpy.array\n",
    "array_1 = df_phase1_input.as_matrix()"
   ]
  },
  {
   "cell_type": "code",
   "execution_count": 101,
   "metadata": {
    "collapsed": false
   },
   "outputs": [
    {
     "data": {
      "text/plain": [
       "(4022412, 12)"
      ]
     },
     "execution_count": 101,
     "metadata": {},
     "output_type": "execute_result"
    }
   ],
   "source": [
    "array_1.shape"
   ]
  },
  {
   "cell_type": "code",
   "execution_count": 46,
   "metadata": {
    "collapsed": false
   },
   "outputs": [],
   "source": [
    "from scipy import linalg\n",
    "from sklearn.preprocessing import scale"
   ]
  },
  {
   "cell_type": "code",
   "execution_count": 102,
   "metadata": {
    "collapsed": false
   },
   "outputs": [
    {
     "data": {
      "text/plain": [
       "(array([30329]), array([11]))"
      ]
     },
     "execution_count": 102,
     "metadata": {},
     "output_type": "execute_result"
    }
   ],
   "source": [
    "np.where(np.isnan(array_1))"
   ]
  },
  {
   "cell_type": "code",
   "execution_count": 103,
   "metadata": {
    "collapsed": false
   },
   "outputs": [],
   "source": [
    "array_1 = np.nan_to_num(array_1) # Replace the Nan value with zero"
   ]
  },
  {
   "cell_type": "code",
   "execution_count": 104,
   "metadata": {
    "collapsed": false
   },
   "outputs": [
    {
     "data": {
      "text/plain": [
       "(False, False)"
      ]
     },
     "execution_count": 104,
     "metadata": {},
     "output_type": "execute_result"
    }
   ],
   "source": [
    "np.any(np.isnan(array_1)) , np.any(np.isinf(array_1))"
   ]
  },
  {
   "cell_type": "code",
   "execution_count": 107,
   "metadata": {
    "collapsed": false
   },
   "outputs": [],
   "source": [
    "# Recentring and rescaling data\n",
    "array_1_scale = scale(array_1, axis=0)"
   ]
  },
  {
   "cell_type": "code",
   "execution_count": 130,
   "metadata": {
    "collapsed": true
   },
   "outputs": [],
   "source": [
    "# PCA de sklearn\n",
    "from sklearn.decomposition import PCA"
   ]
  },
  {
   "cell_type": "code",
   "execution_count": 184,
   "metadata": {
    "collapsed": true
   },
   "outputs": [],
   "source": [
    "pca = PCA(n_components=6).fit(array_1_scale)\n",
    "X_pca = pca.transform(array_1_scale)"
   ]
  },
  {
   "cell_type": "code",
   "execution_count": 185,
   "metadata": {
    "collapsed": false
   },
   "outputs": [
    {
     "name": "stdout",
     "output_type": "stream",
     "text": [
      "### Eigenvalues ###\n",
      "[ 5.93355698  2.52038573  1.67573401  0.83071135  0.53960805  0.25352257]\n"
     ]
    }
   ],
   "source": [
    "print(\"Eigenvalues Phase 1\")\n",
    "print(pca.explained_variance_)  "
   ]
  },
  {
   "cell_type": "code",
   "execution_count": 186,
   "metadata": {
    "collapsed": false
   },
   "outputs": [
    {
     "name": "stdout",
     "output_type": "stream",
     "text": [
      "### Explained variance ratio ###\n",
      "[ 0.49446308  0.21003214  0.1396445   0.06922595  0.04496734  0.02112688]\n"
     ]
    }
   ],
   "source": [
    "print(\"Explained variance ratio\")\n",
    "print (pca.explained_variance_ratio_)"
   ]
  },
  {
   "cell_type": "code",
   "execution_count": 187,
   "metadata": {
    "collapsed": false
   },
   "outputs": [
    {
     "name": "stdout",
     "output_type": "stream",
     "text": [
      "### Eigenvalues cumsum ###\n",
      "[ 0.49446308  0.70449523  0.84413973  0.91336567  0.95833301  0.97945989]\n"
     ]
    }
   ],
   "source": [
    "print(\"Eigenvalues cumsum \")\n",
    "print(pca.explained_variance_ratio_.cumsum())"
   ]
  },
  {
   "cell_type": "code",
   "execution_count": 189,
   "metadata": {
    "collapsed": false
   },
   "outputs": [
    {
     "data": {
      "text/plain": [
       "<matplotlib.text.Text at 0x119283908>"
      ]
     },
     "execution_count": 189,
     "metadata": {},
     "output_type": "execute_result"
    },
    {
     "data": {
      "image/png": "[encoded data removed]",
      "text/plain": [
       "<matplotlib.figure.Figure at 0x1190d3518>"
      ]
     },
     "metadata": {},
     "output_type": "display_data"
    }
   ],
   "source": [
    "fig = plt.subplots(figsize=(4,4))\n",
    "plt.plot(pca.explained_variance_ratio_)\n",
    "plt.title('6 first Eigenvalues', fontsize = 12)\n"
   ]
  },
  {
   "cell_type": "markdown",
   "metadata": {},
   "source": [
    "## First PCA Components interpretation"
   ]
  },
  {
   "cell_type": "markdown",
   "metadata": {},
   "source": [
    "Interpretation of the principal components is based on finding which variables are most strongly correlated with each component, i.e., which of these numbers are large in magnitude, the farthest from zero in either positive or negative direction. "
   ]
  },
  {
   "cell_type": "code",
   "execution_count": 192,
   "metadata": {
    "collapsed": true
   },
   "outputs": [],
   "source": [
    "pca_comp = pd.DataFrame(pca.components_)\n",
    "pca_comp.columns = input"
   ]
  },
  {
   "cell_type": "code",
   "execution_count": 195,
   "metadata": {
    "collapsed": false
   },
   "outputs": [],
   "source": [
    "pca_comp2 = pca_comp.T"
   ]
  },
  {
   "cell_type": "code",
   "execution_count": 196,
   "metadata": {
    "collapsed": true
   },
   "outputs": [],
   "source": [
    "pca_comp2.columns = ['PC-1','PC-2','PC-3', 'PC-4', 'PC-5', 'PC-6']"
   ]
  },
  {
   "cell_type": "code",
   "execution_count": 197,
   "metadata": {
    "collapsed": false
   },
   "outputs": [
    {
     "data": {
      "text/html": [
       "<div>\n",
       "<table border=\"1\" class=\"dataframe\">\n",
       "  <thead>\n",
       "    <tr style=\"text-align: right;\">\n",
       "      <th></th>\n",
       "      <th>PC-1</th>\n",
       "      <th>PC-2</th>\n",
       "      <th>PC-3</th>\n",
       "      <th>PC-4</th>\n",
       "      <th>PC-5</th>\n",
       "      <th>PC-6</th>\n",
       "    </tr>\n",
       "  </thead>\n",
       "  <tbody>\n",
       "    <tr>\n",
       "      <th>static pressure</th>\n",
       "      <td>0.159823</td>\n",
       "      <td>-0.550494</td>\n",
       "      <td>0.164036</td>\n",
       "      <td>-0.076446</td>\n",
       "      <td>0.163562</td>\n",
       "      <td>-0.242843</td>\n",
       "    </tr>\n",
       "    <tr>\n",
       "      <th>air speed</th>\n",
       "      <td>-0.281420</td>\n",
       "      <td>-0.018138</td>\n",
       "      <td>0.494150</td>\n",
       "      <td>-0.063960</td>\n",
       "      <td>-0.392277</td>\n",
       "      <td>-0.116470</td>\n",
       "    </tr>\n",
       "    <tr>\n",
       "      <th>rotation speed</th>\n",
       "      <td>-0.336635</td>\n",
       "      <td>-0.111075</td>\n",
       "      <td>-0.238144</td>\n",
       "      <td>-0.472510</td>\n",
       "      <td>-0.023604</td>\n",
       "      <td>-0.010750</td>\n",
       "    </tr>\n",
       "    <tr>\n",
       "      <th>outside temp</th>\n",
       "      <td>0.190866</td>\n",
       "      <td>-0.486495</td>\n",
       "      <td>0.034133</td>\n",
       "      <td>0.011391</td>\n",
       "      <td>-0.284633</td>\n",
       "      <td>0.716416</td>\n",
       "    </tr>\n",
       "    <tr>\n",
       "      <th>n2</th>\n",
       "      <td>-0.339452</td>\n",
       "      <td>-0.116781</td>\n",
       "      <td>-0.240718</td>\n",
       "      <td>-0.465227</td>\n",
       "      <td>0.013990</td>\n",
       "      <td>0.059760</td>\n",
       "    </tr>\n",
       "    <tr>\n",
       "      <th>n1</th>\n",
       "      <td>-0.376033</td>\n",
       "      <td>-0.150637</td>\n",
       "      <td>-0.209462</td>\n",
       "      <td>-0.022249</td>\n",
       "      <td>0.045974</td>\n",
       "      <td>0.133586</td>\n",
       "    </tr>\n",
       "    <tr>\n",
       "      <th>torque</th>\n",
       "      <td>-0.311514</td>\n",
       "      <td>-0.189369</td>\n",
       "      <td>-0.057173</td>\n",
       "      <td>0.593355</td>\n",
       "      <td>0.049755</td>\n",
       "      <td>-0.170235</td>\n",
       "    </tr>\n",
       "    <tr>\n",
       "      <th>turbine temp</th>\n",
       "      <td>-0.352879</td>\n",
       "      <td>-0.118979</td>\n",
       "      <td>-0.138846</td>\n",
       "      <td>0.416656</td>\n",
       "      <td>-0.113558</td>\n",
       "      <td>0.259012</td>\n",
       "    </tr>\n",
       "    <tr>\n",
       "      <th>oil pressure</th>\n",
       "      <td>-0.365092</td>\n",
       "      <td>-0.166177</td>\n",
       "      <td>-0.000685</td>\n",
       "      <td>0.075774</td>\n",
       "      <td>0.346336</td>\n",
       "      <td>-0.158519</td>\n",
       "    </tr>\n",
       "    <tr>\n",
       "      <th>oil temp</th>\n",
       "      <td>0.171559</td>\n",
       "      <td>-0.163419</td>\n",
       "      <td>-0.536456</td>\n",
       "      <td>0.072241</td>\n",
       "      <td>-0.634714</td>\n",
       "      <td>-0.440383</td>\n",
       "    </tr>\n",
       "    <tr>\n",
       "      <th>ground speed</th>\n",
       "      <td>-0.286068</td>\n",
       "      <td>0.028285</td>\n",
       "      <td>0.476404</td>\n",
       "      <td>-0.087360</td>\n",
       "      <td>-0.414639</td>\n",
       "      <td>-0.108187</td>\n",
       "    </tr>\n",
       "    <tr>\n",
       "      <th>altitude</th>\n",
       "      <td>-0.150846</td>\n",
       "      <td>0.553304</td>\n",
       "      <td>-0.178653</td>\n",
       "      <td>0.073988</td>\n",
       "      <td>-0.159302</td>\n",
       "      <td>0.256596</td>\n",
       "    </tr>\n",
       "  </tbody>\n",
       "</table>\n",
       "</div>"
      ],
      "text/plain": [
       "                     PC-1      PC-2      PC-3      PC-4      PC-5      PC-6\n",
       "static pressure  0.159823 -0.550494  0.164036 -0.076446  0.163562 -0.242843\n",
       "air speed       -0.281420 -0.018138  0.494150 -0.063960 -0.392277 -0.116470\n",
       "rotation speed  -0.336635 -0.111075 -0.238144 -0.472510 -0.023604 -0.010750\n",
       "outside temp     0.190866 -0.486495  0.034133  0.011391 -0.284633  0.716416\n",
       "n2              -0.339452 -0.116781 -0.240718 -0.465227  0.013990  0.059760\n",
       "n1              -0.376033 -0.150637 -0.209462 -0.022249  0.045974  0.133586\n",
       "torque          -0.311514 -0.189369 -0.057173  0.593355  0.049755 -0.170235\n",
       "turbine temp    -0.352879 -0.118979 -0.138846  0.416656 -0.113558  0.259012\n",
       "oil pressure    -0.365092 -0.166177 -0.000685  0.075774  0.346336 -0.158519\n",
       "oil temp         0.171559 -0.163419 -0.536456  0.072241 -0.634714 -0.440383\n",
       "ground speed    -0.286068  0.028285  0.476404 -0.087360 -0.414639 -0.108187\n",
       "altitude        -0.150846  0.553304 -0.178653  0.073988 -0.159302  0.256596"
      ]
     },
     "execution_count": 197,
     "metadata": {},
     "output_type": "execute_result"
    }
   ],
   "source": [
    "pca_comp2"
   ]
  },
  {
   "cell_type": "markdown",
   "metadata": {},
   "source": [
    "### First Principal Component Analysis - PCA1"
   ]
  },
  {
   "cell_type": "code",
   "execution_count": 211,
   "metadata": {
    "collapsed": true
   },
   "outputs": [],
   "source": [
    "pca1 = pca_comp2[['PC-1']]"
   ]
  },
  {
   "cell_type": "code",
   "execution_count": 212,
   "metadata": {
    "collapsed": false
   },
   "outputs": [],
   "source": [
    "pca1_sorted = pca1.abs().stack().sort_values(kind=\"quicksort\", ascending = False)"
   ]
  },
  {
   "cell_type": "code",
   "execution_count": 217,
   "metadata": {
    "collapsed": false
   },
   "outputs": [
    {
     "name": "stdout",
     "output_type": "stream",
     "text": [
      "Correlation entre la composante principale 1 et les inputs :\n",
      "\n",
      "n1               PC-1    0.376033\n",
      "oil pressure     PC-1    0.365092\n",
      "turbine temp     PC-1    0.352879\n",
      "n2               PC-1    0.339452\n",
      "rotation speed   PC-1    0.336635\n",
      "torque           PC-1    0.311514\n",
      "ground speed     PC-1    0.286068\n",
      "air speed        PC-1    0.281420\n",
      "outside temp     PC-1    0.190866\n",
      "oil temp         PC-1    0.171559\n",
      "static pressure  PC-1    0.159823\n",
      "altitude         PC-1    0.150846\n",
      "dtype: float64\n"
     ]
    }
   ],
   "source": [
    "print('Correlation entre la composante principale 1 et les inputs :\\n')\n",
    "print(pca1_sorted)"
   ]
  },
  {
   "cell_type": "markdown",
   "metadata": {},
   "source": [
    "### Second Principal Component Analysis - PCA2"
   ]
  },
  {
   "cell_type": "code",
   "execution_count": 216,
   "metadata": {
    "collapsed": false
   },
   "outputs": [
    {
     "name": "stdout",
     "output_type": "stream",
     "text": [
      "Correlation entre le composant principal 2 et les inputs :\n",
      "\n",
      "altitude         PC-2    0.553304\n",
      "static pressure  PC-2    0.550494\n",
      "outside temp     PC-2    0.486495\n",
      "torque           PC-2    0.189369\n",
      "oil pressure     PC-2    0.166177\n",
      "oil temp         PC-2    0.163419\n",
      "n1               PC-2    0.150637\n",
      "turbine temp     PC-2    0.118979\n",
      "n2               PC-2    0.116781\n",
      "rotation speed   PC-2    0.111075\n",
      "ground speed     PC-2    0.028285\n",
      "air speed        PC-2    0.018138\n",
      "dtype: float64\n"
     ]
    }
   ],
   "source": [
    "pca2 = pca_comp2[['PC-2']]\n",
    "pca2_sorted = pca2.abs().stack().sort_values(kind=\"quicksort\", ascending = False)\n",
    "print('Correlation entre la composante principale 2 et les inputs :\\n')\n",
    "print(pca2_sorted)"
   ]
  },
  {
   "cell_type": "markdown",
   "metadata": {},
   "source": [
    "### Third Principal Component Analysis - PCA3"
   ]
  },
  {
   "cell_type": "code",
   "execution_count": 218,
   "metadata": {
    "collapsed": false
   },
   "outputs": [
    {
     "name": "stdout",
     "output_type": "stream",
     "text": [
      "Correlation entre la composante principale 3 et les inputs :\n",
      "\n",
      "oil temp         PC-3    0.536456\n",
      "air speed        PC-3    0.494150\n",
      "ground speed     PC-3    0.476404\n",
      "n2               PC-3    0.240718\n",
      "rotation speed   PC-3    0.238144\n",
      "n1               PC-3    0.209462\n",
      "altitude         PC-3    0.178653\n",
      "static pressure  PC-3    0.164036\n",
      "turbine temp     PC-3    0.138846\n",
      "torque           PC-3    0.057173\n",
      "outside temp     PC-3    0.034133\n",
      "oil pressure     PC-3    0.000685\n",
      "dtype: float64\n"
     ]
    }
   ],
   "source": [
    "pca3 = pca_comp2[['PC-3']]\n",
    "pca3_sorted = pca3.abs().stack().sort_values(kind=\"quicksort\", ascending = False)\n",
    "print('Correlation entre la composante principale 3 et les inputs :\\n')\n",
    "print(pca3_sorted)"
   ]
  },
  {
   "cell_type": "code",
   "execution_count": 280,
   "metadata": {
    "collapsed": true
   },
   "outputs": [],
   "source": [
    "def circleOfCorrelations(pc_infos):\n",
    "    plt.figure(figsize=(5,5))\n",
    "    plt.Circle((0,0),radius=10, color='g', fill=False)\n",
    "    circle1=plt.Circle((0,0),radius=1, color='g', fill=False)\n",
    "    fig = plt.gcf()\n",
    "    fig.gca().add_artist(circle1)\n",
    "    for idx in range(len(pc_infos[\"PC-1\"])):\n",
    "        x = pc_infos[\"PC-1\"][idx]\n",
    "        y = pc_infos[\"PC-2\"][idx]\n",
    "        plt.plot([0.0,x],[0.0,y],'-', lw=1)\n",
    "        plt.plot(x, y, 'kx')\n",
    "        plt.annotate(pc_infos.index[idx], xy=(x,y), fontsize = 10, horizontalalignment='right',verticalalignment='top')\n",
    "    plt.xlim((-1,1))\n",
    "    plt.xlabel('PCA-1', fontsize = 12)\n",
    "    plt.ylim((-1,1))\n",
    "    plt.ylabel('PCA-2', fontsize = 12)\n",
    "    plt.title(\"Circle of Correlations on PCA-1 and PCA-2\", fontsize = 12)\n",
    "    "
   ]
  },
  {
   "cell_type": "code",
   "execution_count": 281,
   "metadata": {
    "collapsed": false
   },
   "outputs": [
    {
     "data": {
      "image/png": "[encoded data removed]",
      "text/plain": [
       "<matplotlib.figure.Figure at 0x11e999fd0>"
      ]
     },
     "metadata": {},
     "output_type": "display_data"
    }
   ],
   "source": [
    "circleOfCorrelations(pca_comp2)"
   ]
  },
  {
   "cell_type": "markdown",
   "metadata": {},
   "source": [
    "# PCA sur les variables input en Phase 0"
   ]
  },
  {
   "cell_type": "code",
   "execution_count": 284,
   "metadata": {
    "collapsed": true
   },
   "outputs": [],
   "source": [
    "array_0 = df_phase0_input.as_matrix()"
   ]
  },
  {
   "cell_type": "code",
   "execution_count": 285,
   "metadata": {
    "collapsed": false
   },
   "outputs": [
    {
     "data": {
      "text/plain": [
       "(array([], dtype=int64), array([], dtype=int64))"
      ]
     },
     "execution_count": 285,
     "metadata": {},
     "output_type": "execute_result"
    }
   ],
   "source": [
    "np.where(np.isnan(array_1))"
   ]
  },
  {
   "cell_type": "code",
   "execution_count": 287,
   "metadata": {
    "collapsed": false
   },
   "outputs": [
    {
     "data": {
      "text/plain": [
       "(False, False)"
      ]
     },
     "execution_count": 287,
     "metadata": {},
     "output_type": "execute_result"
    }
   ],
   "source": [
    "np.any(np.isnan(array_1)) , np.any(np.isinf(array_1))"
   ]
  },
  {
   "cell_type": "code",
   "execution_count": 289,
   "metadata": {
    "collapsed": true
   },
   "outputs": [],
   "source": [
    "array_0 = np.nan_to_num(array_0) "
   ]
  },
  {
   "cell_type": "code",
   "execution_count": 296,
   "metadata": {
    "collapsed": false
   },
   "outputs": [],
   "source": [
    "# Recentring and rescaling data\n",
    "array_0_scale = scale(array_0, axis=0)"
   ]
  },
  {
   "cell_type": "code",
   "execution_count": 297,
   "metadata": {
    "collapsed": true
   },
   "outputs": [],
   "source": [
    "pca0 = PCA(n_components=6).fit(array_0_scale)\n",
    "X_pca0 = pca.transform(array_0_scale)"
   ]
  },
  {
   "cell_type": "code",
   "execution_count": 298,
   "metadata": {
    "collapsed": false
   },
   "outputs": [
    {
     "name": "stdout",
     "output_type": "stream",
     "text": [
      "Eigenvalues Phase 0\n",
      "[ 4.91829861  1.78700512  1.27998981  1.02658157  0.99326677  0.90025181]\n"
     ]
    }
   ],
   "source": [
    "print(\"Eigenvalues Phase 0\")\n",
    "print(pca0.explained_variance_)  "
   ]
  },
  {
   "cell_type": "code",
   "execution_count": 299,
   "metadata": {
    "collapsed": false
   },
   "outputs": [
    {
     "name": "stdout",
     "output_type": "stream",
     "text": [
      "Explained variance ratio Phase 0\n",
      "[ 0.40985822  0.14891709  0.10666582  0.08554846  0.08277223  0.07502098]\n"
     ]
    }
   ],
   "source": [
    "print(\"Explained variance ratio Phase 0\")\n",
    "print (pca0.explained_variance_ratio_)"
   ]
  },
  {
   "cell_type": "code",
   "execution_count": 300,
   "metadata": {
    "collapsed": false
   },
   "outputs": [
    {
     "name": "stdout",
     "output_type": "stream",
     "text": [
      "Eigenvalues cumsum Phase 0\n",
      "[ 0.40985822  0.55877531  0.66544113  0.75098959  0.83376182  0.90878281]\n"
     ]
    }
   ],
   "source": [
    "print(\"Eigenvalues cumsum Phase 0\")\n",
    "print(pca0.explained_variance_ratio_.cumsum())"
   ]
  },
  {
   "cell_type": "code",
   "execution_count": 301,
   "metadata": {
    "collapsed": false
   },
   "outputs": [
    {
     "data": {
      "text/plain": [
       "<matplotlib.text.Text at 0x11efa2390>"
      ]
     },
     "execution_count": 301,
     "metadata": {},
     "output_type": "execute_result"
    },
    {
     "data": {
      "image/png": "[encoded data removed]",
      "text/plain": [
       "<matplotlib.figure.Figure at 0x11ef737f0>"
      ]
     },
     "metadata": {},
     "output_type": "display_data"
    }
   ],
   "source": [
    "fig = plt.subplots(figsize=(4,4))\n",
    "plt.plot(pca0.explained_variance_ratio_)\n",
    "plt.title('6 first Eigenvalues', fontsize = 12)\n"
   ]
  },
  {
   "cell_type": "code",
   "execution_count": 303,
   "metadata": {
    "collapsed": true
   },
   "outputs": [],
   "source": [
    "pca_comp0 = pd.DataFrame(pca0.components_)\n",
    "pca_comp0.columns = input"
   ]
  },
  {
   "cell_type": "code",
   "execution_count": 304,
   "metadata": {
    "collapsed": true
   },
   "outputs": [],
   "source": [
    "pca_comp02 = pca_comp0.T"
   ]
  },
  {
   "cell_type": "code",
   "execution_count": 305,
   "metadata": {
    "collapsed": true
   },
   "outputs": [],
   "source": [
    "pca_comp02.columns = ['PC-1','PC-2','PC-3', 'PC-4', 'PC-5', 'PC-6']"
   ]
  },
  {
   "cell_type": "code",
   "execution_count": 306,
   "metadata": {
    "collapsed": true
   },
   "outputs": [],
   "source": [
    "pca01 = pca_comp02[['PC-1']]"
   ]
  },
  {
   "cell_type": "code",
   "execution_count": 307,
   "metadata": {
    "collapsed": false
   },
   "outputs": [
    {
     "name": "stdout",
     "output_type": "stream",
     "text": [
      "Correlation entre la composante principale 1 et les inputs en phase 0 :\n",
      "\n",
      "n1               PC-1    0.436998\n",
      "n2               PC-1    0.435675\n",
      "oil pressure     PC-1    0.417053\n",
      "rotation speed   PC-1    0.414529\n",
      "turbine temp     PC-1    0.380001\n",
      "torque           PC-1    0.349448\n",
      "oil temp         PC-1    0.071801\n",
      "air speed        PC-1    0.029102\n",
      "ground speed     PC-1    0.028475\n",
      "static pressure  PC-1    0.010820\n",
      "altitude         PC-1    0.002483\n",
      "outside temp     PC-1    0.001494\n",
      "dtype: float64\n"
     ]
    }
   ],
   "source": [
    "pca01_sorted = pca01.abs().stack().sort_values(kind=\"quicksort\", ascending = False)\n",
    "print('Correlation entre la composante principale 1 et les inputs en phase 0 :\\n')\n",
    "print(pca01_sorted)"
   ]
  },
  {
   "cell_type": "code",
   "execution_count": 308,
   "metadata": {
    "collapsed": false
   },
   "outputs": [
    {
     "name": "stdout",
     "output_type": "stream",
     "text": [
      "Correlation entre la composante principale 2 et les inputs en phase 0:\n",
      "\n",
      "altitude         PC-2    0.708394\n",
      "static pressure  PC-2    0.702470\n",
      "air speed        PC-2    0.049590\n",
      "outside temp     PC-2    0.032566\n",
      "oil temp         PC-2    0.026942\n",
      "torque           PC-2    0.014729\n",
      "ground speed     PC-2    0.008677\n",
      "oil pressure     PC-2    0.008017\n",
      "rotation speed   PC-2    0.007711\n",
      "turbine temp     PC-2    0.004878\n",
      "n1               PC-2    0.004633\n",
      "n2               PC-2    0.002625\n",
      "dtype: float64\n"
     ]
    }
   ],
   "source": [
    "pca02 = pca_comp02[['PC-2']]\n",
    "pca02_sorted = pca02.abs().stack().sort_values(kind=\"quicksort\", ascending = False)\n",
    "print('Correlation entre la composante principale 2 et les inputs en phase 0:\\n')\n",
    "print(pca02_sorted)"
   ]
  },
  {
   "cell_type": "code",
   "execution_count": 309,
   "metadata": {
    "collapsed": false
   },
   "outputs": [
    {
     "data": {
      "image/png": "[encoded data removed]",
      "text/plain": [
       "<matplotlib.figure.Figure at 0x11ef93f60>"
      ]
     },
     "metadata": {},
     "output_type": "display_data"
    }
   ],
   "source": [
    "circleOfCorrelations(pca_comp02)"
   ]
  },
  {
   "cell_type": "code",
   "execution_count": null,
   "metadata": {
    "collapsed": true
   },
   "outputs": [],
   "source": []
  }
 ],
 "metadata": {
  "anaconda-cloud": {},
  "kernelspec": {
   "display_name": "Python [conda root]",
   "language": "python",
   "name": "conda-root-py"
  },
  "language_info": {
   "codemirror_mode": {
    "name": "ipython",
    "version": 3
   },
   "file_extension": ".py",
   "mimetype": "text/x-python",
   "name": "python",
   "nbconvert_exporter": "python",
   "pygments_lexer": "ipython3",
   "version": "3.5.2"
  }
 },
 "nbformat": 4,
 "nbformat_minor": 1
}
