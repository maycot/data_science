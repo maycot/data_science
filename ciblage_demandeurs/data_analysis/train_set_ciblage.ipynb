{
 "cells": [
  {
   "cell_type": "code",
   "execution_count": 1,
   "metadata": {},
   "outputs": [],
   "source": [
    "%matplotlib inline\n",
    "\n",
    "import pandas as pd\n",
    "import matplotlib.pyplot as plt"
   ]
  },
  {
   "cell_type": "code",
   "execution_count": 2,
   "metadata": {},
   "outputs": [],
   "source": [
    "df = pd.read_csv('../model/data/features3_2020_N1103.csv', sep='|', encoding='latin', error_bad_lines=False, dtype='str')\n",
    "df.columns = [el.split(\".\")[1] for el in df.columns]"
   ]
  },
  {
   "cell_type": "code",
   "execution_count": 3,
   "metadata": {},
   "outputs": [
    {
     "data": {
      "text/plain": [
       "(7937, 166)"
      ]
     },
     "execution_count": 3,
     "metadata": {},
     "output_type": "execute_result"
    }
   ],
   "source": [
    "df.shape"
   ]
  },
  {
   "cell_type": "code",
   "execution_count": 4,
   "metadata": {},
   "outputs": [
    {
     "data": {
      "text/plain": [
       "dc_specificiterome65          0.994456\n",
       "dc_specificiterome39          0.995086\n",
       "dc_specificiterome66          0.995086\n",
       "dc_specificiterome67          0.995212\n",
       "dc_specificiterome40          0.995716\n",
       "dc_specificiterome68          0.995842\n",
       "dc_specificiterome69          0.996598\n",
       "dc_specificiterome70          0.997102\n",
       "dc_specificiterome71          0.997480\n",
       "dc_specificiterome72          0.997606\n",
       "dc_specificiterome73          0.997858\n",
       "dc_specificiterome74          0.998110\n",
       "dc_specificiterome75          0.998740\n",
       "dc_specificiterome76          0.998866\n",
       "dc_specificiterome77          0.998866\n",
       "dc_specificiterome78          0.999118\n",
       "dc_specificiterome79          0.999244\n",
       "dc_specificiterome80          0.999370\n",
       "six_months_evenmtperso_sum    1.000000\n",
       "six_months_maladie_sum        1.000000\n",
       "dtype: float64"
      ]
     },
     "execution_count": 4,
     "metadata": {},
     "output_type": "execute_result"
    }
   ],
   "source": [
    "(df.isnull().sum() / len(df)).sort_values()[-20:]"
   ]
  },
  {
   "cell_type": "code",
   "execution_count": 5,
   "metadata": {},
   "outputs": [],
   "source": [
    "df = df.fillna(0)"
   ]
  },
  {
   "cell_type": "code",
   "execution_count": 6,
   "metadata": {},
   "outputs": [
    {
     "data": {
      "text/plain": [
       "0    0.979211\n",
       "1    0.020789\n",
       "Name: label, dtype: float64"
      ]
     },
     "execution_count": 6,
     "metadata": {},
     "output_type": "execute_result"
    }
   ],
   "source": [
    "df.label.value_counts() / len(df)"
   ]
  },
  {
   "cell_type": "code",
   "execution_count": 7,
   "metadata": {},
   "outputs": [],
   "source": [
    "df1 = df[df.label == '1']"
   ]
  },
  {
   "cell_type": "code",
   "execution_count": 8,
   "metadata": {},
   "outputs": [],
   "source": [
    "df0 = df[df.label == '0']"
   ]
  },
  {
   "cell_type": "code",
   "execution_count": 9,
   "metadata": {},
   "outputs": [
    {
     "data": {
      "text/plain": [
       "2530.73"
      ]
     },
     "execution_count": 9,
     "metadata": {},
     "output_type": "execute_result"
    }
   ],
   "source": [
    "df1.montant_indem.median()"
   ]
  },
  {
   "cell_type": "code",
   "execution_count": 10,
   "metadata": {},
   "outputs": [
    {
     "data": {
      "text/plain": [
       "0    0.698753\n",
       "1    0.301247\n",
       "Name: had_pcs, dtype: float64"
      ]
     },
     "execution_count": 10,
     "metadata": {},
     "output_type": "execute_result"
    }
   ],
   "source": [
    "df.had_pcs.value_counts() / len(df)"
   ]
  },
  {
   "cell_type": "code",
   "execution_count": 11,
   "metadata": {},
   "outputs": [
    {
     "data": {
      "text/plain": [
       "1    0.606061\n",
       "0    0.393939\n",
       "Name: had_pcs, dtype: float64"
      ]
     },
     "execution_count": 11,
     "metadata": {},
     "output_type": "execute_result"
    }
   ],
   "source": [
    "df1.had_pcs.value_counts() / len(df1)"
   ]
  },
  {
   "cell_type": "code",
   "execution_count": 12,
   "metadata": {},
   "outputs": [
    {
     "data": {
      "text/plain": [
       "0    0.636364\n",
       "1    0.363636\n",
       "Name: had_same_pcs, dtype: float64"
      ]
     },
     "execution_count": 12,
     "metadata": {},
     "output_type": "execute_result"
    }
   ],
   "source": [
    "df1.had_same_pcs.value_counts() / len(df1)"
   ]
  },
  {
   "cell_type": "code",
   "execution_count": 13,
   "metadata": {},
   "outputs": [
    {
     "data": {
      "text/plain": [
       "0    0.581818\n",
       "1    0.418182\n",
       "Name: had_pcs_proche, dtype: float64"
      ]
     },
     "execution_count": 13,
     "metadata": {},
     "output_type": "execute_result"
    }
   ],
   "source": [
    "df1.had_pcs_proche.value_counts() / len(df1)"
   ]
  },
  {
   "cell_type": "code",
   "execution_count": 14,
   "metadata": {},
   "outputs": [
    {
     "data": {
      "text/plain": [
       "N1103    0.145455\n",
       "0        0.103030\n",
       "D1214    0.042424\n",
       "N1105    0.036364\n",
       "G1602    0.036364\n",
       "           ...   \n",
       "D1404    0.006061\n",
       "F1610    0.006061\n",
       "G1204    0.006061\n",
       "C1205    0.006061\n",
       "N4302    0.006061\n",
       "Name: rome_profil, Length: 71, dtype: float64"
      ]
     },
     "execution_count": 14,
     "metadata": {},
     "output_type": "execute_result"
    }
   ],
   "source": [
    "df1.rome_profil.value_counts() / len(df1)"
   ]
  },
  {
   "cell_type": "code",
   "execution_count": 15,
   "metadata": {},
   "outputs": [
    {
     "data": {
      "text/plain": [
       "0        0.095600\n",
       "D1214    0.062661\n",
       "D1507    0.032810\n",
       "M1601    0.031137\n",
       "G1803    0.023160\n",
       "           ...   \n",
       "K2110    0.000129\n",
       "N3201    0.000129\n",
       "D1201    0.000129\n",
       "E1301    0.000129\n",
       "B1201    0.000129\n",
       "Name: rome_profil, Length: 376, dtype: float64"
      ]
     },
     "execution_count": 15,
     "metadata": {},
     "output_type": "execute_result"
    }
   ],
   "source": [
    "df0.rome_profil.value_counts() / len(df0)"
   ]
  },
  {
   "cell_type": "code",
   "execution_count": 34,
   "metadata": {},
   "outputs": [
    {
     "data": {
      "text/plain": [
       "1.0    221\n",
       "0.0     40\n",
       "Name: had_pcs, dtype: int64"
      ]
     },
     "execution_count": 34,
     "metadata": {},
     "output_type": "execute_result"
    }
   ],
   "source": [
    "df1.had_pcs.value_counts()"
   ]
  },
  {
   "cell_type": "code",
   "execution_count": 79,
   "metadata": {},
   "outputs": [],
   "source": [
    "df3_1 = df[(df.had_same_pcs == 1) | (df.had_pcs_proche == 1)]"
   ]
  },
  {
   "cell_type": "code",
   "execution_count": 80,
   "metadata": {},
   "outputs": [
    {
     "data": {
      "text/plain": [
       "0    0.883407\n",
       "1    0.116593\n",
       "Name: label, dtype: float64"
      ]
     },
     "execution_count": 80,
     "metadata": {},
     "output_type": "execute_result"
    }
   ],
   "source": [
    "df3_1.label.value_counts() / len(df3_1)"
   ]
  },
  {
   "cell_type": "code",
   "execution_count": 42,
   "metadata": {},
   "outputs": [
    {
     "data": {
      "text/plain": [
       "0    4566\n",
       "1     108\n",
       "Name: label, dtype: int64"
      ]
     },
     "execution_count": 42,
     "metadata": {},
     "output_type": "execute_result"
    }
   ],
   "source": [
    "df3_1.label.value_counts()"
   ]
  },
  {
   "cell_type": "code",
   "execution_count": 45,
   "metadata": {},
   "outputs": [],
   "source": [
    "df3_2 = df[((df.had_pcs == 1) & (df.rome_profil == 'K1302'))]"
   ]
  },
  {
   "cell_type": "code",
   "execution_count": 46,
   "metadata": {},
   "outputs": [
    {
     "data": {
      "text/plain": [
       "0    535\n",
       "1     28\n",
       "Name: label, dtype: int64"
      ]
     },
     "execution_count": 46,
     "metadata": {},
     "output_type": "execute_result"
    }
   ],
   "source": [
    "df3_2.label.value_counts()"
   ]
  },
  {
   "cell_type": "code",
   "execution_count": 16,
   "metadata": {},
   "outputs": [],
   "source": [
    "code_rome='N1103'"
   ]
  },
  {
   "cell_type": "code",
   "execution_count": 23,
   "metadata": {},
   "outputs": [],
   "source": [
    "    df1 = df[(df.dn_toprechercheemploi == '1') &\n",
    "            (df.dn_topstage == '0') &\n",
    "            (df.dn_topmaladie == '0') &\n",
    "            (df.dn_topmaternite == '0') &\n",
    "            (df.dn_topretraite == '0') &\n",
    "            (df.dn_topinvalidite == '0') &\n",
    "            ((df.had_same_pcs == '1') | (df.rome_profil == code_rome))]\n",
    "             #((df.had_pcs == '1') & (df.rome_profil == code_rome)))]"
   ]
  },
  {
   "cell_type": "code",
   "execution_count": 25,
   "metadata": {},
   "outputs": [],
   "source": [
    "    df1 = df[(df.dn_toprechercheemploi == '1') &\n",
    "            (df.dn_topstage == '0') &\n",
    "            (df.dn_topmaladie == '0') &\n",
    "            (df.dn_topmaternite == '0') &\n",
    "            (df.dn_topretraite == '0') &\n",
    "            (df.dn_topinvalidite == '0') &\n",
    "            (df.rome_profil == code_rome)]\n",
    "             #((df.had_pcs == '1') & (df.rome_profil == code_rome)))]"
   ]
  },
  {
   "cell_type": "code",
   "execution_count": 26,
   "metadata": {},
   "outputs": [
    {
     "data": {
      "text/plain": [
       "0    0.877419\n",
       "1    0.122581\n",
       "Name: label, dtype: float64"
      ]
     },
     "execution_count": 26,
     "metadata": {},
     "output_type": "execute_result"
    }
   ],
   "source": [
    "df1.label.value_counts() / len(df1)"
   ]
  },
  {
   "cell_type": "code",
   "execution_count": 52,
   "metadata": {},
   "outputs": [
    {
     "data": {
      "text/plain": [
       "0    530\n",
       "1    157\n",
       "Name: label, dtype: int64"
      ]
     },
     "execution_count": 52,
     "metadata": {},
     "output_type": "execute_result"
    }
   ],
   "source": [
    "df1.label.value_counts()"
   ]
  },
  {
   "cell_type": "code",
   "execution_count": 53,
   "metadata": {},
   "outputs": [
    {
     "data": {
      "text/plain": [
       "0    0.77147\n",
       "1    0.22853\n",
       "Name: label, dtype: float64"
      ]
     },
     "execution_count": 53,
     "metadata": {},
     "output_type": "execute_result"
    }
   ],
   "source": [
    "df1.label.value_counts() / len(df1)"
   ]
  },
  {
   "cell_type": "code",
   "execution_count": 193,
   "metadata": {},
   "outputs": [
    {
     "data": {
      "text/plain": [
       "43.0"
      ]
     },
     "execution_count": 193,
     "metadata": {},
     "output_type": "execute_result"
    }
   ],
   "source": [
    "df1.age.quantile(0.75)"
   ]
  },
  {
   "cell_type": "code",
   "execution_count": 200,
   "metadata": {},
   "outputs": [],
   "source": [
    "df3 = df[(df.had_same_pcs == 1) | \n",
    "         ((df.had_pcs == 1) & (df.rome_profil == 'N1103'))\n",
    "        ]"
   ]
  },
  {
   "cell_type": "code",
   "execution_count": 201,
   "metadata": {},
   "outputs": [
    {
     "data": {
      "text/plain": [
       "0    6947\n",
       "1    1322\n",
       "Name: label, dtype: int64"
      ]
     },
     "execution_count": 201,
     "metadata": {},
     "output_type": "execute_result"
    }
   ],
   "source": [
    "df3.label.value_counts()"
   ]
  },
  {
   "cell_type": "code",
   "execution_count": 202,
   "metadata": {},
   "outputs": [
    {
     "data": {
      "text/plain": [
       "0    0.840126\n",
       "1    0.159874\n",
       "Name: label, dtype: float64"
      ]
     },
     "execution_count": 202,
     "metadata": {},
     "output_type": "execute_result"
    }
   ],
   "source": [
    "df3.label.value_counts() / len(df3)"
   ]
  },
  {
   "cell_type": "code",
   "execution_count": 116,
   "metadata": {},
   "outputs": [
    {
     "data": {
      "text/plain": [
       "0    6897\n",
       "1    1322\n",
       "Name: label, dtype: int64"
      ]
     },
     "execution_count": 116,
     "metadata": {},
     "output_type": "execute_result"
    }
   ],
   "source": [
    "df31 = df[(df.had_same_pcs == 1)]\n",
    "df31.label.value_counts()"
   ]
  },
  {
   "cell_type": "code",
   "execution_count": 128,
   "metadata": {},
   "outputs": [
    {
     "data": {
      "text/plain": [
       "N1103    0.116924\n",
       "N1105    0.062295\n",
       "N1101    0.057915\n",
       "N4105    0.031756\n",
       "D1507    0.030174\n",
       "           ...   \n",
       "K2502    0.000122\n",
       "K2112    0.000122\n",
       "H1101    0.000122\n",
       "C1302    0.000122\n",
       "F1107    0.000122\n",
       "Name: rome_profil, Length: 395, dtype: float64"
      ]
     },
     "execution_count": 128,
     "metadata": {},
     "output_type": "execute_result"
    }
   ],
   "source": [
    "df[(df.had_same_pcs == 1)].rome_profil.value_counts() / len(df[(df.had_same_pcs == 1)])"
   ]
  },
  {
   "cell_type": "code",
   "execution_count": 117,
   "metadata": {},
   "outputs": [
    {
     "data": {
      "text/plain": [
       "0    0.839153\n",
       "1    0.160847\n",
       "Name: label, dtype: float64"
      ]
     },
     "execution_count": 117,
     "metadata": {},
     "output_type": "execute_result"
    }
   ],
   "source": [
    "df31.label.value_counts() / len(df31)"
   ]
  },
  {
   "cell_type": "code",
   "execution_count": 103,
   "metadata": {},
   "outputs": [
    {
     "data": {
      "text/plain": [
       "0    10350\n",
       "1     1366\n",
       "Name: label, dtype: int64"
      ]
     },
     "execution_count": 103,
     "metadata": {},
     "output_type": "execute_result"
    }
   ],
   "source": [
    "df31 = df[(df.had_same_pcs == 1) | (df.had_pcs_proche == 1)]\n",
    "df31.label.value_counts()"
   ]
  },
  {
   "cell_type": "code",
   "execution_count": 104,
   "metadata": {},
   "outputs": [
    {
     "data": {
      "text/plain": [
       "0    0.883407\n",
       "1    0.116593\n",
       "Name: label, dtype: float64"
      ]
     },
     "execution_count": 104,
     "metadata": {},
     "output_type": "execute_result"
    }
   ],
   "source": [
    "df31.label.value_counts() / len(df31)"
   ]
  },
  {
   "cell_type": "code",
   "execution_count": 112,
   "metadata": {},
   "outputs": [
    {
     "data": {
      "text/plain": [
       "0    2131\n",
       "1     241\n",
       "Name: label, dtype: int64"
      ]
     },
     "execution_count": 112,
     "metadata": {},
     "output_type": "execute_result"
    }
   ],
   "source": [
    "df31 = df[(df.rome_profil == 'N1103')]\n",
    "df31.label.value_counts()"
   ]
  },
  {
   "cell_type": "code",
   "execution_count": 111,
   "metadata": {
    "scrolled": true
   },
   "outputs": [
    {
     "data": {
      "text/plain": [
       "0    0.884998\n",
       "1    0.115002\n",
       "Name: label, dtype: float64"
      ]
     },
     "execution_count": 111,
     "metadata": {},
     "output_type": "execute_result"
    }
   ],
   "source": [
    "df3.label.value_counts() / len(df3)"
   ]
  },
  {
   "cell_type": "code",
   "execution_count": 67,
   "metadata": {},
   "outputs": [
    {
     "data": {
      "text/plain": [
       "0.015687182654041443"
      ]
     },
     "execution_count": 67,
     "metadata": {},
     "output_type": "execute_result"
    }
   ],
   "source": [
    "a=1829 / (1829 + 114763)\n",
    "a"
   ]
  },
  {
   "cell_type": "code",
   "execution_count": null,
   "metadata": {},
   "outputs": [],
   "source": []
  }
 ],
 "metadata": {
  "kernelspec": {
   "display_name": "Python 3.7.4 64-bit ('base': conda)",
   "language": "python",
   "name": "python37464bitbaseconda30ac596db5264243807f0a2e2ee9e691"
  },
  "language_info": {
   "codemirror_mode": {
    "name": "ipython",
    "version": 3
   },
   "file_extension": ".py",
   "mimetype": "text/x-python",
   "name": "python",
   "nbconvert_exporter": "python",
   "pygments_lexer": "ipython3",
   "version": "3.7.4"
  }
 },
 "nbformat": 4,
 "nbformat_minor": 2
}
