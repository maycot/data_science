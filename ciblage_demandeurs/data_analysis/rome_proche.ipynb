{
 "cells": [
  {
   "cell_type": "code",
   "execution_count": 1,
   "metadata": {},
   "outputs": [],
   "source": [
    "%matplotlib inline\n",
    "\n",
    "import pandas as pd\n",
    "import matplotlib.pyplot as plt"
   ]
  },
  {
   "cell_type": "code",
   "execution_count": 2,
   "metadata": {},
   "outputs": [],
   "source": [
    "df = pd.read_csv('../data/rome_fap_pcs2.csv', sep='|')"
   ]
  },
  {
   "cell_type": "code",
   "execution_count": 4,
   "metadata": {},
   "outputs": [
    {
     "data": {
      "text/html": [
       "<div>\n",
       "<style scoped>\n",
       "    .dataframe tbody tr th:only-of-type {\n",
       "        vertical-align: middle;\n",
       "    }\n",
       "\n",
       "    .dataframe tbody tr th {\n",
       "        vertical-align: top;\n",
       "    }\n",
       "\n",
       "    .dataframe thead th {\n",
       "        text-align: right;\n",
       "    }\n",
       "</style>\n",
       "<table border=\"1\" class=\"dataframe\">\n",
       "  <thead>\n",
       "    <tr style=\"text-align: right;\">\n",
       "      <th></th>\n",
       "      <th>rome</th>\n",
       "      <th>fap</th>\n",
       "      <th>pcs2</th>\n",
       "    </tr>\n",
       "  </thead>\n",
       "  <tbody>\n",
       "    <tr>\n",
       "      <td>2039</td>\n",
       "      <td>N1103</td>\n",
       "      <td>J1Z40</td>\n",
       "      <td>652a</td>\n",
       "    </tr>\n",
       "    <tr>\n",
       "      <td>2040</td>\n",
       "      <td>N1103</td>\n",
       "      <td>J1Z40</td>\n",
       "      <td>653a</td>\n",
       "    </tr>\n",
       "    <tr>\n",
       "      <td>2041</td>\n",
       "      <td>N1103</td>\n",
       "      <td>J1Z40</td>\n",
       "      <td>652b</td>\n",
       "    </tr>\n",
       "    <tr>\n",
       "      <td>2059</td>\n",
       "      <td>N1103</td>\n",
       "      <td>J0Z20</td>\n",
       "      <td>676a</td>\n",
       "    </tr>\n",
       "    <tr>\n",
       "      <td>2060</td>\n",
       "      <td>N1103</td>\n",
       "      <td>J0Z20</td>\n",
       "      <td>676b</td>\n",
       "    </tr>\n",
       "    <tr>\n",
       "      <td>2061</td>\n",
       "      <td>N1103</td>\n",
       "      <td>J0Z20</td>\n",
       "      <td>676c</td>\n",
       "    </tr>\n",
       "    <tr>\n",
       "      <td>2062</td>\n",
       "      <td>N1103</td>\n",
       "      <td>J0Z20</td>\n",
       "      <td>676d</td>\n",
       "    </tr>\n",
       "    <tr>\n",
       "      <td>2075</td>\n",
       "      <td>N1103</td>\n",
       "      <td>J1Z80</td>\n",
       "      <td>487a</td>\n",
       "    </tr>\n",
       "    <tr>\n",
       "      <td>2076</td>\n",
       "      <td>N1103</td>\n",
       "      <td>J1Z80</td>\n",
       "      <td>487b</td>\n",
       "    </tr>\n",
       "  </tbody>\n",
       "</table>\n",
       "</div>"
      ],
      "text/plain": [
       "       rome    fap  pcs2\n",
       "2039  N1103  J1Z40  652a\n",
       "2040  N1103  J1Z40  653a\n",
       "2041  N1103  J1Z40  652b\n",
       "2059  N1103  J0Z20  676a\n",
       "2060  N1103  J0Z20  676b\n",
       "2061  N1103  J0Z20  676c\n",
       "2062  N1103  J0Z20  676d\n",
       "2075  N1103  J1Z80  487a\n",
       "2076  N1103  J1Z80  487b"
      ]
     },
     "execution_count": 4,
     "metadata": {},
     "output_type": "execute_result"
    }
   ],
   "source": [
    "df[df.rome == 'N1103']"
   ]
  },
  {
   "cell_type": "code",
   "execution_count": 5,
   "metadata": {},
   "outputs": [
    {
     "data": {
      "text/html": [
       "<div>\n",
       "<style scoped>\n",
       "    .dataframe tbody tr th:only-of-type {\n",
       "        vertical-align: middle;\n",
       "    }\n",
       "\n",
       "    .dataframe tbody tr th {\n",
       "        vertical-align: top;\n",
       "    }\n",
       "\n",
       "    .dataframe thead th {\n",
       "        text-align: right;\n",
       "    }\n",
       "</style>\n",
       "<table border=\"1\" class=\"dataframe\">\n",
       "  <thead>\n",
       "    <tr style=\"text-align: right;\">\n",
       "      <th></th>\n",
       "      <th>rome</th>\n",
       "      <th>fap</th>\n",
       "      <th>pcs2</th>\n",
       "    </tr>\n",
       "  </thead>\n",
       "  <tbody>\n",
       "    <tr>\n",
       "      <td>2033</td>\n",
       "      <td>N1101</td>\n",
       "      <td>J1Z40</td>\n",
       "      <td>652a</td>\n",
       "    </tr>\n",
       "    <tr>\n",
       "      <td>2036</td>\n",
       "      <td>N1102</td>\n",
       "      <td>J1Z40</td>\n",
       "      <td>652a</td>\n",
       "    </tr>\n",
       "    <tr>\n",
       "      <td>2039</td>\n",
       "      <td>N1103</td>\n",
       "      <td>J1Z40</td>\n",
       "      <td>652a</td>\n",
       "    </tr>\n",
       "    <tr>\n",
       "      <td>2042</td>\n",
       "      <td>N1105</td>\n",
       "      <td>J1Z40</td>\n",
       "      <td>652a</td>\n",
       "    </tr>\n",
       "    <tr>\n",
       "      <td>2045</td>\n",
       "      <td>N2203</td>\n",
       "      <td>J1Z40</td>\n",
       "      <td>652a</td>\n",
       "    </tr>\n",
       "    <tr>\n",
       "      <td>2048</td>\n",
       "      <td>N3203</td>\n",
       "      <td>J1Z40</td>\n",
       "      <td>652a</td>\n",
       "    </tr>\n",
       "  </tbody>\n",
       "</table>\n",
       "</div>"
      ],
      "text/plain": [
       "       rome    fap  pcs2\n",
       "2033  N1101  J1Z40  652a\n",
       "2036  N1102  J1Z40  652a\n",
       "2039  N1103  J1Z40  652a\n",
       "2042  N1105  J1Z40  652a\n",
       "2045  N2203  J1Z40  652a\n",
       "2048  N3203  J1Z40  652a"
      ]
     },
     "execution_count": 5,
     "metadata": {},
     "output_type": "execute_result"
    }
   ],
   "source": [
    "df[df.pcs2 == '652a']"
   ]
  },
  {
   "cell_type": "code",
   "execution_count": 18,
   "metadata": {},
   "outputs": [],
   "source": [
    "df = pd.read_csv('../data/rome_fap.csv', sep='|')"
   ]
  },
  {
   "cell_type": "code",
   "execution_count": 21,
   "metadata": {},
   "outputs": [],
   "source": [
    "df1 = pd.read_csv('../data/pcs_fap.csv', sep=';')"
   ]
  },
  {
   "cell_type": "code",
   "execution_count": 23,
   "metadata": {},
   "outputs": [
    {
     "data": {
      "text/html": [
       "<div>\n",
       "<style scoped>\n",
       "    .dataframe tbody tr th:only-of-type {\n",
       "        vertical-align: middle;\n",
       "    }\n",
       "\n",
       "    .dataframe tbody tr th {\n",
       "        vertical-align: top;\n",
       "    }\n",
       "\n",
       "    .dataframe thead th {\n",
       "        text-align: right;\n",
       "    }\n",
       "</style>\n",
       "<table border=\"1\" class=\"dataframe\">\n",
       "  <thead>\n",
       "    <tr style=\"text-align: right;\">\n",
       "      <th></th>\n",
       "      <th>pcs2</th>\n",
       "      <th>fap</th>\n",
       "    </tr>\n",
       "  </thead>\n",
       "  <tbody>\n",
       "    <tr>\n",
       "      <td>0</td>\n",
       "      <td>220x</td>\n",
       "      <td>R3Z80</td>\n",
       "    </tr>\n",
       "    <tr>\n",
       "      <td>1</td>\n",
       "      <td>210x</td>\n",
       "      <td>K0Z40</td>\n",
       "    </tr>\n",
       "    <tr>\n",
       "      <td>2</td>\n",
       "      <td>100x</td>\n",
       "      <td>A0740</td>\n",
       "    </tr>\n",
       "    <tr>\n",
       "      <td>3</td>\n",
       "      <td>111a</td>\n",
       "      <td>A0Z00</td>\n",
       "    </tr>\n",
       "    <tr>\n",
       "      <td>4</td>\n",
       "      <td>121a</td>\n",
       "      <td>A0Z00</td>\n",
       "    </tr>\n",
       "  </tbody>\n",
       "</table>\n",
       "</div>"
      ],
      "text/plain": [
       "   pcs2    fap\n",
       "0  220x  R3Z80\n",
       "1  210x  K0Z40\n",
       "2  100x  A0740\n",
       "3  111a  A0Z00\n",
       "4  121a  A0Z00"
      ]
     },
     "execution_count": 23,
     "metadata": {},
     "output_type": "execute_result"
    }
   ],
   "source": [
    "df1.head()"
   ]
  },
  {
   "cell_type": "code",
   "execution_count": 25,
   "metadata": {},
   "outputs": [
    {
     "data": {
      "text/plain": [
       "(208, 226)"
      ]
     },
     "execution_count": 25,
     "metadata": {},
     "output_type": "execute_result"
    }
   ],
   "source": [
    "len(set(df.fap)), len(set(df1.fap))"
   ]
  },
  {
   "cell_type": "code",
   "execution_count": 27,
   "metadata": {},
   "outputs": [],
   "source": [
    "df2 = pd.merge(df, df1, on='fap', how='inner')"
   ]
  },
  {
   "cell_type": "code",
   "execution_count": 29,
   "metadata": {},
   "outputs": [],
   "source": [
    "df2.to_csv('../data/rome_fap_pcs2.csv', sep='|', index=False)"
   ]
  },
  {
   "cell_type": "code",
   "execution_count": 30,
   "metadata": {},
   "outputs": [
    {
     "data": {
      "text/html": [
       "<div>\n",
       "<style scoped>\n",
       "    .dataframe tbody tr th:only-of-type {\n",
       "        vertical-align: middle;\n",
       "    }\n",
       "\n",
       "    .dataframe tbody tr th {\n",
       "        vertical-align: top;\n",
       "    }\n",
       "\n",
       "    .dataframe thead th {\n",
       "        text-align: right;\n",
       "    }\n",
       "</style>\n",
       "<table border=\"1\" class=\"dataframe\">\n",
       "  <thead>\n",
       "    <tr style=\"text-align: right;\">\n",
       "      <th></th>\n",
       "      <th>rome</th>\n",
       "      <th>fap</th>\n",
       "      <th>pcs2</th>\n",
       "    </tr>\n",
       "  </thead>\n",
       "  <tbody>\n",
       "    <tr>\n",
       "      <td>0</td>\n",
       "      <td>A1101</td>\n",
       "      <td>A0Z43</td>\n",
       "      <td>691a</td>\n",
       "    </tr>\n",
       "    <tr>\n",
       "      <td>1</td>\n",
       "      <td>A1201</td>\n",
       "      <td>A0Z42</td>\n",
       "      <td>533b</td>\n",
       "    </tr>\n",
       "    <tr>\n",
       "      <td>2</td>\n",
       "      <td>A1201</td>\n",
       "      <td>A0Z42</td>\n",
       "      <td>691f</td>\n",
       "    </tr>\n",
       "    <tr>\n",
       "      <td>3</td>\n",
       "      <td>A1204</td>\n",
       "      <td>A0Z42</td>\n",
       "      <td>533b</td>\n",
       "    </tr>\n",
       "    <tr>\n",
       "      <td>4</td>\n",
       "      <td>A1204</td>\n",
       "      <td>A0Z42</td>\n",
       "      <td>691f</td>\n",
       "    </tr>\n",
       "  </tbody>\n",
       "</table>\n",
       "</div>"
      ],
      "text/plain": [
       "    rome    fap  pcs2\n",
       "0  A1101  A0Z43  691a\n",
       "1  A1201  A0Z42  533b\n",
       "2  A1201  A0Z42  691f\n",
       "3  A1204  A0Z42  533b\n",
       "4  A1204  A0Z42  691f"
      ]
     },
     "execution_count": 30,
     "metadata": {},
     "output_type": "execute_result"
    }
   ],
   "source": [
    "df2.head()"
   ]
  },
  {
   "cell_type": "code",
   "execution_count": 32,
   "metadata": {},
   "outputs": [
    {
     "data": {
      "text/plain": [
       "4.0"
      ]
     },
     "execution_count": 32,
     "metadata": {},
     "output_type": "execute_result"
    }
   ],
   "source": [
    "df2.groupby('rome').pcs2.count().median()"
   ]
  },
  {
   "cell_type": "code",
   "execution_count": 34,
   "metadata": {},
   "outputs": [
    {
     "data": {
      "text/plain": [
       "3.0"
      ]
     },
     "execution_count": 34,
     "metadata": {},
     "output_type": "execute_result"
    }
   ],
   "source": [
    "df2.groupby('pcs2').rome.count().median()"
   ]
  },
  {
   "cell_type": "code",
   "execution_count": 41,
   "metadata": {},
   "outputs": [],
   "source": [
    "df2 = df2[['rome', 'pcs2']]\n",
    "df2.columns = ['rome', 'pcs']"
   ]
  },
  {
   "cell_type": "code",
   "execution_count": 119,
   "metadata": {},
   "outputs": [],
   "source": [
    "df3 = pd.read_csv('../data/pcs_proche.csv', sep='|')\n",
    "df3.columns = [el.split(\".\")[1] for el in df3.columns]"
   ]
  },
  {
   "cell_type": "code",
   "execution_count": 120,
   "metadata": {},
   "outputs": [
    {
     "data": {
      "text/plain": [
       "(1270, 2)"
      ]
     },
     "execution_count": 120,
     "metadata": {},
     "output_type": "execute_result"
    }
   ],
   "source": [
    "df3.shape"
   ]
  },
  {
   "cell_type": "code",
   "execution_count": 121,
   "metadata": {},
   "outputs": [
    {
     "data": {
      "text/html": [
       "<div>\n",
       "<style scoped>\n",
       "    .dataframe tbody tr th:only-of-type {\n",
       "        vertical-align: middle;\n",
       "    }\n",
       "\n",
       "    .dataframe tbody tr th {\n",
       "        vertical-align: top;\n",
       "    }\n",
       "\n",
       "    .dataframe thead th {\n",
       "        text-align: right;\n",
       "    }\n",
       "</style>\n",
       "<table border=\"1\" class=\"dataframe\">\n",
       "  <thead>\n",
       "    <tr style=\"text-align: right;\">\n",
       "      <th></th>\n",
       "      <th>pcs1</th>\n",
       "      <th>pcs2</th>\n",
       "    </tr>\n",
       "  </thead>\n",
       "  <tbody>\n",
       "    <tr>\n",
       "      <td>0</td>\n",
       "      <td>100x</td>\n",
       "      <td>691e</td>\n",
       "    </tr>\n",
       "    <tr>\n",
       "      <td>1</td>\n",
       "      <td>100x</td>\n",
       "      <td>691d</td>\n",
       "    </tr>\n",
       "    <tr>\n",
       "      <td>2</td>\n",
       "      <td>100x</td>\n",
       "      <td>691c</td>\n",
       "    </tr>\n",
       "    <tr>\n",
       "      <td>3</td>\n",
       "      <td>210x</td>\n",
       "      <td>632a</td>\n",
       "    </tr>\n",
       "    <tr>\n",
       "      <td>4</td>\n",
       "      <td>210x</td>\n",
       "      <td>643a</td>\n",
       "    </tr>\n",
       "  </tbody>\n",
       "</table>\n",
       "</div>"
      ],
      "text/plain": [
       "   pcs1  pcs2\n",
       "0  100x  691e\n",
       "1  100x  691d\n",
       "2  100x  691c\n",
       "3  210x  632a\n",
       "4  210x  643a"
      ]
     },
     "execution_count": 121,
     "metadata": {},
     "output_type": "execute_result"
    }
   ],
   "source": [
    "df3.head()"
   ]
  },
  {
   "cell_type": "code",
   "execution_count": 122,
   "metadata": {},
   "outputs": [],
   "source": [
    "res = []\n",
    "for pcs in list(set(df3.pcs1)):\n",
    "    df_pcs = df3[df3.pcs1 == pcs].pcs2.values.tolist()\n",
    "    if len(df_pcs) < 3:\n",
    "        df_pcs = df_pcs + ['no'] * (3 - len(df_pcs))\n",
    "    res.append([pcs] + df_pcs)\n"
   ]
  },
  {
   "cell_type": "code",
   "execution_count": 123,
   "metadata": {},
   "outputs": [],
   "source": [
    "pcs_proche = pd.DataFrame(res, columns=['pcs', 'pcs1', 'pcs2', 'pcs3'])"
   ]
  },
  {
   "cell_type": "code",
   "execution_count": 124,
   "metadata": {},
   "outputs": [],
   "source": [
    "pcs_proche.to_csv('../data/pcs_proche_res.csv', sep='|', index=False)"
   ]
  },
  {
   "cell_type": "code",
   "execution_count": 125,
   "metadata": {},
   "outputs": [
    {
     "data": {
      "text/html": [
       "<div>\n",
       "<style scoped>\n",
       "    .dataframe tbody tr th:only-of-type {\n",
       "        vertical-align: middle;\n",
       "    }\n",
       "\n",
       "    .dataframe tbody tr th {\n",
       "        vertical-align: top;\n",
       "    }\n",
       "\n",
       "    .dataframe thead th {\n",
       "        text-align: right;\n",
       "    }\n",
       "</style>\n",
       "<table border=\"1\" class=\"dataframe\">\n",
       "  <thead>\n",
       "    <tr style=\"text-align: right;\">\n",
       "      <th></th>\n",
       "      <th>pcs</th>\n",
       "      <th>pcs1</th>\n",
       "      <th>pcs2</th>\n",
       "      <th>pcs3</th>\n",
       "    </tr>\n",
       "  </thead>\n",
       "  <tbody>\n",
       "    <tr>\n",
       "      <td>0</td>\n",
       "      <td>462e</td>\n",
       "      <td>543g</td>\n",
       "      <td>543f</td>\n",
       "      <td>542a</td>\n",
       "    </tr>\n",
       "    <tr>\n",
       "      <td>1</td>\n",
       "      <td>451e</td>\n",
       "      <td>543g</td>\n",
       "      <td>543b</td>\n",
       "      <td>564b</td>\n",
       "    </tr>\n",
       "    <tr>\n",
       "      <td>2</td>\n",
       "      <td>534a</td>\n",
       "      <td>564b</td>\n",
       "      <td>684a</td>\n",
       "      <td>643a</td>\n",
       "    </tr>\n",
       "    <tr>\n",
       "      <td>3</td>\n",
       "      <td>526a</td>\n",
       "      <td>563b</td>\n",
       "      <td>525d</td>\n",
       "      <td>526d</td>\n",
       "    </tr>\n",
       "    <tr>\n",
       "      <td>4</td>\n",
       "      <td>477a</td>\n",
       "      <td>652a</td>\n",
       "      <td>543g</td>\n",
       "      <td>653a</td>\n",
       "    </tr>\n",
       "  </tbody>\n",
       "</table>\n",
       "</div>"
      ],
      "text/plain": [
       "    pcs  pcs1  pcs2  pcs3\n",
       "0  462e  543g  543f  542a\n",
       "1  451e  543g  543b  564b\n",
       "2  534a  564b  684a  643a\n",
       "3  526a  563b  525d  526d\n",
       "4  477a  652a  543g  653a"
      ]
     },
     "execution_count": 125,
     "metadata": {},
     "output_type": "execute_result"
    }
   ],
   "source": [
    "pcs_proche.head()"
   ]
  },
  {
   "cell_type": "code",
   "execution_count": 1,
   "metadata": {},
   "outputs": [
    {
     "ename": "NameError",
     "evalue": "name 'pd' is not defined",
     "output_type": "error",
     "traceback": [
      "\u001b[1;31m---------------------------------------------------------------------------\u001b[0m",
      "\u001b[1;31mNameError\u001b[0m                                 Traceback (most recent call last)",
      "\u001b[1;32m<ipython-input-1-e0c9002cacce>\u001b[0m in \u001b[0;36m<module>\u001b[1;34m\u001b[0m\n\u001b[1;32m----> 1\u001b[1;33m \u001b[0mdf4\u001b[0m \u001b[1;33m=\u001b[0m \u001b[0mpd\u001b[0m\u001b[1;33m.\u001b[0m\u001b[0mread_csv\u001b[0m\u001b[1;33m(\u001b[0m\u001b[1;34m'../data/ale.csv'\u001b[0m\u001b[1;33m,\u001b[0m \u001b[0msep\u001b[0m\u001b[1;33m=\u001b[0m\u001b[1;34m'|'\u001b[0m\u001b[1;33m)\u001b[0m\u001b[1;33m\u001b[0m\u001b[1;33m\u001b[0m\u001b[0m\n\u001b[0m\u001b[0;32m      2\u001b[0m \u001b[0mdf4\u001b[0m\u001b[1;33m.\u001b[0m\u001b[0mcolumns\u001b[0m \u001b[1;33m=\u001b[0m \u001b[1;33m[\u001b[0m\u001b[0mel\u001b[0m\u001b[1;33m.\u001b[0m\u001b[0msplit\u001b[0m\u001b[1;33m(\u001b[0m\u001b[1;34m\".\"\u001b[0m\u001b[1;33m)\u001b[0m\u001b[1;33m[\u001b[0m\u001b[1;36m1\u001b[0m\u001b[1;33m]\u001b[0m \u001b[1;32mfor\u001b[0m \u001b[0mel\u001b[0m \u001b[1;32min\u001b[0m \u001b[0mdf4\u001b[0m\u001b[1;33m.\u001b[0m\u001b[0mcolumns\u001b[0m\u001b[1;33m]\u001b[0m\u001b[1;33m\u001b[0m\u001b[1;33m\u001b[0m\u001b[0m\n",
      "\u001b[1;31mNameError\u001b[0m: name 'pd' is not defined"
     ]
    }
   ],
   "source": [
    "df4 = pd.read_csv('../data/ale.csv', sep='|')\n",
    "df4.columns = [el.split(\".\")[1] for el in df4.columns]"
   ]
  },
  {
   "cell_type": "code",
   "execution_count": 128,
   "metadata": {},
   "outputs": [],
   "source": [
    "df4.to_csv('../data/ale.csv', sep='|', index=False)"
   ]
  },
  {
   "cell_type": "code",
   "execution_count": 138,
   "metadata": {
    "scrolled": true
   },
   "outputs": [],
   "source": [
    "df5 = pd.read_csv('../data/grands_domaines', sep='|')"
   ]
  },
  {
   "cell_type": "code",
   "execution_count": 140,
   "metadata": {},
   "outputs": [
    {
     "data": {
      "text/html": [
       "<div>\n",
       "<style scoped>\n",
       "    .dataframe tbody tr th:only-of-type {\n",
       "        vertical-align: middle;\n",
       "    }\n",
       "\n",
       "    .dataframe tbody tr th {\n",
       "        vertical-align: top;\n",
       "    }\n",
       "\n",
       "    .dataframe thead th {\n",
       "        text-align: right;\n",
       "    }\n",
       "</style>\n",
       "<table border=\"1\" class=\"dataframe\">\n",
       "  <thead>\n",
       "    <tr style=\"text-align: right;\">\n",
       "      <th></th>\n",
       "      <th>num_domaine</th>\n",
       "      <th>lbl_domaine</th>\n",
       "    </tr>\n",
       "  </thead>\n",
       "  <tbody>\n",
       "    <tr>\n",
       "      <td>0</td>\n",
       "      <td>A</td>\n",
       "      <td>Agriculture et Pêche, Espaces naturels et Espa...</td>\n",
       "    </tr>\n",
       "    <tr>\n",
       "      <td>1</td>\n",
       "      <td>B</td>\n",
       "      <td>Arts et Façonnage d'ouvrages d'art</td>\n",
       "    </tr>\n",
       "    <tr>\n",
       "      <td>2</td>\n",
       "      <td>C</td>\n",
       "      <td>Banque, Assurance, Immobilier</td>\n",
       "    </tr>\n",
       "    <tr>\n",
       "      <td>3</td>\n",
       "      <td>D</td>\n",
       "      <td>Commerce, Vente et Grande distribution</td>\n",
       "    </tr>\n",
       "    <tr>\n",
       "      <td>4</td>\n",
       "      <td>E</td>\n",
       "      <td>Communication, Média et Multimédia</td>\n",
       "    </tr>\n",
       "    <tr>\n",
       "      <td>5</td>\n",
       "      <td>F</td>\n",
       "      <td>Construction, Bâtiment et Travaux publics</td>\n",
       "    </tr>\n",
       "    <tr>\n",
       "      <td>6</td>\n",
       "      <td>G</td>\n",
       "      <td>Hôtellerie-Restauration, Tourisme, Loisirs et ...</td>\n",
       "    </tr>\n",
       "    <tr>\n",
       "      <td>7</td>\n",
       "      <td>H</td>\n",
       "      <td>Industrie</td>\n",
       "    </tr>\n",
       "    <tr>\n",
       "      <td>8</td>\n",
       "      <td>I</td>\n",
       "      <td>Installation et Maintenance</td>\n",
       "    </tr>\n",
       "    <tr>\n",
       "      <td>9</td>\n",
       "      <td>J</td>\n",
       "      <td>Santé</td>\n",
       "    </tr>\n",
       "    <tr>\n",
       "      <td>10</td>\n",
       "      <td>K</td>\n",
       "      <td>Services à la personne et à la collectivité</td>\n",
       "    </tr>\n",
       "    <tr>\n",
       "      <td>11</td>\n",
       "      <td>L</td>\n",
       "      <td>Spectacle</td>\n",
       "    </tr>\n",
       "    <tr>\n",
       "      <td>12</td>\n",
       "      <td>M</td>\n",
       "      <td>Support à l'entrepris</td>\n",
       "    </tr>\n",
       "    <tr>\n",
       "      <td>13</td>\n",
       "      <td>N</td>\n",
       "      <td>Transport et Logistique</td>\n",
       "    </tr>\n",
       "  </tbody>\n",
       "</table>\n",
       "</div>"
      ],
      "text/plain": [
       "   num_domaine                                        lbl_domaine\n",
       "0            A  Agriculture et Pêche, Espaces naturels et Espa...\n",
       "1            B                 Arts et Façonnage d'ouvrages d'art\n",
       "2            C                      Banque, Assurance, Immobilier\n",
       "3            D             Commerce, Vente et Grande distribution\n",
       "4            E                 Communication, Média et Multimédia\n",
       "5            F          Construction, Bâtiment et Travaux publics\n",
       "6            G  Hôtellerie-Restauration, Tourisme, Loisirs et ...\n",
       "7            H                                          Industrie\n",
       "8            I                        Installation et Maintenance\n",
       "9            J                                              Santé\n",
       "10           K        Services à la personne et à la collectivité\n",
       "11           L                                          Spectacle\n",
       "12           M                              Support à l'entrepris\n",
       "13           N                            Transport et Logistique"
      ]
     },
     "execution_count": 140,
     "metadata": {},
     "output_type": "execute_result"
    }
   ],
   "source": [
    "df5"
   ]
  },
  {
   "cell_type": "code",
   "execution_count": 136,
   "metadata": {},
   "outputs": [],
   "source": [
    "df5 = df5.drop_duplicates()"
   ]
  },
  {
   "cell_type": "code",
   "execution_count": 251,
   "metadata": {},
   "outputs": [],
   "source": [
    "df5.to_csv('../data/grands_domaines.csv', sep='|', index=False)"
   ]
  },
  {
   "cell_type": "code",
   "execution_count": 142,
   "metadata": {},
   "outputs": [],
   "source": [
    "df6 = pd.read_csv('../data/counter_ind_agences.csv', sep='|')\n",
    "df6.columns = [el.split(\".\")[1] for el in df6.columns]"
   ]
  },
  {
   "cell_type": "code",
   "execution_count": 145,
   "metadata": {},
   "outputs": [
    {
     "data": {
      "text/html": [
       "<div>\n",
       "<style scoped>\n",
       "    .dataframe tbody tr th:only-of-type {\n",
       "        vertical-align: middle;\n",
       "    }\n",
       "\n",
       "    .dataframe tbody tr th {\n",
       "        vertical-align: top;\n",
       "    }\n",
       "\n",
       "    .dataframe thead th {\n",
       "        text-align: right;\n",
       "    }\n",
       "</style>\n",
       "<table border=\"1\" class=\"dataframe\">\n",
       "  <thead>\n",
       "    <tr style=\"text-align: right;\">\n",
       "      <th></th>\n",
       "      <th>dc_structure</th>\n",
       "      <th>ind_counter</th>\n",
       "    </tr>\n",
       "  </thead>\n",
       "  <tbody>\n",
       "    <tr>\n",
       "      <td>0</td>\n",
       "      <td>33004</td>\n",
       "      <td>4169</td>\n",
       "    </tr>\n",
       "    <tr>\n",
       "      <td>1</td>\n",
       "      <td>33012</td>\n",
       "      <td>7</td>\n",
       "    </tr>\n",
       "    <tr>\n",
       "      <td>2</td>\n",
       "      <td>33024</td>\n",
       "      <td>7142</td>\n",
       "    </tr>\n",
       "    <tr>\n",
       "      <td>3</td>\n",
       "      <td>33025</td>\n",
       "      <td>8472</td>\n",
       "    </tr>\n",
       "    <tr>\n",
       "      <td>4</td>\n",
       "      <td>33033</td>\n",
       "      <td>6687</td>\n",
       "    </tr>\n",
       "  </tbody>\n",
       "</table>\n",
       "</div>"
      ],
      "text/plain": [
       "   dc_structure  ind_counter\n",
       "0         33004         4169\n",
       "1         33012            7\n",
       "2         33024         7142\n",
       "3         33025         8472\n",
       "4         33033         6687"
      ]
     },
     "execution_count": 145,
     "metadata": {},
     "output_type": "execute_result"
    }
   ],
   "source": [
    "df6.head()"
   ]
  },
  {
   "cell_type": "code",
   "execution_count": 146,
   "metadata": {},
   "outputs": [],
   "source": [
    "df6.to_csv('../data/counter_ind_agences.csv', sep='|', index=False)"
   ]
  },
  {
   "cell_type": "code",
   "execution_count": 147,
   "metadata": {},
   "outputs": [
    {
     "data": {
      "text/html": [
       "<div>\n",
       "<style scoped>\n",
       "    .dataframe tbody tr th:only-of-type {\n",
       "        vertical-align: middle;\n",
       "    }\n",
       "\n",
       "    .dataframe tbody tr th {\n",
       "        vertical-align: top;\n",
       "    }\n",
       "\n",
       "    .dataframe thead th {\n",
       "        text-align: right;\n",
       "    }\n",
       "</style>\n",
       "<table border=\"1\" class=\"dataframe\">\n",
       "  <thead>\n",
       "    <tr style=\"text-align: right;\">\n",
       "      <th></th>\n",
       "      <th>num_domaine</th>\n",
       "      <th>lbl_domaine</th>\n",
       "    </tr>\n",
       "  </thead>\n",
       "  <tbody>\n",
       "    <tr>\n",
       "      <td>0</td>\n",
       "      <td>A</td>\n",
       "      <td>Agriculture et Pêche, Espaces naturels et Espa...</td>\n",
       "    </tr>\n",
       "    <tr>\n",
       "      <td>1</td>\n",
       "      <td>B</td>\n",
       "      <td>Arts et Façonnage d'ouvrages d'art</td>\n",
       "    </tr>\n",
       "    <tr>\n",
       "      <td>2</td>\n",
       "      <td>C</td>\n",
       "      <td>Banque, Assurance, Immobilier</td>\n",
       "    </tr>\n",
       "    <tr>\n",
       "      <td>3</td>\n",
       "      <td>D</td>\n",
       "      <td>Commerce, Vente et Grande distribution</td>\n",
       "    </tr>\n",
       "    <tr>\n",
       "      <td>4</td>\n",
       "      <td>E</td>\n",
       "      <td>Communication, Média et Multimédia</td>\n",
       "    </tr>\n",
       "    <tr>\n",
       "      <td>5</td>\n",
       "      <td>F</td>\n",
       "      <td>Construction, Bâtiment et Travaux publics</td>\n",
       "    </tr>\n",
       "    <tr>\n",
       "      <td>6</td>\n",
       "      <td>G</td>\n",
       "      <td>Hôtellerie-Restauration, Tourisme, Loisirs et ...</td>\n",
       "    </tr>\n",
       "    <tr>\n",
       "      <td>7</td>\n",
       "      <td>H</td>\n",
       "      <td>Industrie</td>\n",
       "    </tr>\n",
       "    <tr>\n",
       "      <td>8</td>\n",
       "      <td>I</td>\n",
       "      <td>Installation et Maintenance</td>\n",
       "    </tr>\n",
       "    <tr>\n",
       "      <td>9</td>\n",
       "      <td>J</td>\n",
       "      <td>Santé</td>\n",
       "    </tr>\n",
       "    <tr>\n",
       "      <td>10</td>\n",
       "      <td>K</td>\n",
       "      <td>Services à la personne et à la collectivité</td>\n",
       "    </tr>\n",
       "    <tr>\n",
       "      <td>11</td>\n",
       "      <td>L</td>\n",
       "      <td>Spectacle</td>\n",
       "    </tr>\n",
       "    <tr>\n",
       "      <td>12</td>\n",
       "      <td>M</td>\n",
       "      <td>Support à l'entrepris</td>\n",
       "    </tr>\n",
       "    <tr>\n",
       "      <td>13</td>\n",
       "      <td>N</td>\n",
       "      <td>Transport et Logistique</td>\n",
       "    </tr>\n",
       "  </tbody>\n",
       "</table>\n",
       "</div>"
      ],
      "text/plain": [
       "   num_domaine                                        lbl_domaine\n",
       "0            A  Agriculture et Pêche, Espaces naturels et Espa...\n",
       "1            B                 Arts et Façonnage d'ouvrages d'art\n",
       "2            C                      Banque, Assurance, Immobilier\n",
       "3            D             Commerce, Vente et Grande distribution\n",
       "4            E                 Communication, Média et Multimédia\n",
       "5            F          Construction, Bâtiment et Travaux publics\n",
       "6            G  Hôtellerie-Restauration, Tourisme, Loisirs et ...\n",
       "7            H                                          Industrie\n",
       "8            I                        Installation et Maintenance\n",
       "9            J                                              Santé\n",
       "10           K        Services à la personne et à la collectivité\n",
       "11           L                                          Spectacle\n",
       "12           M                              Support à l'entrepris\n",
       "13           N                            Transport et Logistique"
      ]
     },
     "execution_count": 147,
     "metadata": {},
     "output_type": "execute_result"
    }
   ],
   "source": [
    "df5"
   ]
  },
  {
   "cell_type": "code",
   "execution_count": 173,
   "metadata": {},
   "outputs": [],
   "source": [
    "import random\n",
    "import matplotlib.cm as cm\n",
    "my_cmap = cm.get_cmap('jet')\n",
    "\n",
    "fake_number = [random.uniform(0.1, 0.8) for i in range(14)]\n",
    "fake_number = [round(el, 2) for el in fake_number]"
   ]
  },
  {
   "cell_type": "code",
   "execution_count": 174,
   "metadata": {},
   "outputs": [
    {
     "data": {
      "text/plain": [
       "[0.5,\n",
       " 0.37,\n",
       " 0.44,\n",
       " 0.79,\n",
       " 0.33,\n",
       " 0.35,\n",
       " 0.13,\n",
       " 0.16,\n",
       " 0.55,\n",
       " 0.65,\n",
       " 0.34,\n",
       " 0.49,\n",
       " 0.53,\n",
       " 0.27]"
      ]
     },
     "execution_count": 174,
     "metadata": {},
     "output_type": "execute_result"
    }
   ],
   "source": [
    "fake_number"
   ]
  },
  {
   "cell_type": "code",
   "execution_count": 175,
   "metadata": {},
   "outputs": [],
   "source": [
    "df5['domaine'] = df5.apply(lambda x: x['num_domaine'] + ' : ' + x['lbl_domaine'], axis=1)"
   ]
  },
  {
   "cell_type": "code",
   "execution_count": 176,
   "metadata": {},
   "outputs": [],
   "source": [
    "df5['potentiel'] = fake_number"
   ]
  },
  {
   "cell_type": "code",
   "execution_count": 177,
   "metadata": {},
   "outputs": [
    {
     "data": {
      "text/html": [
       "<div>\n",
       "<style scoped>\n",
       "    .dataframe tbody tr th:only-of-type {\n",
       "        vertical-align: middle;\n",
       "    }\n",
       "\n",
       "    .dataframe tbody tr th {\n",
       "        vertical-align: top;\n",
       "    }\n",
       "\n",
       "    .dataframe thead th {\n",
       "        text-align: right;\n",
       "    }\n",
       "</style>\n",
       "<table border=\"1\" class=\"dataframe\">\n",
       "  <thead>\n",
       "    <tr style=\"text-align: right;\">\n",
       "      <th></th>\n",
       "      <th>num_domaine</th>\n",
       "      <th>lbl_domaine</th>\n",
       "      <th>domaine</th>\n",
       "      <th>potentiel</th>\n",
       "    </tr>\n",
       "  </thead>\n",
       "  <tbody>\n",
       "    <tr>\n",
       "      <td>0</td>\n",
       "      <td>A</td>\n",
       "      <td>Agriculture et Pêche, Espaces naturels et Espa...</td>\n",
       "      <td>A : Agriculture et Pêche, Espaces naturels et ...</td>\n",
       "      <td>0.50</td>\n",
       "    </tr>\n",
       "    <tr>\n",
       "      <td>1</td>\n",
       "      <td>B</td>\n",
       "      <td>Arts et Façonnage d'ouvrages d'art</td>\n",
       "      <td>B : Arts et Façonnage d'ouvrages d'art</td>\n",
       "      <td>0.37</td>\n",
       "    </tr>\n",
       "    <tr>\n",
       "      <td>2</td>\n",
       "      <td>C</td>\n",
       "      <td>Banque, Assurance, Immobilier</td>\n",
       "      <td>C : Banque, Assurance, Immobilier</td>\n",
       "      <td>0.44</td>\n",
       "    </tr>\n",
       "    <tr>\n",
       "      <td>3</td>\n",
       "      <td>D</td>\n",
       "      <td>Commerce, Vente et Grande distribution</td>\n",
       "      <td>D : Commerce, Vente et Grande distribution</td>\n",
       "      <td>0.79</td>\n",
       "    </tr>\n",
       "    <tr>\n",
       "      <td>4</td>\n",
       "      <td>E</td>\n",
       "      <td>Communication, Média et Multimédia</td>\n",
       "      <td>E : Communication, Média et Multimédia</td>\n",
       "      <td>0.33</td>\n",
       "    </tr>\n",
       "    <tr>\n",
       "      <td>5</td>\n",
       "      <td>F</td>\n",
       "      <td>Construction, Bâtiment et Travaux publics</td>\n",
       "      <td>F : Construction, Bâtiment et Travaux publics</td>\n",
       "      <td>0.35</td>\n",
       "    </tr>\n",
       "    <tr>\n",
       "      <td>6</td>\n",
       "      <td>G</td>\n",
       "      <td>Hôtellerie-Restauration, Tourisme, Loisirs et ...</td>\n",
       "      <td>G : Hôtellerie-Restauration, Tourisme, Loisirs...</td>\n",
       "      <td>0.13</td>\n",
       "    </tr>\n",
       "    <tr>\n",
       "      <td>7</td>\n",
       "      <td>H</td>\n",
       "      <td>Industrie</td>\n",
       "      <td>H : Industrie</td>\n",
       "      <td>0.16</td>\n",
       "    </tr>\n",
       "    <tr>\n",
       "      <td>8</td>\n",
       "      <td>I</td>\n",
       "      <td>Installation et Maintenance</td>\n",
       "      <td>I : Installation et Maintenance</td>\n",
       "      <td>0.55</td>\n",
       "    </tr>\n",
       "    <tr>\n",
       "      <td>9</td>\n",
       "      <td>J</td>\n",
       "      <td>Santé</td>\n",
       "      <td>J : Santé</td>\n",
       "      <td>0.65</td>\n",
       "    </tr>\n",
       "    <tr>\n",
       "      <td>10</td>\n",
       "      <td>K</td>\n",
       "      <td>Services à la personne et à la collectivité</td>\n",
       "      <td>K : Services à la personne et à la collectivité</td>\n",
       "      <td>0.34</td>\n",
       "    </tr>\n",
       "    <tr>\n",
       "      <td>11</td>\n",
       "      <td>L</td>\n",
       "      <td>Spectacle</td>\n",
       "      <td>L : Spectacle</td>\n",
       "      <td>0.49</td>\n",
       "    </tr>\n",
       "    <tr>\n",
       "      <td>12</td>\n",
       "      <td>M</td>\n",
       "      <td>Support à l'entrepris</td>\n",
       "      <td>M : Support à l'entrepris</td>\n",
       "      <td>0.53</td>\n",
       "    </tr>\n",
       "    <tr>\n",
       "      <td>13</td>\n",
       "      <td>N</td>\n",
       "      <td>Transport et Logistique</td>\n",
       "      <td>N : Transport et Logistique</td>\n",
       "      <td>0.27</td>\n",
       "    </tr>\n",
       "  </tbody>\n",
       "</table>\n",
       "</div>"
      ],
      "text/plain": [
       "   num_domaine                                        lbl_domaine  \\\n",
       "0            A  Agriculture et Pêche, Espaces naturels et Espa...   \n",
       "1            B                 Arts et Façonnage d'ouvrages d'art   \n",
       "2            C                      Banque, Assurance, Immobilier   \n",
       "3            D             Commerce, Vente et Grande distribution   \n",
       "4            E                 Communication, Média et Multimédia   \n",
       "5            F          Construction, Bâtiment et Travaux publics   \n",
       "6            G  Hôtellerie-Restauration, Tourisme, Loisirs et ...   \n",
       "7            H                                          Industrie   \n",
       "8            I                        Installation et Maintenance   \n",
       "9            J                                              Santé   \n",
       "10           K        Services à la personne et à la collectivité   \n",
       "11           L                                          Spectacle   \n",
       "12           M                              Support à l'entrepris   \n",
       "13           N                            Transport et Logistique   \n",
       "\n",
       "                                              domaine  potentiel  \n",
       "0   A : Agriculture et Pêche, Espaces naturels et ...       0.50  \n",
       "1              B : Arts et Façonnage d'ouvrages d'art       0.37  \n",
       "2                   C : Banque, Assurance, Immobilier       0.44  \n",
       "3          D : Commerce, Vente et Grande distribution       0.79  \n",
       "4              E : Communication, Média et Multimédia       0.33  \n",
       "5       F : Construction, Bâtiment et Travaux publics       0.35  \n",
       "6   G : Hôtellerie-Restauration, Tourisme, Loisirs...       0.13  \n",
       "7                                       H : Industrie       0.16  \n",
       "8                     I : Installation et Maintenance       0.55  \n",
       "9                                           J : Santé       0.65  \n",
       "10    K : Services à la personne et à la collectivité       0.34  \n",
       "11                                      L : Spectacle       0.49  \n",
       "12                          M : Support à l'entrepris       0.53  \n",
       "13                        N : Transport et Logistique       0.27  "
      ]
     },
     "execution_count": 177,
     "metadata": {},
     "output_type": "execute_result"
    }
   ],
   "source": [
    "df5"
   ]
  },
  {
   "cell_type": "code",
   "execution_count": 218,
   "metadata": {},
   "outputs": [],
   "source": [
    "plt.rcParams['font.size'] = '16'"
   ]
  },
  {
   "cell_type": "code",
   "execution_count": 247,
   "metadata": {},
   "outputs": [],
   "source": [
    "def autolabel(bar_plot, ax, labels_list, values_list):\n",
    "    for idx, rect in enumerate(bar_plot):\n",
    "        if values_list is not None:\n",
    "            ax.text(-1, rect.get_y() + rect.get_height() / 3,\n",
    "                    labels_list[idx] + ' : ' + str(int(values_list[idx] * 100)) + '%')\n",
    "        else:\n",
    "            ax.text(-1, rect.get_y() + rect.get_height() / 3, labels_list[idx])\n",
    "\n",
    "def plot_grands_domaines(df):\n",
    "    fig, ax = plt.subplots(figsize=(10, 8))\n",
    "    color_list = ['teal', 'tomato', 'mediumseagreen', 'royalblue', 'gold', 'coral', 'deeppink'] * 2\n",
    "    labels_list = list(df.index)\n",
    "    labels_list = df.domaine.tolist()\n",
    "    values_list = df.potentiel.tolist()\n",
    "    bar_plot = plt.barh(labels_list, values_list, color=color_list)\n",
    "    ax.set_xticks([])\n",
    "    #ax.axis('off')\n",
    "\n",
    "    #autolabel(bar_plot, ax, labels_list, values_list)"
   ]
  },
  {
   "cell_type": "code",
   "execution_count": 250,
   "metadata": {
    "scrolled": true
   },
   "outputs": [
    {
     "data": {
      "image/png": "[encoded data removed]",
      "text/plain": [
       "<Figure size 720x576 with 1 Axes>"
      ]
     },
     "metadata": {
      "needs_background": "light"
     },
     "output_type": "display_data"
    }
   ],
   "source": [
    "plot_grands_domaines(df5.sort_values(by='potentiel'))"
   ]
  },
  {
   "cell_type": "code",
   "execution_count": 254,
   "metadata": {},
   "outputs": [],
   "source": [
    "df6 = pd.read_csv('../data/offers.csv', sep='|')"
   ]
  },
  {
   "cell_type": "code",
   "execution_count": 256,
   "metadata": {},
   "outputs": [],
   "source": [
    "df6 = df6[['dc_rome_id', 'dc_lblrome']]\n",
    "df6 = df6.drop_duplicates()"
   ]
  },
  {
   "cell_type": "code",
   "execution_count": 258,
   "metadata": {},
   "outputs": [],
   "source": [
    "df6.to_csv('../data/liste_rome.csv', sep='|', index=False)"
   ]
  },
  {
   "cell_type": "code",
   "execution_count": null,
   "metadata": {},
   "outputs": [],
   "source": []
  }
 ],
 "metadata": {
  "kernelspec": {
   "display_name": "Python 3.7.4 64-bit ('base': conda)",
   "language": "python",
   "name": "python37464bitbaseconda30ac596db5264243807f0a2e2ee9e691"
  },
  "language_info": {
   "codemirror_mode": {
    "name": "ipython",
    "version": 3
   },
   "file_extension": ".py",
   "mimetype": "text/x-python",
   "name": "python",
   "nbconvert_exporter": "python",
   "pygments_lexer": "ipython3",
   "version": "3.7.4"
  }
 },
 "nbformat": 4,
 "nbformat_minor": 2
}
