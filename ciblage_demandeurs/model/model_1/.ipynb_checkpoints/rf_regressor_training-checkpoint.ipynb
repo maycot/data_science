{
 "cells": [
  {
   "cell_type": "code",
   "execution_count": 1,
   "metadata": {},
   "outputs": [],
   "source": [
    "%matplotlib inline\n",
    "\n",
    "import sys\n",
    "sys.path.append('..')\n",
    "import os\n",
    "from time import time\n",
    "import pandas as pd\n",
    "from sklearn.pipeline import Pipeline, FeatureUnion\n",
    "from sklearn.metrics import mean_absolute_error, mean_squared_error\n",
    "\n",
    "from utils.pipeline_classes import (DataFrameSelectColumns,\n",
    "                                    DataFrameConvertNumeric,\n",
    "                                    DataFrameConvertOneHotEncoding)\n",
    "\n",
    "from utils.dataset_functions import (dump_df_to_csv,\n",
    "                                     build_train_valid_set)\n",
    "\n",
    "from random_forest_functions import (filter_train_valid_sets_on_homogeneous_categ_features,\n",
    "                                     build_X_y_arrays,\n",
    "                                     preprocess,\n",
    "                                     train_model_regressor,\n",
    "                                     predict,\n",
    "                                     plot_true_vs_pred,\n",
    "                                     results_report,\n",
    "                                     plot_feature_importances)"
   ]
  },
  {
   "cell_type": "markdown",
   "metadata": {},
   "source": [
    "####  Input"
   ]
  },
  {
   "cell_type": "code",
   "execution_count": 2,
   "metadata": {},
   "outputs": [],
   "source": [
    "target_feature = 'nb_ami_avant_30'\n",
    "\n",
    "categorical_feat_list = [\n",
    "    #'dc_typeaffichage_id',\n",
    "    #'dc_codepostallieutravail',\n",
    "    #'be19',\n",
    "    'departement',\n",
    "    #'domaine_pro',\n",
    "    #'dc_rome_id',\n",
    "    'dc_appelationrome_id',\n",
    "    'dc_typesalaire',\n",
    "    #'dc_typexperienceprof_id',\n",
    "    'dc_typecontrat_id',\n",
    "    'dc_typeservicerecrutement_1_id',\n",
    "    'dc_modepreselection_id',\n",
    "    'dc_categorie_contrat',\n",
    "    'dc_categorie_experience',\n",
    "    #'dc_categorie_dureetravailhebdoheures',\n",
    "    #'dc_specificite1',\n",
    "    #'dc_specificite2',\n",
    "    #'dc_specificite3',\n",
    "    #'nivfor',\n",
    "    #'cluster_labels',\n",
    "    'dc_trancheeffectifetab',\n",
    "    'dc_idcdifficulteeconomique_id',\n",
    "    #'mois'\n",
    "]\n",
    "\n",
    "numerical_feat_list = [\n",
    "    'salaire_annuel_normalise',\n",
    "    'ict1',\n",
    "    'ict3',\n",
    "    'ict10',\n",
    "    'prin1',\n",
    "    'prin2',\n",
    "    'prin3',\n",
    "    #'q33',\n",
    "    #'q66',\n",
    "\n",
    "]"
   ]
  },
  {
   "cell_type": "code",
   "execution_count": 3,
   "metadata": {},
   "outputs": [],
   "source": [
    "# Load datasets\n",
    "path = '../data/'\n",
    "filename = 'dataset.csv'\n",
    "split_percent = 0.8\n",
    "df = pd.read_csv(os.path.join(path, filename), sep='|', dtype='unicode', error_bad_lines=False)\n",
    "df.nb_ami_avant_30 = df.nb_ami_avant_30.astype(int)\n",
    "df.at[df.nb_ami_avant_30 > 30, 'nb_ami_avant_30'] = 30"
   ]
  },
  {
   "cell_type": "code",
   "execution_count": null,
   "metadata": {},
   "outputs": [],
   "source": [
    "# train / valid sets\n",
    "train_df, valid_df = build_train_valid_set(df, split_percent)\n",
    "train_df, valid_df = filter_train_valid_sets_on_homogeneous_categ_features(categorical_feat_list, train_df, valid_df)\n",
    "\n",
    "X_train, y_train = build_X_y_arrays(train_df, target_feature, categorical_feat_list, numerical_feat_list)\n",
    "X_valid, y_valid = build_X_y_arrays(valid_df, target_feature, categorical_feat_list, numerical_feat_list)"
   ]
  },
  {
   "cell_type": "markdown",
   "metadata": {},
   "source": [
    "#### Preprocess features"
   ]
  },
  {
   "cell_type": "code",
   "execution_count": 5,
   "metadata": {},
   "outputs": [],
   "source": [
    "num_pipeline = Pipeline([\n",
    "    ('col_selector', DataFrameSelectColumns(numerical_feat_list)),\n",
    "    ('num_encoder', DataFrameConvertNumeric()),\n",
    "])\n",
    "    \n",
    "cat_pipeline = Pipeline([\n",
    "    ('col_selector', DataFrameSelectColumns(categorical_feat_list)),\n",
    "    ('ohe_encoder', DataFrameConvertOneHotEncoding())\n",
    "])\n",
    "\n",
    "full_pipeline = FeatureUnion(transformer_list=[\n",
    "    ('num_pipeline', num_pipeline),\n",
    "    ('cat_pipeline', cat_pipeline)\n",
    "])\n",
    "\n",
    "X_train, X_valid = preprocess(X_train, X_valid, full_pipeline)"
   ]
  },
  {
   "cell_type": "markdown",
   "metadata": {},
   "source": [
    "#### Train models"
   ]
  },
  {
   "cell_type": "code",
   "execution_count": 6,
   "metadata": {},
   "outputs": [
    {
     "name": "stdout",
     "output_type": "stream",
     "text": [
      "Training done in 15 min.\n"
     ]
    }
   ],
   "source": [
    "start = time()\n",
    "n_estimators = 10\n",
    "n_jobs = None\n",
    "regr_fit = train_model_regressor(X_train, y_train, n_estimators, n_jobs)\n",
    "print(f'Training done in {round((time() - start) / 60)} min.')"
   ]
  },
  {
   "cell_type": "markdown",
   "metadata": {},
   "source": [
    "#### Predict on valid set"
   ]
  },
  {
   "cell_type": "code",
   "execution_count": 7,
   "metadata": {
    "scrolled": false
   },
   "outputs": [
    {
     "name": "stdout",
     "output_type": "stream",
     "text": [
      "mae: 6, mse: 80\n"
     ]
    }
   ],
   "source": [
    "y_pred = predict(regr_fit, X_valid)\n",
    "y_pred = y_pred.astype(int)\n",
    "best_mae = int(mean_absolute_error(y_valid, y_pred))\n",
    "best_mse = int(mean_squared_error(y_valid, y_pred))\n",
    "print(f'mae: {best_mae}, mse: {best_mse}')\n",
    "#plot_true_vs_pred(y_valid, y_pred)"
   ]
  },
  {
   "cell_type": "code",
   "execution_count": 8,
   "metadata": {},
   "outputs": [],
   "source": [
    "y_true = y_valid\n",
    "import numpy as np"
   ]
  },
  {
   "cell_type": "code",
   "execution_count": 9,
   "metadata": {},
   "outputs": [
    {
     "name": "stdout",
     "output_type": "stream",
     "text": [
      "Exact preds ratio: 12% (4788 / 39690)\n",
      "Exact preds distrib:  median: 1 - Q75: 3 - Q90: 7\n",
      "Exact zeros ratio: 40%\n",
      "True > Pred: count: 24810 - median: 6 - Q75: 12 - Q90: 19\n",
      "True < Pred: count: 10092 -  median: 3 -  Q75: 6 - Q90: 10\n"
     ]
    }
   ],
   "source": [
    "y_true = pd.DataFrame(y_true, columns=['true'])\n",
    "y_pred = pd.DataFrame(y_pred, columns=['pred'])\n",
    "result_df = y_true.join(y_pred)\n",
    "\n",
    "exact_preds = result_df[result_df.pred == result_df.true].pred\n",
    "exact_zeros = result_df[result_df.sum(axis=1) == 0]\n",
    "true_zeros = result_df[result_df.true == 0]\n",
    "print(f'Exact preds ratio: {round(len(exact_preds) / len(result_df) * 100)}% ({len(exact_preds)} / {len(result_df)})')\n",
    "print(f'Exact preds distrib:  median: {int(exact_preds.median())} - Q75: {int(np.percentile(exact_preds, 75))} - Q90: {int(np.percentile(exact_preds, 90))}')\n",
    "print(f'Exact zeros ratio: {round(len(exact_zeros) / len(true_zeros) * 100)}%')  \n",
    "not_pred_zeros = result_df[(result_df.true == 0) & (result_df.pred != 0)].pred\n",
    "diff_true_pred = result_df.true - result_df.pred\n",
    "pos_diff_true_pred = diff_true_pred[diff_true_pred > 0]\n",
    "neg_diff_true_pred = - diff_true_pred[diff_true_pred < 0]\n",
    "print(f'True > Pred: count: {len(pos_diff_true_pred)} - median: {int(pos_diff_true_pred.median())} - Q75: {int(np.percentile(pos_diff_true_pred, 75))} - Q90: {int(np.percentile(pos_diff_true_pred, 90))}')\n",
    "print(f'True < Pred: count: {len(neg_diff_true_pred)} -  median: {int(neg_diff_true_pred.median())} -  Q75: {int(np.percentile(neg_diff_true_pred, 75))} - Q90: {int(np.percentile(neg_diff_true_pred, 90))}')\n"
   ]
  },
  {
   "cell_type": "code",
   "execution_count": null,
   "metadata": {},
   "outputs": [],
   "source": []
  }
 ],
 "metadata": {
  "kernelspec": {
   "display_name": "Python 3",
   "language": "python",
   "name": "python3"
  },
  "language_info": {
   "codemirror_mode": {
    "name": "ipython",
    "version": 3
   },
   "file_extension": ".py",
   "mimetype": "text/x-python",
   "name": "python",
   "nbconvert_exporter": "python",
   "pygments_lexer": "ipython3",
   "version": "3.7.4"
  }
 },
 "nbformat": 4,
 "nbformat_minor": 2
}
