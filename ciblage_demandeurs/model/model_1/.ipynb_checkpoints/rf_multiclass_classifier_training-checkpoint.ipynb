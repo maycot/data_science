{
 "cells": [
  {
   "cell_type": "code",
   "execution_count": 28,
   "metadata": {},
   "outputs": [],
   "source": [
    "%matplotlib inline\n",
    "\n",
    "import sys\n",
    "sys.path.append('..')\n",
    "import os\n",
    "from time import time\n",
    "import itertools\n",
    "import pandas as pd\n",
    "import seaborn as sns\n",
    "import matplotlib.pyplot as plt\n",
    "import numpy as np\n",
    "from sklearn.pipeline import Pipeline, FeatureUnion\n",
    "from sklearn.metrics import confusion_matrix, classification_report\n",
    "\n",
    "from utils.pipeline_classes import (DataFrameSelectColumns,\n",
    "                                    DataFrameConvertNumeric,\n",
    "                                    DataFrameConvertOneHotEncoding)\n",
    "\n",
    "from utils.dataset_functions import (dump_df_to_csv,\n",
    "                                     build_train_valid_set)\n",
    "\n",
    "from random_forest_functions import (filter_train_valid_sets_on_homogeneous_categ_features,\n",
    "                                     build_X_y_arrays,\n",
    "                                     preprocess,\n",
    "                                     train_model_classifier,\n",
    "                                     predict,\n",
    "                                     plot_true_vs_pred,\n",
    "                                     plot_feature_importances)"
   ]
  },
  {
   "cell_type": "markdown",
   "metadata": {},
   "source": [
    "####  Input"
   ]
  },
  {
   "cell_type": "code",
   "execution_count": 63,
   "metadata": {},
   "outputs": [],
   "source": [
    "target_feature = 'nb_ami_avant_30_class'\n",
    "\n",
    "categorical_feat_list = [\n",
    "    #'dc_codepostallieutravail',\n",
    "    #'be19',\n",
    "    #'departement',\n",
    "    'domaine_pro',\n",
    "    #'dc_rome_id',\n",
    "    #'dc_appelationrome_id',\n",
    "    'dc_typesalaire',\n",
    "    'dc_typexperienceprof_id',\n",
    "    'dc_typecontrat_id',\n",
    "    'dc_typeservicerecrutement_1_id',\n",
    "    'dc_modepreselection_id',\n",
    "    'dc_typeaffichage_id',\n",
    "    'dc_categorie_contrat',\n",
    "    'dc_categorie_experience',\n",
    "    'dc_categorie_dureetravailhebdoheures',\n",
    "    'dc_topoffremanquecandidats',\n",
    "    #'dc_specificite1',\n",
    "    #'dc_specificite2',\n",
    "    #'dc_specificite3',\n",
    "    'dn_topdemanderappelrecrut',\n",
    "    'nivfor',\n",
    "    'cluster_labels',\n",
    "]\n",
    "\n",
    "numerical_feat_list = [\n",
    "    #'salaire_annuel_normalise',\n",
    "    'ict1', \n",
    "    'ict3',\n",
    "    'ict10',\n",
    "    'prin1', \n",
    "    'prin2',\n",
    "    'prin3',\n",
    "]\n",
    "\n",
    "# First ignore textual features\n",
    "textual_feat_list =  [\n",
    "    'dc_intituleoffre',\n",
    "    'dc_descriptifoffre',\n",
    "    'dc_descriptifentreprise',\n",
    "]"
   ]
  },
  {
   "cell_type": "code",
   "execution_count": 56,
   "metadata": {},
   "outputs": [],
   "source": [
    "# Load datasets\n",
    "path = '../data/'\n",
    "filename = 'dataset.csv'\n",
    "split_percent = 0.8\n",
    "df = pd.read_csv(os.path.join(path, filename), sep='|', dtype='unicode', error_bad_lines=False)"
   ]
  },
  {
   "cell_type": "code",
   "execution_count": 78,
   "metadata": {},
   "outputs": [
    {
     "name": "stdout",
     "output_type": "stream",
     "text": [
      "Before filtering : train set shape: (1177372, 44)        / valid set shape: (294343, 44)\n",
      "After filtering : train set shape: (1177361, 44)        / valid set shape: (294343, 44)\n"
     ]
    }
   ],
   "source": [
    "# train / valid sets\n",
    "df = df[df.annee == '2019']\n",
    "train_df, valid_df = build_train_valid_set(df, split_percent)\n",
    "train_df, valid_df = filter_train_valid_sets_on_homogeneous_categ_features(categorical_feat_list, train_df, valid_df)\n",
    "\n",
    "X_train, y_train = build_X_y_arrays(train_df, target_feature, categorical_feat_list, numerical_feat_list)\n",
    "X_valid, y_valid = build_X_y_arrays(valid_df, target_feature, categorical_feat_list, numerical_feat_list)"
   ]
  },
  {
   "cell_type": "code",
   "execution_count": 65,
   "metadata": {},
   "outputs": [],
   "source": [
    "X_train = X_train[::3]\n",
    "y_train = y_train[::3]"
   ]
  },
  {
   "cell_type": "markdown",
   "metadata": {},
   "source": [
    "#### Preprocess features"
   ]
  },
  {
   "cell_type": "code",
   "execution_count": 79,
   "metadata": {},
   "outputs": [],
   "source": [
    "num_pipeline = Pipeline([\n",
    "    ('col_selector', DataFrameSelectColumns(numerical_feat_list)),\n",
    "    ('num_encoder', DataFrameConvertNumeric()),\n",
    "])\n",
    "    \n",
    "cat_pipeline = Pipeline([\n",
    "    ('col_selector', DataFrameSelectColumns(categorical_feat_list)),\n",
    "    ('ohe_encoder', DataFrameConvertOneHotEncoding())\n",
    "])\n",
    "\n",
    "full_pipeline = FeatureUnion(transformer_list=[\n",
    "    ('cat_pipeline', cat_pipeline),\n",
    "    ('num_pipeline', num_pipeline)   \n",
    "])\n",
    "\n",
    "X_train, X_valid = preprocess(X_train, X_valid, full_pipeline)"
   ]
  },
  {
   "cell_type": "code",
   "execution_count": 86,
   "metadata": {},
   "outputs": [
    {
     "data": {
      "text/plain": [
       "(1177361, 294343)"
      ]
     },
     "execution_count": 86,
     "metadata": {},
     "output_type": "execute_result"
    }
   ],
   "source": [
    "len(X_train), len(X_valid)"
   ]
  },
  {
   "cell_type": "markdown",
   "metadata": {},
   "source": [
    "#### Train models"
   ]
  },
  {
   "cell_type": "code",
   "execution_count": 81,
   "metadata": {
    "scrolled": true
   },
   "outputs": [
    {
     "name": "stdout",
     "output_type": "stream",
     "text": [
      "Training done in 13 min.\n"
     ]
    }
   ],
   "source": [
    "start = time()\n",
    "n_estimators = 100\n",
    "n_jobs = None\n",
    "\n",
    "regr_fit = train_model_classifier(X_train, y_train, n_estimators, n_jobs)\n",
    "print(f'Training done in {round((time() - start) / 60)} min.')"
   ]
  },
  {
   "cell_type": "markdown",
   "metadata": {},
   "source": [
    "#### Predict on valid set"
   ]
  },
  {
   "cell_type": "code",
   "execution_count": 82,
   "metadata": {},
   "outputs": [
    {
     "name": "stdout",
     "output_type": "stream",
     "text": [
      "0.42\n"
     ]
    }
   ],
   "source": [
    "y_pred = predict(regr_fit, X_valid)\n",
    "score = regr_fit.score(X_valid, y_valid)\n",
    "print(round(score, 2))"
   ]
  },
  {
   "cell_type": "code",
   "execution_count": 83,
   "metadata": {},
   "outputs": [
    {
     "name": "stdout",
     "output_type": "stream",
     "text": [
      "              precision    recall  f1-score   support\n",
      "\n",
      "           0       0.46      0.70      0.56    108343\n",
      "           1       0.36      0.27      0.31     61100\n",
      "           2       0.28      0.18      0.22     55612\n",
      "           3       0.47      0.32      0.38     69288\n",
      "\n",
      "    accuracy                           0.42    294343\n",
      "   macro avg       0.39      0.37      0.36    294343\n",
      "weighted avg       0.41      0.42      0.40    294343\n",
      "\n",
      "[[76284 12117  9711 10231]\n",
      " [32058 16521  7015  5506]\n",
      " [27568  9455  9872  8717]\n",
      " [30250  7982  9149 21907]]\n"
     ]
    }
   ],
   "source": [
    "cm = confusion_matrix(y_valid, y_pred)\n",
    "print(classification_report(y_valid, y_pred))\n",
    "print(cm)"
   ]
  },
  {
   "cell_type": "code",
   "execution_count": 84,
   "metadata": {},
   "outputs": [
    {
     "data": {
      "image/png": "[encoded data removed]",
      "text/plain": [
       "<Figure size 360x360 with 2 Axes>"
      ]
     },
     "metadata": {},
     "output_type": "display_data"
    }
   ],
   "source": [
    "plt.figure(figsize=(5, 5))\n",
    "df_cm = pd.DataFrame(cm, range(4), range(4))\n",
    "sns.set(font_scale=0.8) # for label size\n",
    "sns.heatmap(df_cm, annot=True, cmap=\"Blues\") # font size\n",
    "\n",
    "plt.show()"
   ]
  },
  {
   "cell_type": "code",
   "execution_count": 85,
   "metadata": {
    "scrolled": false
   },
   "outputs": [
    {
     "name": "stdout",
     "output_type": "stream",
     "text": [
      "\n",
      "Feature ranking:\n",
      "1. feature 154 prin1 (0.063449)\n",
      "2. feature 155 prin2 (0.063230)\n",
      "3. feature 156 prin3 (0.062821)\n",
      "4. feature 152 ict3 (0.062528)\n",
      "5. feature 153 ict10 (0.062520)\n",
      "6. feature 151 ict1 (0.062518)\n",
      "7. feature 105 dc_typesalaire_M (0.017543)\n",
      "8. feature 125 dc_categorie_contrat_3 a 6 (0.017046)\n",
      "9. feature 135 dc_topoffremanquecandidats_O (0.016739)\n",
      "10. feature 134 dc_topoffremanquecandidats_N (0.015921)\n",
      "11. feature 104 dc_typesalaire_H (0.015036)\n",
      "12. feature 106 dc_typesalaire_X (0.013535)\n",
      "13. feature 124 dc_categorie_contrat_1 a 3 (0.013143)\n",
      "14. feature 141 nivfor_3 (0.011845)\n",
      "15. feature 129 dc_categorie_experience_1 a 3 ans (0.011630)\n",
      "16. feature 143 nivfor_5 (0.011585)\n",
      "17. feature 122 dc_categorie_contrat_+ 6 (0.011562)\n",
      "18. feature 131 dc_categorie_dureetravailhebdoheures_+ de 35h (0.011029)\n",
      "19. feature 34 domaine_pro_G16 (0.010482)\n",
      "20. feature 110 dc_typecontrat_id_CDD (0.010280)\n",
      "21. feature 120 dc_typeaffichage_id_N (0.010175)\n",
      "22. feature 142 nivfor_4 (0.009697)\n",
      "23. feature 132 dc_categorie_dureetravailhebdoheures_- de 24h (0.009091)\n",
      "24. feature 93 domaine_pro_N11 (0.008899)\n",
      "25. feature 99 domaine_pro_N41 (0.008804)\n",
      "26. feature 68 domaine_pro_K13 (0.008663)\n",
      "27. feature 14 domaine_pro_D12 (0.008479)\n",
      "28. feature 16 domaine_pro_D14 (0.008388)\n",
      "29. feature 116 dc_typeservicerecrutement_1_id_APP (0.008127)\n",
      "30. feature 13 domaine_pro_D11 (0.008113)\n",
      "31. feature 133 dc_categorie_dureetravailhebdoheures_24h a 35h (0.008056)\n",
      "32. feature 90 domaine_pro_M16 (0.007993)\n",
      "33. feature 36 domaine_pro_G18 (0.007989)\n",
      "34. feature 17 domaine_pro_D15 (0.007942)\n",
      "35. feature 119 dc_typeaffichage_id_A (0.007712)\n",
      "36. feature 103 dc_typesalaire_A (0.007700)\n",
      "37. feature 128 dc_categorie_experience_- de 1 an (0.007561)\n",
      "38. feature 126 dc_categorie_contrat_CDI (0.007425)\n",
      "39. feature 111 dc_typecontrat_id_CDI (0.007398)\n",
      "40. feature 86 domaine_pro_M12 (0.007129)\n",
      "41. feature 121 dc_typeaffichage_id_V (0.006993)\n",
      "42. feature 118 dc_modepreselection_id_C (0.006872)\n",
      "43. feature 147 cluster_labels_1 (0.006853)\n",
      "44. feature 27 domaine_pro_F16 (0.006769)\n",
      "45. feature 117 dc_modepreselection_id_A (0.006691)\n",
      "46. feature 108 dc_typexperienceprof_id_E (0.006581)\n",
      "47. feature 136 dn_topdemanderappelrecrut_0 (0.006486)\n",
      "48. feature 137 dn_topdemanderappelrecrut_1 (0.006466)\n",
      "49. feature 76 domaine_pro_K22 (0.006395)\n",
      "50. feature 127 dc_categorie_experience_+ de 3 ans (0.006390)\n",
      "51. feature 146 cluster_labels_0 (0.006353)\n",
      "52. feature 148 cluster_labels_2 (0.006002)\n",
      "53. feature 63 domaine_pro_J13 (0.005991)\n",
      "54. feature 115 dc_typeservicerecrutement_1_id_ACC (0.005969)\n",
      "55. feature 123 dc_categorie_contrat_- 1 (0.005889)\n",
      "56. feature 57 domaine_pro_I13 (0.005702)\n",
      "57. feature 113 dc_typecontrat_id_MIS (0.005408)\n",
      "58. feature 107 dc_typexperienceprof_id_D (0.005312)\n",
      "59. feature 130 dc_categorie_experience_Debutant (0.005258)\n",
      "60. feature 50 domaine_pro_H29 (0.005153)\n",
      "61. feature 60 domaine_pro_I16 (0.004803)\n",
      "62. feature 28 domaine_pro_F17 (0.004784)\n",
      "63. feature 67 domaine_pro_K12 (0.004684)\n",
      "64. feature 65 domaine_pro_J15 (0.004614)\n",
      "65. feature 144 nivfor_6 (0.004548)\n",
      "66. feature 30 domaine_pro_G12 (0.004501)\n",
      "67. feature 56 domaine_pro_I12 (0.004299)\n",
      "68. feature 79 domaine_pro_K25 (0.004252)\n",
      "69. feature 33 domaine_pro_G15 (0.004100)\n",
      "70. feature 89 domaine_pro_M15 (0.004004)\n",
      "71. feature 75 domaine_pro_K21 (0.003968)\n",
      "72. feature 114 dc_typecontrat_id_SAI (0.003967)\n",
      "73. feature 1 domaine_pro_A12 (0.003839)\n",
      "74. feature 92 domaine_pro_M18 (0.003381)\n",
      "75. feature 35 domaine_pro_G17 (0.003224)\n",
      "76. feature 22 domaine_pro_F11 (0.003136)\n",
      "77. feature 145 nivfor_7 (0.003037)\n",
      "78. feature 41 domaine_pro_H15 (0.003031)\n",
      "79. feature 53 domaine_pro_H33 (0.002943)\n",
      "80. feature 149 cluster_labels_3 (0.002813)\n",
      "81. feature 3 domaine_pro_A14 (0.002719)\n",
      "82. feature 38 domaine_pro_H12 (0.002681)\n",
      "83. feature 12 domaine_pro_C15 (0.002652)\n",
      "84. feature 95 domaine_pro_N13 (0.002644)\n",
      "85. feature 23 domaine_pro_F12 (0.002490)\n",
      "86. feature 43 domaine_pro_H22 (0.002278)\n",
      "87. feature 109 dc_typexperienceprof_id_S (0.002216)\n",
      "88. feature 15 domaine_pro_D13 (0.002184)\n",
      "89. feature 8 domaine_pro_C11 (0.002172)\n",
      "90. feature 58 domaine_pro_I14 (0.002160)\n",
      "91. feature 40 domaine_pro_H14 (0.002142)\n",
      "92. feature 24 domaine_pro_F13 (0.002097)\n",
      "93. feature 42 domaine_pro_H21 (0.002053)\n",
      "94. feature 32 domaine_pro_G14 (0.002004)\n",
      "95. feature 91 domaine_pro_M17 (0.001897)\n",
      "96. feature 77 domaine_pro_K23 (0.001868)\n",
      "97. feature 139 nivfor_1 (0.001798)\n",
      "98. feature 88 domaine_pro_M14 (0.001756)\n",
      "99. feature 73 domaine_pro_K18 (0.001565)\n",
      "100. feature 47 domaine_pro_H26 (0.001466)\n",
      "101. feature 18 domaine_pro_E11 (0.001423)\n",
      "102. feature 69 domaine_pro_K14 (0.001405)\n",
      "103. feature 74 domaine_pro_K19 (0.001300)\n",
      "104. feature 46 domaine_pro_H25 (0.001286)\n",
      "105. feature 9 domaine_pro_C12 (0.001276)\n",
      "106. feature 54 domaine_pro_H34 (0.001051)\n",
      "107. feature 55 domaine_pro_I11 (0.001026)\n",
      "108. feature 85 domaine_pro_M11 (0.000972)\n",
      "109. feature 150 cluster_labels_4 (0.000925)\n",
      "110. feature 37 domaine_pro_H11 (0.000909)\n",
      "111. feature 26 domaine_pro_F15 (0.000900)\n",
      "112. feature 100 domaine_pro_N42 (0.000882)\n",
      "113. feature 138 nivfor_0 (0.000845)\n",
      "114. feature 39 domaine_pro_H13 (0.000767)\n",
      "115. feature 64 domaine_pro_J14 (0.000705)\n",
      "116. feature 19 domaine_pro_E12 (0.000681)\n",
      "117. feature 20 domaine_pro_E13 (0.000676)\n",
      "118. feature 140 nivfor_2 (0.000634)\n",
      "119. feature 66 domaine_pro_K11 (0.000592)\n",
      "120. feature 31 domaine_pro_G13 (0.000586)\n",
      "121. feature 87 domaine_pro_M13 (0.000574)\n",
      "122. feature 94 domaine_pro_N12 (0.000548)\n",
      "123. feature 52 domaine_pro_H32 (0.000527)\n",
      "124. feature 44 domaine_pro_H23 (0.000502)\n",
      "125. feature 0 domaine_pro_A11 (0.000431)\n",
      "126. feature 71 domaine_pro_K16 (0.000426)\n",
      "127. feature 112 dc_typecontrat_id_DDI (0.000394)\n",
      "128. feature 45 domaine_pro_H24 (0.000382)\n",
      "129. feature 29 domaine_pro_G11 (0.000367)\n",
      "130. feature 2 domaine_pro_A13 (0.000346)\n",
      "131. feature 59 domaine_pro_I15 (0.000305)\n",
      "132. feature 11 domaine_pro_C14 (0.000297)\n",
      "133. feature 7 domaine_pro_B18 (0.000259)\n",
      "134. feature 10 domaine_pro_C13 (0.000223)\n",
      "135. feature 80 domaine_pro_K26 (0.000196)\n",
      "136. feature 62 domaine_pro_J12 (0.000194)\n",
      "137. feature 72 domaine_pro_K17 (0.000159)\n",
      "138. feature 84 domaine_pro_L15 (0.000108)\n",
      "139. feature 49 domaine_pro_H28 (0.000097)\n",
      "140. feature 48 domaine_pro_H27 (0.000076)\n",
      "141. feature 96 domaine_pro_N22 (0.000070)\n",
      "142. feature 21 domaine_pro_E14 (0.000069)\n",
      "143. feature 25 domaine_pro_F14 (0.000065)\n",
      "144. feature 6 domaine_pro_B16 (0.000063)\n",
      "145. feature 83 domaine_pro_L13 (0.000059)\n",
      "146. feature 51 domaine_pro_H31 (0.000053)\n",
      "147. feature 5 domaine_pro_B13 (0.000042)\n",
      "148. feature 70 domaine_pro_K15 (0.000040)\n",
      "149. feature 102 domaine_pro_N44 (0.000039)\n",
      "150. feature 61 domaine_pro_J11 (0.000038)\n",
      "151. feature 98 domaine_pro_N32 (0.000026)\n",
      "152. feature 82 domaine_pro_L12 (0.000022)\n",
      "153. feature 78 domaine_pro_K24 (0.000022)\n",
      "154. feature 101 domaine_pro_N43 (0.000021)\n",
      "155. feature 4 domaine_pro_A15 (0.000019)\n",
      "156. feature 81 domaine_pro_L11 (0.000013)\n",
      "157. feature 97 domaine_pro_N31 (0.000006)\n"
     ]
    },
    {
     "data": {
      "image/png": "[encoded data removed]",
      "text/plain": [
       "<Figure size 1440x576 with 1 Axes>"
      ]
     },
     "metadata": {},
     "output_type": "display_data"
    }
   ],
   "source": [
    "plot_feature_importances(regr_fit, train_df, X_train, categorical_feat_list, numerical_feat_list, num_pipeline, cat_pipeline)"
   ]
  },
  {
   "cell_type": "code",
   "execution_count": null,
   "metadata": {},
   "outputs": [],
   "source": []
  }
 ],
 "metadata": {
  "kernelspec": {
   "display_name": "Python 3",
   "language": "python",
   "name": "python3"
  },
  "language_info": {
   "codemirror_mode": {
    "name": "ipython",
    "version": 3
   },
   "file_extension": ".py",
   "mimetype": "text/x-python",
   "name": "python",
   "nbconvert_exporter": "python",
   "pygments_lexer": "ipython3",
   "version": "3.7.4"
  }
 },
 "nbformat": 4,
 "nbformat_minor": 2
}
