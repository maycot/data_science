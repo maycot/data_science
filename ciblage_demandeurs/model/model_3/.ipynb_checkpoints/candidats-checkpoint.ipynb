{
 "cells": [
  {
   "cell_type": "code",
   "execution_count": 11,
   "metadata": {},
   "outputs": [],
   "source": [
    "%matplotlib inline\n",
    "\n",
    "import sys\n",
    "sys.path.append('../..')\n",
    "import os\n",
    "from time import time\n",
    "import matplotlib.pyplot as plt\n",
    "import pandas as pd"
   ]
  },
  {
   "cell_type": "code",
   "execution_count": 12,
   "metadata": {},
   "outputs": [],
   "source": [
    "def load_csv_to_df(path: str, filename: str) -> pd.DataFrame:\n",
    "    \"\"\"Load csv file and return pandas dataframe.\n",
    "    \"\"\"\n",
    "    df = pd.read_csv(os.path.join(path, filename), sep='|')\n",
    "    return df"
   ]
  },
  {
   "cell_type": "code",
   "execution_count": 13,
   "metadata": {},
   "outputs": [],
   "source": [
    "PATH = './data/dep_92/'\n",
    "df1 = load_csv_to_df(PATH, 'candidats_M1805.csv')\n",
    "df2 = load_csv_to_df(PATH, 'candidats_K1302.csv')\n",
    "df3 = load_csv_to_df(PATH, 'candidats_N1103.csv')"
   ]
  },
  {
   "cell_type": "code",
   "execution_count": 14,
   "metadata": {},
   "outputs": [],
   "source": [
    "df = df1.append(df2).append(df3)"
   ]
  },
  {
   "cell_type": "code",
   "execution_count": 5,
   "metadata": {},
   "outputs": [],
   "source": [
    "df = df1.append(df3)"
   ]
  },
  {
   "cell_type": "code",
   "execution_count": 15,
   "metadata": {},
   "outputs": [],
   "source": [
    "df = df.sort_values(by=['rome', 'predict_proba'], ascending=False)"
   ]
  },
  {
   "cell_type": "code",
   "execution_count": 16,
   "metadata": {},
   "outputs": [],
   "source": [
    "df.to_csv('./data/dep_92/candidats.csv', index=False, sep='|')"
   ]
  },
  {
   "cell_type": "code",
   "execution_count": 8,
   "metadata": {},
   "outputs": [
    {
     "data": {
      "text/plain": [
       "ale                     0\n",
       "predict_proba           0\n",
       "kn_individu_national    0\n",
       "nom                     0\n",
       "prenom                  0\n",
       "age                     0\n",
       "sexe                    0\n",
       "datins                  0\n",
       "rome_profil             0\n",
       "last_pcs                0\n",
       "last_naf_affect         0\n",
       "last_naf_lieutrav       0\n",
       "lbl_rome                0\n",
       "lbl_pcs                 0\n",
       "lbl_naf_lieutrav        0\n",
       "lbl_naf_affect          0\n",
       "etab_dep                0\n",
       "residence_dep           0\n",
       "last_dipl               0\n",
       "rome                    0\n",
       "dtype: int64"
      ]
     },
     "execution_count": 8,
     "metadata": {},
     "output_type": "execute_result"
    }
   ],
   "source": [
    "df.isnull().sum()"
   ]
  },
  {
   "cell_type": "code",
   "execution_count": 9,
   "metadata": {},
   "outputs": [
    {
     "data": {
      "text/plain": [
       "(577, 20)"
      ]
     },
     "execution_count": 9,
     "metadata": {},
     "output_type": "execute_result"
    }
   ],
   "source": [
    "df.shape"
   ]
  },
  {
   "cell_type": "code",
   "execution_count": 10,
   "metadata": {},
   "outputs": [
    {
     "data": {
      "text/plain": [
       "((133, 20), (444, 20))"
      ]
     },
     "execution_count": 10,
     "metadata": {},
     "output_type": "execute_result"
    }
   ],
   "source": [
    "df1.shape, df3.shape"
   ]
  },
  {
   "cell_type": "code",
   "execution_count": null,
   "metadata": {},
   "outputs": [],
   "source": []
  }
 ],
 "metadata": {
  "kernelspec": {
   "display_name": "Python 3",
   "language": "python",
   "name": "python3"
  },
  "language_info": {
   "codemirror_mode": {
    "name": "ipython",
    "version": 3
   },
   "file_extension": ".py",
   "mimetype": "text/x-python",
   "name": "python",
   "nbconvert_exporter": "python",
   "pygments_lexer": "ipython3",
   "version": "3.7.4"
  }
 },
 "nbformat": 4,
 "nbformat_minor": 2
}
